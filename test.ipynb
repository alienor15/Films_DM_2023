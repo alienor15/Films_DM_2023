{
 "cells": [
  {
   "cell_type": "markdown",
   "id": "f26fe486",
   "metadata": {},
   "source": [
    "Webscraping\n"
   ]
  },
  {
   "cell_type": "code",
   "execution_count": 9,
   "id": "e19c65dc",
   "metadata": {},
   "outputs": [],
   "source": [
    "from IPython.display import display\n",
    "import json\n",
    "import pandas as pd\n",
    "pd.options.display.max_columns = None # Display all columns of a dataframe\n",
    "pd.options.display.max_rows = 700\n",
    "from pprint import pprint\n",
    "import re\n",
    "import requests\n",
    "from bs4 import BeautifulSoup\n",
    "#test"
   ]
  },
  {
   "cell_type": "code",
   "execution_count": 14,
   "id": "f03aa329",
   "metadata": {},
   "outputs": [
    {
     "name": "stderr",
     "output_type": "stream",
     "text": [
      "C:\\Users\\User\\AppData\\Local\\Temp\\ipykernel_24820\\2225407633.py:12: DeprecationWarning: executable_path has been deprecated, please pass in a Service object\n",
      "  driver = webdriver.Chrome(executable_path=os.path.join(path, 'chromedriver'))\n"
     ]
    }
   ],
   "source": [
    "import os\n",
    "import time\n",
    "from selenium import webdriver\n",
    "from selenium.webdriver.common.by import By\n",
    "from selenium.webdriver.support import expected_conditions as EC\n",
    "from selenium.webdriver.support.ui import WebDriverWait\n",
    "\n",
    "chromeOptions = webdriver.ChromeOptions()\n",
    "#it is way to add options\n",
    "\n",
    "path = 'C:/Users/User/Documents/Github/Films_DM_2023/chromedriver_win32/' #the path\n",
    "driver = webdriver.Chrome(executable_path=os.path.join(path, 'chromedriver'))\n",
    "\n",
    "driver.get(\"https://www.allocine.fr/\")\n",
    "time.sleep(1) # Let the user actually see something!"
   ]
  },
  {
   "cell_type": "code",
   "execution_count": 15,
   "id": "e14b0620",
   "metadata": {},
   "outputs": [],
   "source": [
    "#Accepter les cookies pour pouvoir passer à la suite\n",
    "cookies = driver.find_element(By.CLASS_NAME, \"jad_cmp_paywall_button-cookies\").click()\n",
    "time.sleep(2)\n"
   ]
  },
  {
   "cell_type": "code",
   "execution_count": 16,
   "id": "e99cd636",
   "metadata": {},
   "outputs": [],
   "source": [
    "#Aller dans films \n",
    "films = driver.find_element(By.XPATH, '//*[@title=\"Cinéma\"]').click()\n",
    "time.sleep(2)"
   ]
  },
  {
   "cell_type": "code",
   "execution_count": 17,
   "id": "e2856458",
   "metadata": {},
   "outputs": [],
   "source": [
    "#Aller dans films \n",
    "tous_films = driver.find_element(By.XPATH, '//*[@title=\"Tous les films\"]').click()\n",
    "time.sleep(2)\n"
   ]
  },
  {
   "cell_type": "code",
   "execution_count": 6,
   "id": "e5b33722",
   "metadata": {},
   "outputs": [],
   "source": [
    "# Assuming you already have the driver set up\n",
    "# driver = webdriver.Chrome(executable_path='path/to/chromedriver')\n",
    "\n",
    "# Corrigé par Adin -> Il faudrait créer une loop qui modifie le numéro ce qui marche\n",
    "#wait = WebDriverWait(driver, 20)\n",
    "#action = wait.until(EC.element_to_be_clickable((By.XPATH, '//a[@href=\"/films/genre-13027/\"]')))\n",
    "#action.click()"
   ]
  },
  {
   "cell_type": "code",
   "execution_count": 8,
   "id": "295ea931",
   "metadata": {},
   "outputs": [],
   "source": [
    "#Choisir les genres\n",
    "#action =driver.find_element(By.XPATH,'//*[@class=\"filter-entity-select\"]/div[1]/select/option[2]').click()"
   ]
  },
  {
   "cell_type": "code",
   "execution_count": 37,
   "id": "ba3fb05f",
   "metadata": {
    "scrolled": true
   },
   "outputs": [
    {
     "ename": "NoSuchElementException",
     "evalue": "Message: no such element: Unable to locate element: {\"method\":\"xpath\",\"selector\":\"./div[@class=\"meta-body-info\"]\"}\n  (Session info: chrome=111.0.5563.147)\nStacktrace:\nBacktrace:\n\t(No symbol) [0x00D637D3]\n\t(No symbol) [0x00CF8B81]\n\t(No symbol) [0x00BFB36D]\n\t(No symbol) [0x00C2D382]\n\t(No symbol) [0x00C2D4BB]\n\t(No symbol) [0x00C22C41]\n\t(No symbol) [0x00C4B464]\n\t(No symbol) [0x00C22B96]\n\t(No symbol) [0x00C4B774]\n\t(No symbol) [0x00C61215]\n\t(No symbol) [0x00C4B216]\n\t(No symbol) [0x00C20D97]\n\t(No symbol) [0x00C2253D]\n\tGetHandleVerifier [0x00FDABF2+2510930]\n\tGetHandleVerifier [0x01008EC1+2700065]\n\tGetHandleVerifier [0x0100C86C+2714828]\n\tGetHandleVerifier [0x00E13480+645344]\n\t(No symbol) [0x00D00FD2]\n\t(No symbol) [0x00D06C68]\n\t(No symbol) [0x00D06D4B]\n\t(No symbol) [0x00D10D6B]\n\tBaseThreadInitThunk [0x77277D69+25]\n\tRtlInitializeExceptionChain [0x7788BB9B+107]\n\tRtlClearBits [0x7788BB1F+191]\n",
     "output_type": "error",
     "traceback": [
      "\u001b[1;31m---------------------------------------------------------------------------\u001b[0m",
      "\u001b[1;31mNoSuchElementException\u001b[0m                    Traceback (most recent call last)",
      "\u001b[1;32m~\\AppData\\Local\\Temp\\ipykernel_24820\\1210836790.py\u001b[0m in \u001b[0;36m<module>\u001b[1;34m\u001b[0m\n\u001b[0;32m      7\u001b[0m     \u001b[0mdate_sortie\u001b[0m\u001b[1;33m=\u001b[0m \u001b[0meach_fiche\u001b[0m\u001b[1;33m.\u001b[0m\u001b[0mfind_element\u001b[0m\u001b[1;33m(\u001b[0m\u001b[0mBy\u001b[0m\u001b[1;33m.\u001b[0m\u001b[0mCLASS_NAME\u001b[0m\u001b[1;33m,\u001b[0m \u001b[1;34m\"date\"\u001b[0m\u001b[1;33m)\u001b[0m\u001b[1;33m.\u001b[0m\u001b[0mtext\u001b[0m\u001b[1;33m\u001b[0m\u001b[1;33m\u001b[0m\u001b[0m\n\u001b[0;32m      8\u001b[0m     \u001b[1;31m#durée\u001b[0m\u001b[1;33m\u001b[0m\u001b[1;33m\u001b[0m\u001b[0m\n\u001b[1;32m----> 9\u001b[1;33m     \u001b[0mduree\u001b[0m \u001b[1;33m=\u001b[0m \u001b[0meach_fiche\u001b[0m\u001b[1;33m.\u001b[0m\u001b[0mfind_element\u001b[0m\u001b[1;33m(\u001b[0m\u001b[0mBy\u001b[0m\u001b[1;33m.\u001b[0m\u001b[0mXPATH\u001b[0m\u001b[1;33m,\u001b[0m \u001b[1;34m'./div[@class=\"meta-body-info\"]'\u001b[0m\u001b[1;33m)\u001b[0m\u001b[1;33m.\u001b[0m\u001b[0mtext\u001b[0m\u001b[1;33m\u001b[0m\u001b[1;33m\u001b[0m\u001b[0m\n\u001b[0m\u001b[0;32m     10\u001b[0m     \u001b[1;31m#duree = each_fiche.find_element(By.CLASS_NAME, \"meta-body-info\").text\u001b[0m\u001b[1;33m\u001b[0m\u001b[1;33m\u001b[0m\u001b[0m\n\u001b[0;32m     11\u001b[0m     \u001b[1;31m#duree = each_fiche.find_element(By.CLASS_NAME, \"spacer\").text\u001b[0m\u001b[1;33m\u001b[0m\u001b[1;33m\u001b[0m\u001b[0m\n",
      "\u001b[1;32m~\\anaconda3\\lib\\site-packages\\selenium\\webdriver\\remote\\webelement.py\u001b[0m in \u001b[0;36mfind_element\u001b[1;34m(self, by, value)\u001b[0m\n\u001b[0;32m    423\u001b[0m             \u001b[0mvalue\u001b[0m \u001b[1;33m=\u001b[0m \u001b[1;34mf'[name=\"{value}\"]'\u001b[0m\u001b[1;33m\u001b[0m\u001b[1;33m\u001b[0m\u001b[0m\n\u001b[0;32m    424\u001b[0m \u001b[1;33m\u001b[0m\u001b[0m\n\u001b[1;32m--> 425\u001b[1;33m         \u001b[1;32mreturn\u001b[0m \u001b[0mself\u001b[0m\u001b[1;33m.\u001b[0m\u001b[0m_execute\u001b[0m\u001b[1;33m(\u001b[0m\u001b[0mCommand\u001b[0m\u001b[1;33m.\u001b[0m\u001b[0mFIND_CHILD_ELEMENT\u001b[0m\u001b[1;33m,\u001b[0m \u001b[1;33m{\u001b[0m\u001b[1;34m\"using\"\u001b[0m\u001b[1;33m:\u001b[0m \u001b[0mby\u001b[0m\u001b[1;33m,\u001b[0m \u001b[1;34m\"value\"\u001b[0m\u001b[1;33m:\u001b[0m \u001b[0mvalue\u001b[0m\u001b[1;33m}\u001b[0m\u001b[1;33m)\u001b[0m\u001b[1;33m[\u001b[0m\u001b[1;34m\"value\"\u001b[0m\u001b[1;33m]\u001b[0m\u001b[1;33m\u001b[0m\u001b[1;33m\u001b[0m\u001b[0m\n\u001b[0m\u001b[0;32m    426\u001b[0m \u001b[1;33m\u001b[0m\u001b[0m\n\u001b[0;32m    427\u001b[0m     \u001b[1;32mdef\u001b[0m \u001b[0mfind_elements\u001b[0m\u001b[1;33m(\u001b[0m\u001b[0mself\u001b[0m\u001b[1;33m,\u001b[0m \u001b[0mby\u001b[0m\u001b[1;33m=\u001b[0m\u001b[0mBy\u001b[0m\u001b[1;33m.\u001b[0m\u001b[0mID\u001b[0m\u001b[1;33m,\u001b[0m \u001b[0mvalue\u001b[0m\u001b[1;33m=\u001b[0m\u001b[1;32mNone\u001b[0m\u001b[1;33m)\u001b[0m \u001b[1;33m->\u001b[0m \u001b[0mlist\u001b[0m\u001b[1;33m[\u001b[0m\u001b[0mWebElement\u001b[0m\u001b[1;33m]\u001b[0m\u001b[1;33m:\u001b[0m\u001b[1;33m\u001b[0m\u001b[1;33m\u001b[0m\u001b[0m\n",
      "\u001b[1;32m~\\anaconda3\\lib\\site-packages\\selenium\\webdriver\\remote\\webelement.py\u001b[0m in \u001b[0;36m_execute\u001b[1;34m(self, command, params)\u001b[0m\n\u001b[0;32m    401\u001b[0m             \u001b[0mparams\u001b[0m \u001b[1;33m=\u001b[0m \u001b[1;33m{\u001b[0m\u001b[1;33m}\u001b[0m\u001b[1;33m\u001b[0m\u001b[1;33m\u001b[0m\u001b[0m\n\u001b[0;32m    402\u001b[0m         \u001b[0mparams\u001b[0m\u001b[1;33m[\u001b[0m\u001b[1;34m\"id\"\u001b[0m\u001b[1;33m]\u001b[0m \u001b[1;33m=\u001b[0m \u001b[0mself\u001b[0m\u001b[1;33m.\u001b[0m\u001b[0m_id\u001b[0m\u001b[1;33m\u001b[0m\u001b[1;33m\u001b[0m\u001b[0m\n\u001b[1;32m--> 403\u001b[1;33m         \u001b[1;32mreturn\u001b[0m \u001b[0mself\u001b[0m\u001b[1;33m.\u001b[0m\u001b[0m_parent\u001b[0m\u001b[1;33m.\u001b[0m\u001b[0mexecute\u001b[0m\u001b[1;33m(\u001b[0m\u001b[0mcommand\u001b[0m\u001b[1;33m,\u001b[0m \u001b[0mparams\u001b[0m\u001b[1;33m)\u001b[0m\u001b[1;33m\u001b[0m\u001b[1;33m\u001b[0m\u001b[0m\n\u001b[0m\u001b[0;32m    404\u001b[0m \u001b[1;33m\u001b[0m\u001b[0m\n\u001b[0;32m    405\u001b[0m     \u001b[1;32mdef\u001b[0m \u001b[0mfind_element\u001b[0m\u001b[1;33m(\u001b[0m\u001b[0mself\u001b[0m\u001b[1;33m,\u001b[0m \u001b[0mby\u001b[0m\u001b[1;33m=\u001b[0m\u001b[0mBy\u001b[0m\u001b[1;33m.\u001b[0m\u001b[0mID\u001b[0m\u001b[1;33m,\u001b[0m \u001b[0mvalue\u001b[0m\u001b[1;33m=\u001b[0m\u001b[1;32mNone\u001b[0m\u001b[1;33m)\u001b[0m \u001b[1;33m->\u001b[0m \u001b[0mWebElement\u001b[0m\u001b[1;33m:\u001b[0m\u001b[1;33m\u001b[0m\u001b[1;33m\u001b[0m\u001b[0m\n",
      "\u001b[1;32m~\\anaconda3\\lib\\site-packages\\selenium\\webdriver\\remote\\webdriver.py\u001b[0m in \u001b[0;36mexecute\u001b[1;34m(self, driver_command, params)\u001b[0m\n\u001b[0;32m    438\u001b[0m         \u001b[0mresponse\u001b[0m \u001b[1;33m=\u001b[0m \u001b[0mself\u001b[0m\u001b[1;33m.\u001b[0m\u001b[0mcommand_executor\u001b[0m\u001b[1;33m.\u001b[0m\u001b[0mexecute\u001b[0m\u001b[1;33m(\u001b[0m\u001b[0mdriver_command\u001b[0m\u001b[1;33m,\u001b[0m \u001b[0mparams\u001b[0m\u001b[1;33m)\u001b[0m\u001b[1;33m\u001b[0m\u001b[1;33m\u001b[0m\u001b[0m\n\u001b[0;32m    439\u001b[0m         \u001b[1;32mif\u001b[0m \u001b[0mresponse\u001b[0m\u001b[1;33m:\u001b[0m\u001b[1;33m\u001b[0m\u001b[1;33m\u001b[0m\u001b[0m\n\u001b[1;32m--> 440\u001b[1;33m             \u001b[0mself\u001b[0m\u001b[1;33m.\u001b[0m\u001b[0merror_handler\u001b[0m\u001b[1;33m.\u001b[0m\u001b[0mcheck_response\u001b[0m\u001b[1;33m(\u001b[0m\u001b[0mresponse\u001b[0m\u001b[1;33m)\u001b[0m\u001b[1;33m\u001b[0m\u001b[1;33m\u001b[0m\u001b[0m\n\u001b[0m\u001b[0;32m    441\u001b[0m             \u001b[0mresponse\u001b[0m\u001b[1;33m[\u001b[0m\u001b[1;34m\"value\"\u001b[0m\u001b[1;33m]\u001b[0m \u001b[1;33m=\u001b[0m \u001b[0mself\u001b[0m\u001b[1;33m.\u001b[0m\u001b[0m_unwrap_value\u001b[0m\u001b[1;33m(\u001b[0m\u001b[0mresponse\u001b[0m\u001b[1;33m.\u001b[0m\u001b[0mget\u001b[0m\u001b[1;33m(\u001b[0m\u001b[1;34m\"value\"\u001b[0m\u001b[1;33m,\u001b[0m \u001b[1;32mNone\u001b[0m\u001b[1;33m)\u001b[0m\u001b[1;33m)\u001b[0m\u001b[1;33m\u001b[0m\u001b[1;33m\u001b[0m\u001b[0m\n\u001b[0;32m    442\u001b[0m             \u001b[1;32mreturn\u001b[0m \u001b[0mresponse\u001b[0m\u001b[1;33m\u001b[0m\u001b[1;33m\u001b[0m\u001b[0m\n",
      "\u001b[1;32m~\\anaconda3\\lib\\site-packages\\selenium\\webdriver\\remote\\errorhandler.py\u001b[0m in \u001b[0;36mcheck_response\u001b[1;34m(self, response)\u001b[0m\n\u001b[0;32m    243\u001b[0m                 \u001b[0malert_text\u001b[0m \u001b[1;33m=\u001b[0m \u001b[0mvalue\u001b[0m\u001b[1;33m[\u001b[0m\u001b[1;34m\"alert\"\u001b[0m\u001b[1;33m]\u001b[0m\u001b[1;33m.\u001b[0m\u001b[0mget\u001b[0m\u001b[1;33m(\u001b[0m\u001b[1;34m\"text\"\u001b[0m\u001b[1;33m)\u001b[0m\u001b[1;33m\u001b[0m\u001b[1;33m\u001b[0m\u001b[0m\n\u001b[0;32m    244\u001b[0m             \u001b[1;32mraise\u001b[0m \u001b[0mexception_class\u001b[0m\u001b[1;33m(\u001b[0m\u001b[0mmessage\u001b[0m\u001b[1;33m,\u001b[0m \u001b[0mscreen\u001b[0m\u001b[1;33m,\u001b[0m \u001b[0mstacktrace\u001b[0m\u001b[1;33m,\u001b[0m \u001b[0malert_text\u001b[0m\u001b[1;33m)\u001b[0m  \u001b[1;31m# type: ignore[call-arg]  # mypy is not smart enough here\u001b[0m\u001b[1;33m\u001b[0m\u001b[1;33m\u001b[0m\u001b[0m\n\u001b[1;32m--> 245\u001b[1;33m         \u001b[1;32mraise\u001b[0m \u001b[0mexception_class\u001b[0m\u001b[1;33m(\u001b[0m\u001b[0mmessage\u001b[0m\u001b[1;33m,\u001b[0m \u001b[0mscreen\u001b[0m\u001b[1;33m,\u001b[0m \u001b[0mstacktrace\u001b[0m\u001b[1;33m)\u001b[0m\u001b[1;33m\u001b[0m\u001b[1;33m\u001b[0m\u001b[0m\n\u001b[0m",
      "\u001b[1;31mNoSuchElementException\u001b[0m: Message: no such element: Unable to locate element: {\"method\":\"xpath\",\"selector\":\"./div[@class=\"meta-body-info\"]\"}\n  (Session info: chrome=111.0.5563.147)\nStacktrace:\nBacktrace:\n\t(No symbol) [0x00D637D3]\n\t(No symbol) [0x00CF8B81]\n\t(No symbol) [0x00BFB36D]\n\t(No symbol) [0x00C2D382]\n\t(No symbol) [0x00C2D4BB]\n\t(No symbol) [0x00C22C41]\n\t(No symbol) [0x00C4B464]\n\t(No symbol) [0x00C22B96]\n\t(No symbol) [0x00C4B774]\n\t(No symbol) [0x00C61215]\n\t(No symbol) [0x00C4B216]\n\t(No symbol) [0x00C20D97]\n\t(No symbol) [0x00C2253D]\n\tGetHandleVerifier [0x00FDABF2+2510930]\n\tGetHandleVerifier [0x01008EC1+2700065]\n\tGetHandleVerifier [0x0100C86C+2714828]\n\tGetHandleVerifier [0x00E13480+645344]\n\t(No symbol) [0x00D00FD2]\n\t(No symbol) [0x00D06C68]\n\t(No symbol) [0x00D06D4B]\n\t(No symbol) [0x00D10D6B]\n\tBaseThreadInitThunk [0x77277D69+25]\n\tRtlInitializeExceptionChain [0x7788BB9B+107]\n\tRtlClearBits [0x7788BB1F+191]\n"
     ]
    }
   ],
   "source": [
    "#Avoir feuille par feuille\n",
    "films =[]\n",
    "for each_fiche in driver.find_elements(By.CLASS_NAME,'mdl'):\n",
    "    #titres\n",
    "    titre=each_fiche.find_element(By.CLASS_NAME, \"meta-title-link\").text\n",
    "    #date sortie\n",
    "    date_sortie= each_fiche.find_element(By.CLASS_NAME, \"date\").text\n",
    "    #durée\n",
    "    duree = each_fiche.find_element(By.XPATH, './div[@class=\"meta-body-info\"]').text\n",
    "    #duree = each_fiche.find_element(By.CLASS_NAME, \"meta-body-info\").text\n",
    "    #duree = each_fiche.find_element(By.CLASS_NAME, \"spacer\").text\n",
    "    #genre1\n",
    "    genre1= each_fiche.find_element(By.CLASS_NAME, \"xXx\").text #faut réussir à mettre plusieurs genres\n",
    "    #genre2\n",
    "    genre2= each_fiche.find_element(By.CLASS_NAME, \"xXx\").text #faut réussir à mettre plusieurs genres\n",
    "    #réalisateur\n",
    "    realisateur= each_fiche.find_element(By.CLASS_NAME, \"blue-link\").text\n",
    "    #évaluation presse\n",
    "    #note_presse= each_fiche.find_element(By.XPATH, \"./*[@class='rating-holder-3']\")# /div[1]/div/div/span\").text\n",
    "    \n",
    "    films.append({\n",
    "                \"Titre\": titre,\n",
    "                \"date_sortie\" : date_sortie,\n",
    "                \"duree\": duree,\n",
    "                \"genre1\": genre1,\n",
    "                \"genre2\": genre2,\n",
    "                \"réalisateur\": realisateur,\n",
    "                #\"note presse\": note_presse,\n",
    "            })\n",
    "#dataframe\n",
    "films_data = pd.DataFrame(films)\n",
    "films_data"
   ]
  },
  {
   "cell_type": "code",
   "execution_count": null,
   "id": "697eb9c6",
   "metadata": {},
   "outputs": [],
   "source": []
  }
 ],
 "metadata": {
  "kernelspec": {
   "display_name": "Python 3 (ipykernel)",
   "language": "python",
   "name": "python3"
  },
  "language_info": {
   "codemirror_mode": {
    "name": "ipython",
    "version": 3
   },
   "file_extension": ".py",
   "mimetype": "text/x-python",
   "name": "python",
   "nbconvert_exporter": "python",
   "pygments_lexer": "ipython3",
   "version": "3.9.13"
  }
 },
 "nbformat": 4,
 "nbformat_minor": 5
}
