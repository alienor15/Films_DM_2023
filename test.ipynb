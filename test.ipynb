{
 "cells": [
  {
   "cell_type": "markdown",
   "id": "f26fe486",
   "metadata": {},
   "source": [
    "Webscraping\n"
   ]
  },
  {
   "cell_type": "code",
   "execution_count": 86,
   "id": "e19c65dc",
   "metadata": {},
   "outputs": [],
   "source": [
    "from IPython.display import display\n",
    "import json\n",
    "import pandas as pd\n",
    "pd.options.display.max_columns = None # Display all columns of a dataframe\n",
    "pd.options.display.max_rows = 700\n",
    "from pprint import pprint\n",
    "import re\n",
    "import requests\n",
    "from bs4 import BeautifulSoup\n",
    "#test coucouc"
   ]
  },
  {
   "cell_type": "code",
   "execution_count": 87,
   "id": "f03aa329",
   "metadata": {},
   "outputs": [
    {
     "name": "stderr",
     "output_type": "stream",
     "text": [
      "C:\\Users\\User\\AppData\\Local\\Temp\\ipykernel_28192\\1295019404.py:12: DeprecationWarning: executable_path has been deprecated, please pass in a Service object\n",
      "  driver = webdriver.Chrome(executable_path=os.path.join(path, 'chromedriver'))\n"
     ]
    }
   ],
   "source": [
    "import os\n",
    "import time\n",
    "from selenium import webdriver\n",
    "from selenium.webdriver.common.by import By\n",
    "from selenium.webdriver.support import expected_conditions as EC\n",
    "from selenium.webdriver.support.ui import WebDriverWait\n",
    "\n",
    "chromeOptions = webdriver.ChromeOptions()\n",
    "#it is way to add options\n",
    "\n",
    "path = \"C:/Users/User/Documents/GitHub/Films_DM_2023/chromedriver_win32\" #the path\n",
    "driver = webdriver.Chrome(executable_path=os.path.join(path, 'chromedriver'))\n",
    "\n",
    "driver.get(\"https://www.allocine.fr/\")\n",
    "time.sleep(1) # Let the user actually see something!"
   ]
  },
  {
   "cell_type": "code",
   "execution_count": 88,
   "id": "e14b0620",
   "metadata": {},
   "outputs": [],
   "source": [
    "#Accepter les cookies pour pouvoir passer à la suite\n",
    "cookies = driver.find_element(By.CLASS_NAME, \"jad_cmp_paywall_button-cookies\").click()\n",
    "time.sleep(2)\n"
   ]
  },
  {
   "cell_type": "code",
   "execution_count": 89,
   "id": "e99cd636",
   "metadata": {},
   "outputs": [],
   "source": [
    "#Aller dans films \n",
    "films = driver.find_element(By.XPATH, '//*[@title=\"Cinéma\"]').click()\n",
    "time.sleep(2)"
   ]
  },
  {
   "cell_type": "code",
   "execution_count": 90,
   "id": "e2856458",
   "metadata": {},
   "outputs": [],
   "source": [
    "#Aller dans films \n",
    "tous_films = driver.find_element(By.XPATH, '//*[@title=\"Tous les films\"]').click()\n",
    "time.sleep(2)\n"
   ]
  },
  {
   "cell_type": "code",
   "execution_count": 6,
   "id": "e5b33722",
   "metadata": {},
   "outputs": [],
   "source": [
    "# Assuming you already have the driver set up\n",
    "# driver = webdriver.Chrome(executable_path='path/to/chromedriver')\n",
    "\n",
    "# Corrigé par Adin -> Il faudrait créer une loop qui modifie le numéro ce qui marche\n",
    "#wait = WebDriverWait(driver, 20)\n",
    "#action = wait.until(EC.element_to_be_clickable((By.XPATH, '//a[@href=\"/films/genre-13027/\"]')))\n",
    "#action.click()"
   ]
  },
  {
   "cell_type": "code",
   "execution_count": 8,
   "id": "295ea931",
   "metadata": {},
   "outputs": [],
   "source": [
    "#Choisir les genres\n",
    "#action =driver.find_element(By.XPATH,'//*[@class=\"filter-entity-select\"]/div[1]/select/option[2]').click()"
   ]
  },
  {
   "cell_type": "code",
   "execution_count": 92,
   "id": "ba3fb05f",
   "metadata": {
    "scrolled": true
   },
   "outputs": [
    {
     "ename": "StaleElementReferenceException",
     "evalue": "Message: stale element reference: element is not attached to the page document\n  (Session info: chrome=112.0.5615.138)\nStacktrace:\nBacktrace:\n\tGetHandleVerifier [0x010FDCE3+50899]\n\t(No symbol) [0x0108E111]\n\t(No symbol) [0x00F95588]\n\t(No symbol) [0x00F97EDB]\n\t(No symbol) [0x00F97DB0]\n\t(No symbol) [0x00F98030]\n\t(No symbol) [0x00FC0552]\n\t(No symbol) [0x00FC0AFB]\n\t(No symbol) [0x00FB8F71]\n\t(No symbol) [0x00FDB944]\n\t(No symbol) [0x00FB8EC6]\n\t(No symbol) [0x00FDBC54]\n\t(No symbol) [0x00FEE01C]\n\t(No symbol) [0x00FDB6F6]\n\t(No symbol) [0x00FB7708]\n\t(No symbol) [0x00FB886D]\n\tGetHandleVerifier [0x01363EAE+2566302]\n\tGetHandleVerifier [0x013992B1+2784417]\n\tGetHandleVerifier [0x0139327C+2759788]\n\tGetHandleVerifier [0x01195740+672048]\n\t(No symbol) [0x01098872]\n\t(No symbol) [0x010941C8]\n\t(No symbol) [0x010942AB]\n\t(No symbol) [0x010871B7]\n\tBaseThreadInitThunk [0x753D7D69+25]\n\tRtlInitializeExceptionChain [0x76F3B74B+107]\n\tRtlClearBits [0x76F3B6CF+191]\n",
     "output_type": "error",
     "traceback": [
      "\u001b[1;31m---------------------------------------------------------------------------\u001b[0m",
      "\u001b[1;31mStaleElementReferenceException\u001b[0m            Traceback (most recent call last)",
      "\u001b[1;32m~\\AppData\\Local\\Temp\\ipykernel_28192\\2013145790.py\u001b[0m in \u001b[0;36m<module>\u001b[1;34m\u001b[0m\n\u001b[0;32m      3\u001b[0m \u001b[1;32mfor\u001b[0m \u001b[0meach_fiche\u001b[0m \u001b[1;32min\u001b[0m \u001b[0mdriver\u001b[0m\u001b[1;33m.\u001b[0m\u001b[0mfind_elements\u001b[0m\u001b[1;33m(\u001b[0m\u001b[0mBy\u001b[0m\u001b[1;33m.\u001b[0m\u001b[0mCLASS_NAME\u001b[0m\u001b[1;33m,\u001b[0m\u001b[1;34m'mdl'\u001b[0m\u001b[1;33m)\u001b[0m\u001b[1;33m:\u001b[0m\u001b[1;33m\u001b[0m\u001b[1;33m\u001b[0m\u001b[0m\n\u001b[0;32m      4\u001b[0m     \u001b[1;31m#titres\u001b[0m\u001b[1;33m\u001b[0m\u001b[1;33m\u001b[0m\u001b[0m\n\u001b[1;32m----> 5\u001b[1;33m     \u001b[0mtitre\u001b[0m\u001b[1;33m=\u001b[0m\u001b[0meach_fiche\u001b[0m\u001b[1;33m.\u001b[0m\u001b[0mfind_element\u001b[0m\u001b[1;33m(\u001b[0m\u001b[0mBy\u001b[0m\u001b[1;33m.\u001b[0m\u001b[0mCLASS_NAME\u001b[0m\u001b[1;33m,\u001b[0m \u001b[1;34m\"meta-title-link\"\u001b[0m\u001b[1;33m)\u001b[0m\u001b[1;33m.\u001b[0m\u001b[0mtext\u001b[0m\u001b[1;33m\u001b[0m\u001b[1;33m\u001b[0m\u001b[0m\n\u001b[0m\u001b[0;32m      6\u001b[0m     \u001b[1;31m#date sortie\u001b[0m\u001b[1;33m\u001b[0m\u001b[1;33m\u001b[0m\u001b[0m\n\u001b[0;32m      7\u001b[0m     \u001b[0mdate_sortie\u001b[0m\u001b[1;33m=\u001b[0m \u001b[0meach_fiche\u001b[0m\u001b[1;33m.\u001b[0m\u001b[0mfind_element\u001b[0m\u001b[1;33m(\u001b[0m\u001b[0mBy\u001b[0m\u001b[1;33m.\u001b[0m\u001b[0mCLASS_NAME\u001b[0m\u001b[1;33m,\u001b[0m \u001b[1;34m\"date\"\u001b[0m\u001b[1;33m)\u001b[0m\u001b[1;33m.\u001b[0m\u001b[0mtext\u001b[0m\u001b[1;33m\u001b[0m\u001b[1;33m\u001b[0m\u001b[0m\n",
      "\u001b[1;32m~\\anaconda3\\lib\\site-packages\\selenium\\webdriver\\remote\\webelement.py\u001b[0m in \u001b[0;36mfind_element\u001b[1;34m(self, by, value)\u001b[0m\n\u001b[0;32m    423\u001b[0m             \u001b[0mvalue\u001b[0m \u001b[1;33m=\u001b[0m \u001b[1;34mf'[name=\"{value}\"]'\u001b[0m\u001b[1;33m\u001b[0m\u001b[1;33m\u001b[0m\u001b[0m\n\u001b[0;32m    424\u001b[0m \u001b[1;33m\u001b[0m\u001b[0m\n\u001b[1;32m--> 425\u001b[1;33m         \u001b[1;32mreturn\u001b[0m \u001b[0mself\u001b[0m\u001b[1;33m.\u001b[0m\u001b[0m_execute\u001b[0m\u001b[1;33m(\u001b[0m\u001b[0mCommand\u001b[0m\u001b[1;33m.\u001b[0m\u001b[0mFIND_CHILD_ELEMENT\u001b[0m\u001b[1;33m,\u001b[0m \u001b[1;33m{\u001b[0m\u001b[1;34m\"using\"\u001b[0m\u001b[1;33m:\u001b[0m \u001b[0mby\u001b[0m\u001b[1;33m,\u001b[0m \u001b[1;34m\"value\"\u001b[0m\u001b[1;33m:\u001b[0m \u001b[0mvalue\u001b[0m\u001b[1;33m}\u001b[0m\u001b[1;33m)\u001b[0m\u001b[1;33m[\u001b[0m\u001b[1;34m\"value\"\u001b[0m\u001b[1;33m]\u001b[0m\u001b[1;33m\u001b[0m\u001b[1;33m\u001b[0m\u001b[0m\n\u001b[0m\u001b[0;32m    426\u001b[0m \u001b[1;33m\u001b[0m\u001b[0m\n\u001b[0;32m    427\u001b[0m     \u001b[1;32mdef\u001b[0m \u001b[0mfind_elements\u001b[0m\u001b[1;33m(\u001b[0m\u001b[0mself\u001b[0m\u001b[1;33m,\u001b[0m \u001b[0mby\u001b[0m\u001b[1;33m=\u001b[0m\u001b[0mBy\u001b[0m\u001b[1;33m.\u001b[0m\u001b[0mID\u001b[0m\u001b[1;33m,\u001b[0m \u001b[0mvalue\u001b[0m\u001b[1;33m=\u001b[0m\u001b[1;32mNone\u001b[0m\u001b[1;33m)\u001b[0m \u001b[1;33m->\u001b[0m \u001b[0mlist\u001b[0m\u001b[1;33m[\u001b[0m\u001b[0mWebElement\u001b[0m\u001b[1;33m]\u001b[0m\u001b[1;33m:\u001b[0m\u001b[1;33m\u001b[0m\u001b[1;33m\u001b[0m\u001b[0m\n",
      "\u001b[1;32m~\\anaconda3\\lib\\site-packages\\selenium\\webdriver\\remote\\webelement.py\u001b[0m in \u001b[0;36m_execute\u001b[1;34m(self, command, params)\u001b[0m\n\u001b[0;32m    401\u001b[0m             \u001b[0mparams\u001b[0m \u001b[1;33m=\u001b[0m \u001b[1;33m{\u001b[0m\u001b[1;33m}\u001b[0m\u001b[1;33m\u001b[0m\u001b[1;33m\u001b[0m\u001b[0m\n\u001b[0;32m    402\u001b[0m         \u001b[0mparams\u001b[0m\u001b[1;33m[\u001b[0m\u001b[1;34m\"id\"\u001b[0m\u001b[1;33m]\u001b[0m \u001b[1;33m=\u001b[0m \u001b[0mself\u001b[0m\u001b[1;33m.\u001b[0m\u001b[0m_id\u001b[0m\u001b[1;33m\u001b[0m\u001b[1;33m\u001b[0m\u001b[0m\n\u001b[1;32m--> 403\u001b[1;33m         \u001b[1;32mreturn\u001b[0m \u001b[0mself\u001b[0m\u001b[1;33m.\u001b[0m\u001b[0m_parent\u001b[0m\u001b[1;33m.\u001b[0m\u001b[0mexecute\u001b[0m\u001b[1;33m(\u001b[0m\u001b[0mcommand\u001b[0m\u001b[1;33m,\u001b[0m \u001b[0mparams\u001b[0m\u001b[1;33m)\u001b[0m\u001b[1;33m\u001b[0m\u001b[1;33m\u001b[0m\u001b[0m\n\u001b[0m\u001b[0;32m    404\u001b[0m \u001b[1;33m\u001b[0m\u001b[0m\n\u001b[0;32m    405\u001b[0m     \u001b[1;32mdef\u001b[0m \u001b[0mfind_element\u001b[0m\u001b[1;33m(\u001b[0m\u001b[0mself\u001b[0m\u001b[1;33m,\u001b[0m \u001b[0mby\u001b[0m\u001b[1;33m=\u001b[0m\u001b[0mBy\u001b[0m\u001b[1;33m.\u001b[0m\u001b[0mID\u001b[0m\u001b[1;33m,\u001b[0m \u001b[0mvalue\u001b[0m\u001b[1;33m=\u001b[0m\u001b[1;32mNone\u001b[0m\u001b[1;33m)\u001b[0m \u001b[1;33m->\u001b[0m \u001b[0mWebElement\u001b[0m\u001b[1;33m:\u001b[0m\u001b[1;33m\u001b[0m\u001b[1;33m\u001b[0m\u001b[0m\n",
      "\u001b[1;32m~\\anaconda3\\lib\\site-packages\\selenium\\webdriver\\remote\\webdriver.py\u001b[0m in \u001b[0;36mexecute\u001b[1;34m(self, driver_command, params)\u001b[0m\n\u001b[0;32m    438\u001b[0m         \u001b[0mresponse\u001b[0m \u001b[1;33m=\u001b[0m \u001b[0mself\u001b[0m\u001b[1;33m.\u001b[0m\u001b[0mcommand_executor\u001b[0m\u001b[1;33m.\u001b[0m\u001b[0mexecute\u001b[0m\u001b[1;33m(\u001b[0m\u001b[0mdriver_command\u001b[0m\u001b[1;33m,\u001b[0m \u001b[0mparams\u001b[0m\u001b[1;33m)\u001b[0m\u001b[1;33m\u001b[0m\u001b[1;33m\u001b[0m\u001b[0m\n\u001b[0;32m    439\u001b[0m         \u001b[1;32mif\u001b[0m \u001b[0mresponse\u001b[0m\u001b[1;33m:\u001b[0m\u001b[1;33m\u001b[0m\u001b[1;33m\u001b[0m\u001b[0m\n\u001b[1;32m--> 440\u001b[1;33m             \u001b[0mself\u001b[0m\u001b[1;33m.\u001b[0m\u001b[0merror_handler\u001b[0m\u001b[1;33m.\u001b[0m\u001b[0mcheck_response\u001b[0m\u001b[1;33m(\u001b[0m\u001b[0mresponse\u001b[0m\u001b[1;33m)\u001b[0m\u001b[1;33m\u001b[0m\u001b[1;33m\u001b[0m\u001b[0m\n\u001b[0m\u001b[0;32m    441\u001b[0m             \u001b[0mresponse\u001b[0m\u001b[1;33m[\u001b[0m\u001b[1;34m\"value\"\u001b[0m\u001b[1;33m]\u001b[0m \u001b[1;33m=\u001b[0m \u001b[0mself\u001b[0m\u001b[1;33m.\u001b[0m\u001b[0m_unwrap_value\u001b[0m\u001b[1;33m(\u001b[0m\u001b[0mresponse\u001b[0m\u001b[1;33m.\u001b[0m\u001b[0mget\u001b[0m\u001b[1;33m(\u001b[0m\u001b[1;34m\"value\"\u001b[0m\u001b[1;33m,\u001b[0m \u001b[1;32mNone\u001b[0m\u001b[1;33m)\u001b[0m\u001b[1;33m)\u001b[0m\u001b[1;33m\u001b[0m\u001b[1;33m\u001b[0m\u001b[0m\n\u001b[0;32m    442\u001b[0m             \u001b[1;32mreturn\u001b[0m \u001b[0mresponse\u001b[0m\u001b[1;33m\u001b[0m\u001b[1;33m\u001b[0m\u001b[0m\n",
      "\u001b[1;32m~\\anaconda3\\lib\\site-packages\\selenium\\webdriver\\remote\\errorhandler.py\u001b[0m in \u001b[0;36mcheck_response\u001b[1;34m(self, response)\u001b[0m\n\u001b[0;32m    243\u001b[0m                 \u001b[0malert_text\u001b[0m \u001b[1;33m=\u001b[0m \u001b[0mvalue\u001b[0m\u001b[1;33m[\u001b[0m\u001b[1;34m\"alert\"\u001b[0m\u001b[1;33m]\u001b[0m\u001b[1;33m.\u001b[0m\u001b[0mget\u001b[0m\u001b[1;33m(\u001b[0m\u001b[1;34m\"text\"\u001b[0m\u001b[1;33m)\u001b[0m\u001b[1;33m\u001b[0m\u001b[1;33m\u001b[0m\u001b[0m\n\u001b[0;32m    244\u001b[0m             \u001b[1;32mraise\u001b[0m \u001b[0mexception_class\u001b[0m\u001b[1;33m(\u001b[0m\u001b[0mmessage\u001b[0m\u001b[1;33m,\u001b[0m \u001b[0mscreen\u001b[0m\u001b[1;33m,\u001b[0m \u001b[0mstacktrace\u001b[0m\u001b[1;33m,\u001b[0m \u001b[0malert_text\u001b[0m\u001b[1;33m)\u001b[0m  \u001b[1;31m# type: ignore[call-arg]  # mypy is not smart enough here\u001b[0m\u001b[1;33m\u001b[0m\u001b[1;33m\u001b[0m\u001b[0m\n\u001b[1;32m--> 245\u001b[1;33m         \u001b[1;32mraise\u001b[0m \u001b[0mexception_class\u001b[0m\u001b[1;33m(\u001b[0m\u001b[0mmessage\u001b[0m\u001b[1;33m,\u001b[0m \u001b[0mscreen\u001b[0m\u001b[1;33m,\u001b[0m \u001b[0mstacktrace\u001b[0m\u001b[1;33m)\u001b[0m\u001b[1;33m\u001b[0m\u001b[1;33m\u001b[0m\u001b[0m\n\u001b[0m",
      "\u001b[1;31mStaleElementReferenceException\u001b[0m: Message: stale element reference: element is not attached to the page document\n  (Session info: chrome=112.0.5615.138)\nStacktrace:\nBacktrace:\n\tGetHandleVerifier [0x010FDCE3+50899]\n\t(No symbol) [0x0108E111]\n\t(No symbol) [0x00F95588]\n\t(No symbol) [0x00F97EDB]\n\t(No symbol) [0x00F97DB0]\n\t(No symbol) [0x00F98030]\n\t(No symbol) [0x00FC0552]\n\t(No symbol) [0x00FC0AFB]\n\t(No symbol) [0x00FB8F71]\n\t(No symbol) [0x00FDB944]\n\t(No symbol) [0x00FB8EC6]\n\t(No symbol) [0x00FDBC54]\n\t(No symbol) [0x00FEE01C]\n\t(No symbol) [0x00FDB6F6]\n\t(No symbol) [0x00FB7708]\n\t(No symbol) [0x00FB886D]\n\tGetHandleVerifier [0x01363EAE+2566302]\n\tGetHandleVerifier [0x013992B1+2784417]\n\tGetHandleVerifier [0x0139327C+2759788]\n\tGetHandleVerifier [0x01195740+672048]\n\t(No symbol) [0x01098872]\n\t(No symbol) [0x010941C8]\n\t(No symbol) [0x010942AB]\n\t(No symbol) [0x010871B7]\n\tBaseThreadInitThunk [0x753D7D69+25]\n\tRtlInitializeExceptionChain [0x76F3B74B+107]\n\tRtlClearBits [0x76F3B6CF+191]\n"
     ]
    }
   ],
   "source": [
    "#Avoir feuille par feuille\n",
    "films =[]\n",
    "for each_fiche in driver.find_elements(By.CLASS_NAME,'mdl'):\n",
    "    #titres\n",
    "    titre=each_fiche.find_element(By.CLASS_NAME, \"meta-title-link\").text\n",
    "    #date sortie\n",
    "    date_sortie= each_fiche.find_element(By.CLASS_NAME, \"date\").text\n",
    "    #durée\n",
    "    duree =each_fiche.find_element(By.CLASS_NAME, \"meta-body-info\").text.split('/')[1]\n",
    "    #element =each_fiche.execute_script(\"return document.evaluate('//div[@class=\\\"meta-body-item meta-body-info\\\"]/text()[3]', document).iterateNext().textContent;\")\n",
    "    #/span/following-sibling::text()[1]\n",
    "    #element= each_fiche.find_element(By.CLASS_NAME, 'spacer')\n",
    "    #duree =element.find_element(By.XPATH, \"//text()[1]\").text\n",
    "    #duree= element.find_element(By.XPATH,(\"following-sibling::*[2]\")).text #The following sibling2 makes that we get the date and not the /\n",
    "    #//*[@id=\"content-layout\"]/section[3]/div[2]/ul/li[1]/div/div[1]/div[1]/div[1]/text()[1]\n",
    "    #Genres\n",
    "    info =each_fiche.find_element(By.CLASS_NAME, \"meta-body-info\")\n",
    "    genres= info.find_elements(By.CLASS_NAME, \"xXx\")\n",
    "    #genre1\n",
    "    genre_1 = genres[0].text\n",
    "    #Genre 2 et 3\n",
    "    if len(genres)>=2:\n",
    "        genre_2= genres[1].text\n",
    "        if len(genres)==3:\n",
    "            genre_3=genres[2].text\n",
    "        else:\n",
    "            genre_3=\"NA\"\n",
    "    else:\n",
    "        genre_2=\"NA\"\n",
    "        \n",
    "    #réalisateur\n",
    "    #realisateur= each_fiche.find_element(By.CLASS_NAME, \"blue-link\").text\n",
    "    direction =each_fiche.find_element(By.CLASS_NAME, \"meta-body-direction\")\n",
    "    realisateurs= direction.find_elements(By.CSS_SELECTOR, \"a\")\n",
    "    #realisateur1\n",
    "    real_1 = realisateurs[0].text\n",
    "    #real 2\n",
    "    if len(realisateurs)>=2:\n",
    "        real_2= realisateurs[1].text\n",
    "    else:\n",
    "        real_2=\"NA\"\n",
    "    \n",
    "    #Actors\n",
    "    casting =each_fiche.find_element(By.CLASS_NAME, \"meta-body-actor\")\n",
    "    actors= casting.find_elements(By.CSS_SELECTOR, \"a\")\n",
    "    #actor1\n",
    "    actor_1 = actors[0].text\n",
    "    #real 2\n",
    "    if len(actors)>=2:\n",
    "        actor_2= actors[1].text\n",
    "        if len(actors)==3:\n",
    "            actor_3=actors[2].text\n",
    "        else:\n",
    "            actor_3=\"NA\"\n",
    "    else:\n",
    "        actor_2=\"NA\"\n",
    "        \n",
    "    #Ratings\n",
    "    #First initiate them in NA if does not exist\n",
    "    note_spectateur=\"NA\"\n",
    "    note_presse=\"NA\"\n",
    "    #Look for the notes\n",
    "    rating = each_fiche.find_element(By.CLASS_NAME, \"rating-holder\")\n",
    "    ratings=rating.find_elements(By.CLASS_NAME,'rating-item-content')\n",
    "    #For the first one\n",
    "    rating_type_1=ratings[0].find_element(By.CSS_SELECTOR,'a').text\n",
    "    if(rating_type_1== \"PRESSE\"):\n",
    "        note_presse= ratings[0].find_element(By.CLASS_NAME, 'stareval-note').text\n",
    "    elif(rating_type_1== \"SPECTATEURS\"):\n",
    "        note_spectateur= ratings[0].find_element(By.CLASS_NAME, 'stareval-note').text   \n",
    "        \n",
    "    #For the second one\n",
    "    rating_type_2=ratings[1].find_element(By.CSS_SELECTOR,'a').text\n",
    "    if(rating_type_2== \"SPECTATEURS\"):\n",
    "        note_spectateur= ratings[1].find_element(By.CLASS_NAME, 'stareval-note').text \n",
    "    elif(rating_type_2== \"PRESSE\"): #sometimes it is not in the same order\n",
    "        note_presse= ratings[1].find_element(By.CLASS_NAME, 'stareval-note').text\n",
    "    \n",
    "    #Now we are done with the information we could find on the first page => click on the link for each film and go see more info\n",
    "    link= each_fiche.find_element(By.CLASS_NAME, \"meta-title-link\")\n",
    "    link.click\n",
    "    time.sleep(5)\n",
    "    \n",
    "    #infos = driver.find_element(By.CLASS_NAME,'meta-body')\n",
    "    #Scenaristes\n",
    "    #scenar = infos.find_element(By.XPATH,'div[3]')\n",
    "    #scenarists = scenar.find_elements(By.CSS_SELECTOR,'a')\n",
    "    #scenar_1 = scenarists[0].text\n",
    "    \n",
    "    driver.back()\n",
    "    films.append({\n",
    "                \"Titre\": titre,\n",
    "                \"date_sortie\" : date_sortie,\n",
    "                \"duree\": duree,\n",
    "                \"genre1\": genre_1,\n",
    "                \"genre2\": genre_2,\n",
    "                \"genre3\": genre_3,\n",
    "                \"réalisateur_1\": real_1,\n",
    "                \"réalisateur_2\": real_2,\n",
    "                \"actor_1\": actor_1,\n",
    "                \"actor 2\": actor_2,\n",
    "                \"actor 3\": actor_3,\n",
    "                \"note_presse\": note_presse,\n",
    "                \"note spectators\": note_spectateur,\n",
    "                #\"scenar\":scenar_1,\n",
    "            })\n",
    "    \n",
    "#if len(genres)==3:\n",
    "            #genre_3= genres[2].text\n",
    "        #else:\n",
    "            #genre_3=\"NA\"\n",
    "#dataframe\n",
    "films_data = pd.DataFrame(films)\n",
    "films_data"
   ]
  },
  {
   "cell_type": "code",
   "execution_count": null,
   "id": "697eb9c6",
   "metadata": {},
   "outputs": [],
   "source": []
  },
  {
   "cell_type": "code",
   "execution_count": null,
   "id": "aa9943d6",
   "metadata": {},
   "outputs": [],
   "source": []
  }
 ],
 "metadata": {
  "kernelspec": {
   "display_name": "Python 3 (ipykernel)",
   "language": "python",
   "name": "python3"
  },
  "language_info": {
   "codemirror_mode": {
    "name": "ipython",
    "version": 3
   },
   "file_extension": ".py",
   "mimetype": "text/x-python",
   "name": "python",
   "nbconvert_exporter": "python",
   "pygments_lexer": "ipython3",
   "version": "3.9.13"
  }
 },
 "nbformat": 4,
 "nbformat_minor": 5
}
