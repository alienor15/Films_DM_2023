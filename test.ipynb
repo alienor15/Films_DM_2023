{
 "cells": [
  {
   "cell_type": "markdown",
   "id": "f26fe486",
   "metadata": {},
   "source": [
    "Webscraping\n"
   ]
  },
  {
   "cell_type": "code",
   "execution_count": 1,
   "id": "e19c65dc",
   "metadata": {},
   "outputs": [],
   "source": [
    "from IPython.display import display\n",
    "import json\n",
    "import pandas as pd\n",
    "pd.options.display.max_columns = None # Display all columns of a dataframe\n",
    "pd.options.display.max_rows = 700\n",
    "from pprint import pprint\n",
    "import re\n",
    "import requests\n",
    "from bs4 import BeautifulSoup"
   ]
  },
  {
   "cell_type": "code",
   "execution_count": 2,
   "id": "f03aa329",
   "metadata": {},
   "outputs": [
    {
     "name": "stderr",
     "output_type": "stream",
     "text": [
      "/var/folders/p4/cd9gxlsj3lbcl88d9_4y7hf00000gn/T/ipykernel_71483/4193159110.py:10: DeprecationWarning: executable_path has been deprecated, please pass in a Service object\n",
      "  driver = webdriver.Chrome(executable_path=os.path.join(path, 'chromedriver'))\n"
     ]
    }
   ],
   "source": [
    "import os\n",
    "import time\n",
    "from selenium import webdriver\n",
    "from selenium.webdriver.common.by import By\n",
    "\n",
    "chromeOptions = webdriver.ChromeOptions()\n",
    "#it is way to add options\n",
    "\n",
    "path = 'C:/Users/User/Documents/Github/Films_DM_2023/chromedriver_win32/' #the path\n",
    "driver = webdriver.Chrome(executable_path=os.path.join(path, 'chromedriver'))\n",
    "\n",
    "driver.get(\"https://www.allocine.fr/\")\n",
    "time.sleep(1) # Let the user actually see something!"
   ]
  },
  {
   "cell_type": "code",
   "execution_count": 3,
   "id": "e14b0620",
   "metadata": {},
   "outputs": [],
   "source": [
    "#Accepter les cookies pour pouvoir passer à la suite\n",
    "cookies = driver.find_element(By.CLASS_NAME, \"jad_cmp_paywall_button-cookies\").click()\n",
    "time.sleep(2)\n"
   ]
  },
  {
   "cell_type": "code",
   "execution_count": 4,
   "id": "e99cd636",
   "metadata": {},
   "outputs": [],
   "source": [
    "#Aller dans films \n",
    "films = driver.find_element(By.XPATH, '//*[@title=\"Cinéma\"]').click()\n",
    "time.sleep(2)"
   ]
  },
  {
   "cell_type": "code",
   "execution_count": 13,
   "id": "e2856458",
   "metadata": {},
   "outputs": [],
   "source": [
    "#Aller dans films \n",
    "tous_films = driver.find_element(By.XPATH, '//*[@title=\"Tous les films\"]').click()\n",
    "time.sleep(2)\n"
   ]
  },
  {
   "cell_type": "code",
   "execution_count": 21,
   "id": "e5b33722",
   "metadata": {},
   "outputs": [],
   "source": [
    "from selenium.webdriver.support import expected_conditions as EC\n",
    "from selenium.webdriver.support.ui import WebDriverWait\n",
    "# Assuming you already have the driver set up\n",
    "# driver = webdriver.Chrome(executable_path='path/to/chromedriver')\n",
    "\n",
    "# Corrigé par Adin -> Il faudrait créer une loop qui modifie le numéro ce qui marche\n",
    "wait = WebDriverWait(driver, 10)\n",
    "action = wait.until(EC.element_to_be_clickable((By.XPATH, '//a[@href=\"/films/genre-13027/\"]')))\n",
    "action.click()"
   ]
  },
  {
   "cell_type": "code",
   "execution_count": 16,
   "id": "295ea931",
   "metadata": {},
   "outputs": [
    {
     "ename": "ElementNotInteractableException",
     "evalue": "Message: element not interactable: Element is not currently visible and may not be manipulated\n  (Session info: chrome=112.0.5615.49)\nStacktrace:\n0   chromedriver                        0x000000010532dae8 chromedriver + 4958952\n1   chromedriver                        0x00000001053257b3 chromedriver + 4925363\n2   chromedriver                        0x0000000104ee71d6 chromedriver + 475606\n3   chromedriver                        0x0000000104eeb274 chromedriver + 492148\n4   chromedriver                        0x0000000104eeae56 chromedriver + 491094\n5   chromedriver                        0x0000000104eeb2fc chromedriver + 492284\n6   chromedriver                        0x0000000104f30550 chromedriver + 775504\n7   chromedriver                        0x0000000104f1dbca chromedriver + 699338\n8   chromedriver                        0x0000000104f50c12 chromedriver + 908306\n9   chromedriver                        0x0000000104f1c8f1 chromedriver + 694513\n10  chromedriver                        0x0000000104f50dce chromedriver + 908750\n11  chromedriver                        0x0000000104f6c25b chromedriver + 1020507\n12  chromedriver                        0x0000000104f509e3 chromedriver + 907747\n13  chromedriver                        0x0000000104f1aaef chromedriver + 686831\n14  chromedriver                        0x0000000104f1c00e chromedriver + 692238\n15  chromedriver                        0x00000001052e99ad chromedriver + 4680109\n16  chromedriver                        0x00000001052eec12 chromedriver + 4701202\n17  chromedriver                        0x00000001052f579f chromedriver + 4728735\n18  chromedriver                        0x00000001052efb7a chromedriver + 4705146\n19  chromedriver                        0x00000001052c227e chromedriver + 4518526\n20  chromedriver                        0x000000010530f908 chromedriver + 4835592\n21  chromedriver                        0x000000010530fa87 chromedriver + 4835975\n22  chromedriver                        0x000000010531f00f chromedriver + 4898831\n23  libsystem_pthread.dylib             0x00007ff818ef4259 _pthread_start + 125\n24  libsystem_pthread.dylib             0x00007ff818eefc7b thread_start + 15\n",
     "output_type": "error",
     "traceback": [
      "\u001b[0;31m---------------------------------------------------------------------------\u001b[0m",
      "\u001b[0;31mElementNotInteractableException\u001b[0m           Traceback (most recent call last)",
      "\u001b[0;32m/var/folders/p4/cd9gxlsj3lbcl88d9_4y7hf00000gn/T/ipykernel_71483/3460572360.py\u001b[0m in \u001b[0;36m<module>\u001b[0;34m\u001b[0m\n\u001b[1;32m      1\u001b[0m \u001b[0;31m#Choisir les genres\u001b[0m\u001b[0;34m\u001b[0m\u001b[0;34m\u001b[0m\u001b[0m\n\u001b[0;32m----> 2\u001b[0;31m \u001b[0maction\u001b[0m \u001b[0;34m=\u001b[0m\u001b[0mdriver\u001b[0m\u001b[0;34m.\u001b[0m\u001b[0mfind_element\u001b[0m\u001b[0;34m(\u001b[0m\u001b[0mBy\u001b[0m\u001b[0;34m.\u001b[0m\u001b[0mXPATH\u001b[0m\u001b[0;34m,\u001b[0m\u001b[0;34m'//*[@id=\"filter-entity-mobile\"]/div/div[1]/select/option[2]'\u001b[0m\u001b[0;34m)\u001b[0m\u001b[0;34m.\u001b[0m\u001b[0mclick\u001b[0m\u001b[0;34m(\u001b[0m\u001b[0;34m)\u001b[0m\u001b[0;34m\u001b[0m\u001b[0;34m\u001b[0m\u001b[0m\n\u001b[0m",
      "\u001b[0;32m~/opt/anaconda3/lib/python3.9/site-packages/selenium/webdriver/remote/webelement.py\u001b[0m in \u001b[0;36mclick\u001b[0;34m(self)\u001b[0m\n\u001b[1;32m     91\u001b[0m     \u001b[0;32mdef\u001b[0m \u001b[0mclick\u001b[0m\u001b[0;34m(\u001b[0m\u001b[0mself\u001b[0m\u001b[0;34m)\u001b[0m \u001b[0;34m->\u001b[0m \u001b[0;32mNone\u001b[0m\u001b[0;34m:\u001b[0m\u001b[0;34m\u001b[0m\u001b[0;34m\u001b[0m\u001b[0m\n\u001b[1;32m     92\u001b[0m         \u001b[0;34m\"\"\"Clicks the element.\"\"\"\u001b[0m\u001b[0;34m\u001b[0m\u001b[0;34m\u001b[0m\u001b[0m\n\u001b[0;32m---> 93\u001b[0;31m         \u001b[0mself\u001b[0m\u001b[0;34m.\u001b[0m\u001b[0m_execute\u001b[0m\u001b[0;34m(\u001b[0m\u001b[0mCommand\u001b[0m\u001b[0;34m.\u001b[0m\u001b[0mCLICK_ELEMENT\u001b[0m\u001b[0;34m)\u001b[0m\u001b[0;34m\u001b[0m\u001b[0;34m\u001b[0m\u001b[0m\n\u001b[0m\u001b[1;32m     94\u001b[0m \u001b[0;34m\u001b[0m\u001b[0m\n\u001b[1;32m     95\u001b[0m     \u001b[0;32mdef\u001b[0m \u001b[0msubmit\u001b[0m\u001b[0;34m(\u001b[0m\u001b[0mself\u001b[0m\u001b[0;34m)\u001b[0m\u001b[0;34m:\u001b[0m\u001b[0;34m\u001b[0m\u001b[0;34m\u001b[0m\u001b[0m\n",
      "\u001b[0;32m~/opt/anaconda3/lib/python3.9/site-packages/selenium/webdriver/remote/webelement.py\u001b[0m in \u001b[0;36m_execute\u001b[0;34m(self, command, params)\u001b[0m\n\u001b[1;32m    401\u001b[0m             \u001b[0mparams\u001b[0m \u001b[0;34m=\u001b[0m \u001b[0;34m{\u001b[0m\u001b[0;34m}\u001b[0m\u001b[0;34m\u001b[0m\u001b[0;34m\u001b[0m\u001b[0m\n\u001b[1;32m    402\u001b[0m         \u001b[0mparams\u001b[0m\u001b[0;34m[\u001b[0m\u001b[0;34m\"id\"\u001b[0m\u001b[0;34m]\u001b[0m \u001b[0;34m=\u001b[0m \u001b[0mself\u001b[0m\u001b[0;34m.\u001b[0m\u001b[0m_id\u001b[0m\u001b[0;34m\u001b[0m\u001b[0;34m\u001b[0m\u001b[0m\n\u001b[0;32m--> 403\u001b[0;31m         \u001b[0;32mreturn\u001b[0m \u001b[0mself\u001b[0m\u001b[0;34m.\u001b[0m\u001b[0m_parent\u001b[0m\u001b[0;34m.\u001b[0m\u001b[0mexecute\u001b[0m\u001b[0;34m(\u001b[0m\u001b[0mcommand\u001b[0m\u001b[0;34m,\u001b[0m \u001b[0mparams\u001b[0m\u001b[0;34m)\u001b[0m\u001b[0;34m\u001b[0m\u001b[0;34m\u001b[0m\u001b[0m\n\u001b[0m\u001b[1;32m    404\u001b[0m \u001b[0;34m\u001b[0m\u001b[0m\n\u001b[1;32m    405\u001b[0m     \u001b[0;32mdef\u001b[0m \u001b[0mfind_element\u001b[0m\u001b[0;34m(\u001b[0m\u001b[0mself\u001b[0m\u001b[0;34m,\u001b[0m \u001b[0mby\u001b[0m\u001b[0;34m=\u001b[0m\u001b[0mBy\u001b[0m\u001b[0;34m.\u001b[0m\u001b[0mID\u001b[0m\u001b[0;34m,\u001b[0m \u001b[0mvalue\u001b[0m\u001b[0;34m=\u001b[0m\u001b[0;32mNone\u001b[0m\u001b[0;34m)\u001b[0m \u001b[0;34m->\u001b[0m \u001b[0mWebElement\u001b[0m\u001b[0;34m:\u001b[0m\u001b[0;34m\u001b[0m\u001b[0;34m\u001b[0m\u001b[0m\n",
      "\u001b[0;32m~/opt/anaconda3/lib/python3.9/site-packages/selenium/webdriver/remote/webdriver.py\u001b[0m in \u001b[0;36mexecute\u001b[0;34m(self, driver_command, params)\u001b[0m\n\u001b[1;32m    438\u001b[0m         \u001b[0mresponse\u001b[0m \u001b[0;34m=\u001b[0m \u001b[0mself\u001b[0m\u001b[0;34m.\u001b[0m\u001b[0mcommand_executor\u001b[0m\u001b[0;34m.\u001b[0m\u001b[0mexecute\u001b[0m\u001b[0;34m(\u001b[0m\u001b[0mdriver_command\u001b[0m\u001b[0;34m,\u001b[0m \u001b[0mparams\u001b[0m\u001b[0;34m)\u001b[0m\u001b[0;34m\u001b[0m\u001b[0;34m\u001b[0m\u001b[0m\n\u001b[1;32m    439\u001b[0m         \u001b[0;32mif\u001b[0m \u001b[0mresponse\u001b[0m\u001b[0;34m:\u001b[0m\u001b[0;34m\u001b[0m\u001b[0;34m\u001b[0m\u001b[0m\n\u001b[0;32m--> 440\u001b[0;31m             \u001b[0mself\u001b[0m\u001b[0;34m.\u001b[0m\u001b[0merror_handler\u001b[0m\u001b[0;34m.\u001b[0m\u001b[0mcheck_response\u001b[0m\u001b[0;34m(\u001b[0m\u001b[0mresponse\u001b[0m\u001b[0;34m)\u001b[0m\u001b[0;34m\u001b[0m\u001b[0;34m\u001b[0m\u001b[0m\n\u001b[0m\u001b[1;32m    441\u001b[0m             \u001b[0mresponse\u001b[0m\u001b[0;34m[\u001b[0m\u001b[0;34m\"value\"\u001b[0m\u001b[0;34m]\u001b[0m \u001b[0;34m=\u001b[0m \u001b[0mself\u001b[0m\u001b[0;34m.\u001b[0m\u001b[0m_unwrap_value\u001b[0m\u001b[0;34m(\u001b[0m\u001b[0mresponse\u001b[0m\u001b[0;34m.\u001b[0m\u001b[0mget\u001b[0m\u001b[0;34m(\u001b[0m\u001b[0;34m\"value\"\u001b[0m\u001b[0;34m,\u001b[0m \u001b[0;32mNone\u001b[0m\u001b[0;34m)\u001b[0m\u001b[0;34m)\u001b[0m\u001b[0;34m\u001b[0m\u001b[0;34m\u001b[0m\u001b[0m\n\u001b[1;32m    442\u001b[0m             \u001b[0;32mreturn\u001b[0m \u001b[0mresponse\u001b[0m\u001b[0;34m\u001b[0m\u001b[0;34m\u001b[0m\u001b[0m\n",
      "\u001b[0;32m~/opt/anaconda3/lib/python3.9/site-packages/selenium/webdriver/remote/errorhandler.py\u001b[0m in \u001b[0;36mcheck_response\u001b[0;34m(self, response)\u001b[0m\n\u001b[1;32m    243\u001b[0m                 \u001b[0malert_text\u001b[0m \u001b[0;34m=\u001b[0m \u001b[0mvalue\u001b[0m\u001b[0;34m[\u001b[0m\u001b[0;34m\"alert\"\u001b[0m\u001b[0;34m]\u001b[0m\u001b[0;34m.\u001b[0m\u001b[0mget\u001b[0m\u001b[0;34m(\u001b[0m\u001b[0;34m\"text\"\u001b[0m\u001b[0;34m)\u001b[0m\u001b[0;34m\u001b[0m\u001b[0;34m\u001b[0m\u001b[0m\n\u001b[1;32m    244\u001b[0m             \u001b[0;32mraise\u001b[0m \u001b[0mexception_class\u001b[0m\u001b[0;34m(\u001b[0m\u001b[0mmessage\u001b[0m\u001b[0;34m,\u001b[0m \u001b[0mscreen\u001b[0m\u001b[0;34m,\u001b[0m \u001b[0mstacktrace\u001b[0m\u001b[0;34m,\u001b[0m \u001b[0malert_text\u001b[0m\u001b[0;34m)\u001b[0m  \u001b[0;31m# type: ignore[call-arg]  # mypy is not smart enough here\u001b[0m\u001b[0;34m\u001b[0m\u001b[0;34m\u001b[0m\u001b[0m\n\u001b[0;32m--> 245\u001b[0;31m         \u001b[0;32mraise\u001b[0m \u001b[0mexception_class\u001b[0m\u001b[0;34m(\u001b[0m\u001b[0mmessage\u001b[0m\u001b[0;34m,\u001b[0m \u001b[0mscreen\u001b[0m\u001b[0;34m,\u001b[0m \u001b[0mstacktrace\u001b[0m\u001b[0;34m)\u001b[0m\u001b[0;34m\u001b[0m\u001b[0;34m\u001b[0m\u001b[0m\n\u001b[0m",
      "\u001b[0;31mElementNotInteractableException\u001b[0m: Message: element not interactable: Element is not currently visible and may not be manipulated\n  (Session info: chrome=112.0.5615.49)\nStacktrace:\n0   chromedriver                        0x000000010532dae8 chromedriver + 4958952\n1   chromedriver                        0x00000001053257b3 chromedriver + 4925363\n2   chromedriver                        0x0000000104ee71d6 chromedriver + 475606\n3   chromedriver                        0x0000000104eeb274 chromedriver + 492148\n4   chromedriver                        0x0000000104eeae56 chromedriver + 491094\n5   chromedriver                        0x0000000104eeb2fc chromedriver + 492284\n6   chromedriver                        0x0000000104f30550 chromedriver + 775504\n7   chromedriver                        0x0000000104f1dbca chromedriver + 699338\n8   chromedriver                        0x0000000104f50c12 chromedriver + 908306\n9   chromedriver                        0x0000000104f1c8f1 chromedriver + 694513\n10  chromedriver                        0x0000000104f50dce chromedriver + 908750\n11  chromedriver                        0x0000000104f6c25b chromedriver + 1020507\n12  chromedriver                        0x0000000104f509e3 chromedriver + 907747\n13  chromedriver                        0x0000000104f1aaef chromedriver + 686831\n14  chromedriver                        0x0000000104f1c00e chromedriver + 692238\n15  chromedriver                        0x00000001052e99ad chromedriver + 4680109\n16  chromedriver                        0x00000001052eec12 chromedriver + 4701202\n17  chromedriver                        0x00000001052f579f chromedriver + 4728735\n18  chromedriver                        0x00000001052efb7a chromedriver + 4705146\n19  chromedriver                        0x00000001052c227e chromedriver + 4518526\n20  chromedriver                        0x000000010530f908 chromedriver + 4835592\n21  chromedriver                        0x000000010530fa87 chromedriver + 4835975\n22  chromedriver                        0x000000010531f00f chromedriver + 4898831\n23  libsystem_pthread.dylib             0x00007ff818ef4259 _pthread_start + 125\n24  libsystem_pthread.dylib             0x00007ff818eefc7b thread_start + 15\n"
     ]
    }
   ],
   "source": [
    "#Choisir les genres\n",
    "action =driver.find_element(By.XPATH,'//*[@id=\"filter-entity-mobile\"]/div/div[1]/select/option[2]').click()"
   ]
  },
  {
   "cell_type": "code",
   "execution_count": 10,
   "id": "ba3fb05f",
   "metadata": {
    "scrolled": true
   },
   "outputs": [
    {
     "data": {
      "text/html": [
       "<div>\n",
       "<style scoped>\n",
       "    .dataframe tbody tr th:only-of-type {\n",
       "        vertical-align: middle;\n",
       "    }\n",
       "\n",
       "    .dataframe tbody tr th {\n",
       "        vertical-align: top;\n",
       "    }\n",
       "\n",
       "    .dataframe thead th {\n",
       "        text-align: right;\n",
       "    }\n",
       "</style>\n",
       "<table border=\"1\" class=\"dataframe\">\n",
       "  <thead>\n",
       "    <tr style=\"text-align: right;\">\n",
       "      <th></th>\n",
       "    </tr>\n",
       "  </thead>\n",
       "  <tbody>\n",
       "  </tbody>\n",
       "</table>\n",
       "</div>"
      ],
      "text/plain": [
       "Empty DataFrame\n",
       "Columns: []\n",
       "Index: []"
      ]
     },
     "execution_count": 10,
     "metadata": {},
     "output_type": "execute_result"
    }
   ],
   "source": [
    "#Avoir feuille par feuille\n",
    "films =[]\n",
    "for each_fiche in driver.find_elements(By.CLASS_NAME,'mdl'):\n",
    "    #titres\n",
    "    titre=each_fiche.find_element(By.CLASS_NAME, \"meta-title-link\").text\n",
    "    #date sortie\n",
    "    date_sortie= each_fiche.find_element(By.CLASS_NAME, \"date\").text\n",
    "    #durée\n",
    "    #date_sortie= each_quote.find_element(By.CLASS_NAME, \"date\").text\n",
    "    #genre1\n",
    "    genre1= each_fiche.find_element(By.CLASS_NAME, \"xXx\").text #faut réussir à mettre plusieurs genres\n",
    "    #genre2\n",
    "    genre2= each_fiche.find_element(By.CLASS_NAME, \"xXx\").text #faut réussir à mettre plusieurs genres\n",
    "    #réalisateur\n",
    "    realisateur= each_fiche.find_element(By.CLASS_NAME, \"blue-link\").text\n",
    "    #évaluation presse\n",
    "    #note_presse= each_fiche.find_element(By.XPATH, \"./*[@class='rating-holder-3']\")# /div[1]/div/div/span\").text\n",
    "    \n",
    "    films.append({\n",
    "                \"Titre\": titre,\n",
    "                \"date_sortie\" : date_sortie,\n",
    "                \"genre1\": genre1,\n",
    "                \"genre2\": genre2,\n",
    "                \"réalisateur\": realisateur,\n",
    "                \"note presse\": note_presse,\n",
    "            })\n",
    "#dataframe\n",
    "films_data = pd.DataFrame(films)\n",
    "films_data"
   ]
  },
  {
   "cell_type": "code",
   "execution_count": null,
   "id": "697eb9c6",
   "metadata": {},
   "outputs": [],
   "source": []
  }
 ],
 "metadata": {
  "kernelspec": {
   "display_name": "Python 3 (ipykernel)",
   "language": "python",
   "name": "python3"
  },
  "language_info": {
   "codemirror_mode": {
    "name": "ipython",
    "version": 3
   },
   "file_extension": ".py",
   "mimetype": "text/x-python",
   "name": "python",
   "nbconvert_exporter": "python",
   "pygments_lexer": "ipython3",
   "version": "3.9.13"
  }
 },
 "nbformat": 4,
 "nbformat_minor": 5
}
