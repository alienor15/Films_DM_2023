{
 "cells": [
  {
   "cell_type": "code",
   "execution_count": 1,
   "id": "32edaf24",
   "metadata": {},
   "outputs": [],
   "source": [
    "# Set up\n",
    "from bs4 import BeautifulSoup\n",
    "import requests\n",
    "import re\n",
    "import pandas as pd\n",
    "from pprint import pprint\n",
    "#To input random time when scrapping => otherwise detected as a robot\n",
    "from time import sleep\n",
    "from random import randint\n",
    "\n",
    "url = \"https://www.allocine.fr/films/\" #Là on a la page avec tous les films \n",
    "#On peut trier ces films par: décennie, genre etc. \n",
    "#ALLOCINE_URL = \"https://www.allocine.fr/films/?page=\"\n",
    "#response = requests.get( self.ALLOCINE_URL + str(page_number))  # pragma: no cover\n",
    "response = requests.get(url)\n",
    "html = response.text\n",
    "soup = BeautifulSoup(html, 'html.parser')"
   ]
  },
  {
   "cell_type": "code",
   "execution_count": null,
   "id": "261fcce1",
   "metadata": {},
   "outputs": [],
   "source": [
    "# Set up\n",
    "from bs4 import BeautifulSoup\n",
    "import requests\n",
    "import re\n",
    "import pandas as pd\n",
    "from pprint import pprint\n",
    "#To input random time when scrapping => otherwise detected as a robot\n",
    "from time import sleep\n",
    "from random import randint\n",
    "\n",
    "\n",
    "pages = [str(i) for i in range(8,10)]\n",
    "noms_de_films = []\n",
    "années_de_sortie = []\n",
    "note_presse = []\n",
    "\n",
    "debut_temps = time()\n",
    "requests = 0\n",
    "\n",
    "for page in pages:\n",
    "\n",
    "        reponse = get('http://www.allocine.fr/films/?page=' + page)\n",
    "        sleep(randint(2,8))\n",
    "        page_html = BeautifulSoup(reponse.text, 'html.parser')"
   ]
  },
  {
   "cell_type": "code",
   "execution_count": 10,
   "id": "b64bfc57",
   "metadata": {},
   "outputs": [
    {
     "name": "stdout",
     "output_type": "stream",
     "text": [
      "[]\n"
     ]
    }
   ],
   "source": [
    "titres=[]\n",
    "listes=soup.find_all('li.mdl') #css selector because we target a class\n",
    "for li in listes:\n",
    "    print(li)\n",
    "    title=li.select_one('h2').get_text()\n",
    "    titres.append(title)\n",
    "print(titres)"
   ]
  },
  {
   "cell_type": "code",
   "execution_count": null,
   "id": "8718a757",
   "metadata": {},
   "outputs": [],
   "source": [
    "movie_infos = [\n",
    "        \"id\",\n",
    "        \"title\",\n",
    "        \"release_date\",\n",
    "        \"duration\",\n",
    "        \"genres\",\n",
    "        \"directors\",\n",
    "        \"actors\",\n",
    "        \"nationality\",\n",
    "        \"press_rating\",\n",
    "        \"number_of_press_rating\",\n",
    "        \"spec_rating\",\n",
    "        \"number_of_spec_rating\",\n",
    "        \"summary\",\n",
    "    ]\n",
    "\n",
    "    df = pd.DataFrame(columns=movie_infos)"
   ]
  }
 ],
 "metadata": {
  "kernelspec": {
   "display_name": "Python 3 (ipykernel)",
   "language": "python",
   "name": "python3"
  },
  "language_info": {
   "codemirror_mode": {
    "name": "ipython",
    "version": 3
   },
   "file_extension": ".py",
   "mimetype": "text/x-python",
   "name": "python",
   "nbconvert_exporter": "python",
   "pygments_lexer": "ipython3",
   "version": "3.9.16"
  }
 },
 "nbformat": 4,
 "nbformat_minor": 5
}
