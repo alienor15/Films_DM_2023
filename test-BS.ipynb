{
 "cells": [
  {
   "cell_type": "code",
   "execution_count": 6,
   "id": "32edaf24",
   "metadata": {},
   "outputs": [],
   "source": [
    "# Set up\n",
    "from bs4 import BeautifulSoup\n",
    "import requests\n",
    "import re\n",
    "import pandas as pd\n",
    "from pprint import pprint\n",
    "\n",
    "url = \"https://www.allocine.fr/films/\"\n",
    "response = requests.get(url)\n",
    "html = response.text\n",
    "soup = BeautifulSoup(html, 'html.parser')"
   ]
  },
  {
   "cell_type": "code",
   "execution_count": 10,
   "id": "b64bfc57",
   "metadata": {},
   "outputs": [
    {
     "name": "stdout",
     "output_type": "stream",
     "text": [
      "[]\n"
     ]
    }
   ],
   "source": [
    "titres=[]\n",
    "listes=soup.find_all('li.mdl') #css selector because we target a class\n",
    "for li in listes:\n",
    "    print(li)\n",
    "    title=li.select_one('h2').get_text()\n",
    "    titres.append(title)\n",
    "print(titres)"
   ]
  },
  {
   "cell_type": "code",
   "execution_count": null,
   "id": "8718a757",
   "metadata": {},
   "outputs": [],
   "source": []
  }
 ],
 "metadata": {
  "kernelspec": {
   "display_name": "Python 3 (ipykernel)",
   "language": "python",
   "name": "python3"
  },
  "language_info": {
   "codemirror_mode": {
    "name": "ipython",
    "version": 3
   },
   "file_extension": ".py",
   "mimetype": "text/x-python",
   "name": "python",
   "nbconvert_exporter": "python",
   "pygments_lexer": "ipython3",
   "version": "3.9.13"
  }
 },
 "nbformat": 4,
 "nbformat_minor": 5
}
