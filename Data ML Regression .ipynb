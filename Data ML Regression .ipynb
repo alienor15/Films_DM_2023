{
 "cells": [
  {
   "cell_type": "markdown",
   "id": "0a9dcc49",
   "metadata": {},
   "source": [
    "Import packages"
   ]
  },
  {
   "cell_type": "code",
   "execution_count": 1,
   "id": "202450f1",
   "metadata": {},
   "outputs": [],
   "source": [
    "import numpy as np\n",
    "import pandas as pd\n",
    "import seaborn as sn\n",
    "import matplotlib.pyplot as plt\n",
    "from mizani.formatters import percent_format\n",
    "from plotnine import *\n",
    "\n",
    "#logistic regression\n",
    "from sklearn.linear_model import LogisticRegression, LogisticRegressionCV\n",
    "#sklearn \n",
    "from sklearn.compose import make_column_selector as selector\n",
    "from sklearn.compose import ColumnTransformer\n",
    "from sklearn.impute import SimpleImputer \n",
    "from sklearn.model_selection import GridSearchCV, KFold, train_test_split\n",
    "from sklearn.preprocessing import StandardScaler, OneHotEncoder\n",
    "from sklearn.pipeline import Pipeline\n",
    "#metrics\n",
    "from sklearn.metrics import roc_curve, roc_auc_score, classification_report, accuracy_score, confusion_matrix \n",
    "from sklearn import metrics "
   ]
  },
  {
   "cell_type": "markdown",
   "id": "d9d9adfc",
   "metadata": {},
   "source": [
    "Download dataset"
   ]
  },
  {
   "cell_type": "code",
   "execution_count": 2,
   "id": "c408867e",
   "metadata": {},
   "outputs": [
    {
     "data": {
      "text/html": [
       "<div>\n",
       "<style scoped>\n",
       "    .dataframe tbody tr th:only-of-type {\n",
       "        vertical-align: middle;\n",
       "    }\n",
       "\n",
       "    .dataframe tbody tr th {\n",
       "        vertical-align: top;\n",
       "    }\n",
       "\n",
       "    .dataframe thead th {\n",
       "        text-align: right;\n",
       "    }\n",
       "</style>\n",
       "<table border=\"1\" class=\"dataframe\">\n",
       "  <thead>\n",
       "    <tr style=\"text-align: right;\">\n",
       "      <th></th>\n",
       "      <th>Titre</th>\n",
       "      <th>genre1</th>\n",
       "      <th>genre2</th>\n",
       "      <th>réalisateur_1</th>\n",
       "      <th>actor_1</th>\n",
       "      <th>actor_2</th>\n",
       "      <th>actor_3</th>\n",
       "      <th>note_presse</th>\n",
       "      <th>note_spectators</th>\n",
       "      <th>Scenar</th>\n",
       "      <th>...</th>\n",
       "      <th>real_awards</th>\n",
       "      <th>first_actor_awards</th>\n",
       "      <th>second_actor_awards</th>\n",
       "      <th>length_corrected</th>\n",
       "      <th>day</th>\n",
       "      <th>month</th>\n",
       "      <th>year</th>\n",
       "      <th>note_spectator_word</th>\n",
       "      <th>nomi</th>\n",
       "      <th>note_spectators_binary</th>\n",
       "    </tr>\n",
       "  </thead>\n",
       "  <tbody>\n",
       "    <tr>\n",
       "      <th>0</th>\n",
       "      <td>#No_Filter</td>\n",
       "      <td>Epouvante-horreur</td>\n",
       "      <td>Thriller</td>\n",
       "      <td>Michael Dupret</td>\n",
       "      <td>Hannah McIver</td>\n",
       "      <td>Jasmine Daoud</td>\n",
       "      <td>Samuel Van der Zwalmen</td>\n",
       "      <td>NaN</td>\n",
       "      <td>1.6</td>\n",
       "      <td>NaN</td>\n",
       "      <td>...</td>\n",
       "      <td>0.0</td>\n",
       "      <td>0.0</td>\n",
       "      <td>0.0</td>\n",
       "      <td>87</td>\n",
       "      <td>5</td>\n",
       "      <td>mai</td>\n",
       "      <td>2023</td>\n",
       "      <td>bad</td>\n",
       "      <td>0</td>\n",
       "      <td>0</td>\n",
       "    </tr>\n",
       "    <tr>\n",
       "      <th>1</th>\n",
       "      <td>13 : La comédie musicale</td>\n",
       "      <td>Drame</td>\n",
       "      <td>Famille</td>\n",
       "      <td>Tamra Davis</td>\n",
       "      <td>Eli Golden</td>\n",
       "      <td>Josh Peck</td>\n",
       "      <td>Debra Messing</td>\n",
       "      <td>NaN</td>\n",
       "      <td>2.6</td>\n",
       "      <td>Robert Horn</td>\n",
       "      <td>...</td>\n",
       "      <td>1.0</td>\n",
       "      <td>0.0</td>\n",
       "      <td>0.0</td>\n",
       "      <td>94</td>\n",
       "      <td>12</td>\n",
       "      <td>août</td>\n",
       "      <td>2022</td>\n",
       "      <td>soso</td>\n",
       "      <td>0</td>\n",
       "      <td>0</td>\n",
       "    </tr>\n",
       "    <tr>\n",
       "      <th>2</th>\n",
       "      <td>16 ans</td>\n",
       "      <td>Drame</td>\n",
       "      <td>Romance</td>\n",
       "      <td>Philippe Lioret</td>\n",
       "      <td>Sabrina Levoye</td>\n",
       "      <td>Teïlo Azaïs</td>\n",
       "      <td>Jean-Pierre Lorit</td>\n",
       "      <td>3.2</td>\n",
       "      <td>3.6</td>\n",
       "      <td>Philippe Lioret</td>\n",
       "      <td>...</td>\n",
       "      <td>4.0</td>\n",
       "      <td>0.0</td>\n",
       "      <td>0.0</td>\n",
       "      <td>94</td>\n",
       "      <td>4</td>\n",
       "      <td>janvier</td>\n",
       "      <td>2023</td>\n",
       "      <td>good</td>\n",
       "      <td>1</td>\n",
       "      <td>1</td>\n",
       "    </tr>\n",
       "    <tr>\n",
       "      <th>3</th>\n",
       "      <td>1UP</td>\n",
       "      <td>Comédie</td>\n",
       "      <td>NaN</td>\n",
       "      <td>Kyle Newman</td>\n",
       "      <td>Paris Berelc</td>\n",
       "      <td>Taylor Zakhar Perez</td>\n",
       "      <td>Ruby Rose</td>\n",
       "      <td>NaN</td>\n",
       "      <td>2.2</td>\n",
       "      <td>Julia Yorks</td>\n",
       "      <td>...</td>\n",
       "      <td>0.0</td>\n",
       "      <td>0.0</td>\n",
       "      <td>0.0</td>\n",
       "      <td>100</td>\n",
       "      <td>15</td>\n",
       "      <td>juillet</td>\n",
       "      <td>2022</td>\n",
       "      <td>soso</td>\n",
       "      <td>0</td>\n",
       "      <td>0</td>\n",
       "    </tr>\n",
       "    <tr>\n",
       "      <th>4</th>\n",
       "      <td>365 jours : Au lendemain</td>\n",
       "      <td>Drame</td>\n",
       "      <td>Erotique</td>\n",
       "      <td>Barbara Bialowas</td>\n",
       "      <td>Michele Morrone</td>\n",
       "      <td>Anna-Maria Sieklucka</td>\n",
       "      <td>Simone Susinna</td>\n",
       "      <td>NaN</td>\n",
       "      <td>1.2</td>\n",
       "      <td>Tomasz Mandes</td>\n",
       "      <td>...</td>\n",
       "      <td>0.0</td>\n",
       "      <td>0.0</td>\n",
       "      <td>0.0</td>\n",
       "      <td>106</td>\n",
       "      <td>27</td>\n",
       "      <td>avril</td>\n",
       "      <td>2022</td>\n",
       "      <td>bad</td>\n",
       "      <td>2</td>\n",
       "      <td>0</td>\n",
       "    </tr>\n",
       "    <tr>\n",
       "      <th>...</th>\n",
       "      <td>...</td>\n",
       "      <td>...</td>\n",
       "      <td>...</td>\n",
       "      <td>...</td>\n",
       "      <td>...</td>\n",
       "      <td>...</td>\n",
       "      <td>...</td>\n",
       "      <td>...</td>\n",
       "      <td>...</td>\n",
       "      <td>...</td>\n",
       "      <td>...</td>\n",
       "      <td>...</td>\n",
       "      <td>...</td>\n",
       "      <td>...</td>\n",
       "      <td>...</td>\n",
       "      <td>...</td>\n",
       "      <td>...</td>\n",
       "      <td>...</td>\n",
       "      <td>...</td>\n",
       "      <td>...</td>\n",
       "      <td>...</td>\n",
       "    </tr>\n",
       "    <tr>\n",
       "      <th>3279</th>\n",
       "      <td>White Building</td>\n",
       "      <td>Drame</td>\n",
       "      <td>NaN</td>\n",
       "      <td>Kavich Neang</td>\n",
       "      <td>Piseth Chhun</td>\n",
       "      <td>Sithan Hout</td>\n",
       "      <td>Sokha Uk</td>\n",
       "      <td>3.5</td>\n",
       "      <td>2.8</td>\n",
       "      <td>Kavich Neang</td>\n",
       "      <td>...</td>\n",
       "      <td>0.0</td>\n",
       "      <td>0.0</td>\n",
       "      <td>0.0</td>\n",
       "      <td>90</td>\n",
       "      <td>22</td>\n",
       "      <td>décembre</td>\n",
       "      <td>2021</td>\n",
       "      <td>soso</td>\n",
       "      <td>4</td>\n",
       "      <td>0</td>\n",
       "    </tr>\n",
       "    <tr>\n",
       "      <th>3280</th>\n",
       "      <td>Who's the Boss</td>\n",
       "      <td>Comédie</td>\n",
       "      <td>Romance</td>\n",
       "      <td>Chinaza Onuzo</td>\n",
       "      <td>Funke Akindele</td>\n",
       "      <td>Blossom Chukwujekwu</td>\n",
       "      <td>Sharon Ooja</td>\n",
       "      <td>NaN</td>\n",
       "      <td>2.9</td>\n",
       "      <td>NaN</td>\n",
       "      <td>...</td>\n",
       "      <td>0.0</td>\n",
       "      <td>0.0</td>\n",
       "      <td>0.0</td>\n",
       "      <td>105</td>\n",
       "      <td>25</td>\n",
       "      <td>octobre</td>\n",
       "      <td>2022</td>\n",
       "      <td>soso</td>\n",
       "      <td>0</td>\n",
       "      <td>0</td>\n",
       "    </tr>\n",
       "    <tr>\n",
       "      <th>3281</th>\n",
       "      <td>Why Moths Fly to the Light?</td>\n",
       "      <td>Drame</td>\n",
       "      <td>NaN</td>\n",
       "      <td>Zaur Dzhafarov</td>\n",
       "      <td>Anita Shmatova</td>\n",
       "      <td>Arthur Valente</td>\n",
       "      <td>NaN</td>\n",
       "      <td>NaN</td>\n",
       "      <td>3.0</td>\n",
       "      <td>NaN</td>\n",
       "      <td>...</td>\n",
       "      <td>0.0</td>\n",
       "      <td>0.0</td>\n",
       "      <td>0.0</td>\n",
       "      <td>62</td>\n",
       "      <td>15</td>\n",
       "      <td>mars</td>\n",
       "      <td>2021</td>\n",
       "      <td>soso</td>\n",
       "      <td>0</td>\n",
       "      <td>0</td>\n",
       "    </tr>\n",
       "    <tr>\n",
       "      <th>3282</th>\n",
       "      <td>Wildland</td>\n",
       "      <td>Policier</td>\n",
       "      <td>Thriller</td>\n",
       "      <td>Jeanette Nordahl</td>\n",
       "      <td>Sandra Guldberg Kampp</td>\n",
       "      <td>Sidse Babett Knudsen</td>\n",
       "      <td>Joachim Fjelstrup</td>\n",
       "      <td>NaN</td>\n",
       "      <td>1.9</td>\n",
       "      <td>Ingeborg Topsøe</td>\n",
       "      <td>...</td>\n",
       "      <td>0.0</td>\n",
       "      <td>0.0</td>\n",
       "      <td>1.0</td>\n",
       "      <td>88</td>\n",
       "      <td>9</td>\n",
       "      <td>novembre</td>\n",
       "      <td>2021</td>\n",
       "      <td>bad</td>\n",
       "      <td>0</td>\n",
       "      <td>0</td>\n",
       "    </tr>\n",
       "    <tr>\n",
       "      <th>3283</th>\n",
       "      <td>Wolfy ! Et les loups en délire</td>\n",
       "      <td>Animation</td>\n",
       "      <td>Famille</td>\n",
       "      <td>Natalia Malykhina</td>\n",
       "      <td>Aurélien Osinski</td>\n",
       "      <td>Aurélien Osinski</td>\n",
       "      <td>Clovis Béziès-Gros</td>\n",
       "      <td>3.7</td>\n",
       "      <td>3.1</td>\n",
       "      <td>NaN</td>\n",
       "      <td>...</td>\n",
       "      <td>0.0</td>\n",
       "      <td>0.0</td>\n",
       "      <td>0.0</td>\n",
       "      <td>37</td>\n",
       "      <td>14</td>\n",
       "      <td>juillet</td>\n",
       "      <td>2021</td>\n",
       "      <td>good</td>\n",
       "      <td>0</td>\n",
       "      <td>1</td>\n",
       "    </tr>\n",
       "  </tbody>\n",
       "</table>\n",
       "<p>3284 rows × 23 columns</p>\n",
       "</div>"
      ],
      "text/plain": [
       "                               Titre             genre1    genre2  \\\n",
       "0                         #No_Filter  Epouvante-horreur  Thriller   \n",
       "1           13 : La comédie musicale              Drame   Famille   \n",
       "2                             16 ans              Drame   Romance   \n",
       "3                                1UP            Comédie       NaN   \n",
       "4           365 jours : Au lendemain              Drame  Erotique   \n",
       "...                              ...                ...       ...   \n",
       "3279                  White Building              Drame       NaN   \n",
       "3280                  Who's the Boss            Comédie   Romance   \n",
       "3281     Why Moths Fly to the Light?              Drame       NaN   \n",
       "3282                        Wildland           Policier  Thriller   \n",
       "3283  Wolfy ! Et les loups en délire          Animation   Famille   \n",
       "\n",
       "          réalisateur_1                actor_1               actor_2  \\\n",
       "0        Michael Dupret          Hannah McIver         Jasmine Daoud   \n",
       "1           Tamra Davis             Eli Golden             Josh Peck   \n",
       "2       Philippe Lioret         Sabrina Levoye           Teïlo Azaïs   \n",
       "3           Kyle Newman           Paris Berelc   Taylor Zakhar Perez   \n",
       "4      Barbara Bialowas        Michele Morrone  Anna-Maria Sieklucka   \n",
       "...                 ...                    ...                   ...   \n",
       "3279       Kavich Neang           Piseth Chhun           Sithan Hout   \n",
       "3280      Chinaza Onuzo         Funke Akindele   Blossom Chukwujekwu   \n",
       "3281     Zaur Dzhafarov         Anita Shmatova        Arthur Valente   \n",
       "3282   Jeanette Nordahl  Sandra Guldberg Kampp  Sidse Babett Knudsen   \n",
       "3283  Natalia Malykhina       Aurélien Osinski      Aurélien Osinski   \n",
       "\n",
       "                     actor_3  note_presse  note_spectators           Scenar  \\\n",
       "0     Samuel Van der Zwalmen          NaN              1.6              NaN   \n",
       "1              Debra Messing          NaN              2.6      Robert Horn   \n",
       "2          Jean-Pierre Lorit          3.2              3.6  Philippe Lioret   \n",
       "3                  Ruby Rose          NaN              2.2      Julia Yorks   \n",
       "4             Simone Susinna          NaN              1.2    Tomasz Mandes   \n",
       "...                      ...          ...              ...              ...   \n",
       "3279                Sokha Uk          3.5              2.8     Kavich Neang   \n",
       "3280             Sharon Ooja          NaN              2.9              NaN   \n",
       "3281                     NaN          NaN              3.0              NaN   \n",
       "3282       Joachim Fjelstrup          NaN              1.9  Ingeborg Topsøe   \n",
       "3283      Clovis Béziès-Gros          3.7              3.1              NaN   \n",
       "\n",
       "      ... real_awards first_actor_awards second_actor_awards  \\\n",
       "0     ...         0.0                0.0                 0.0   \n",
       "1     ...         1.0                0.0                 0.0   \n",
       "2     ...         4.0                0.0                 0.0   \n",
       "3     ...         0.0                0.0                 0.0   \n",
       "4     ...         0.0                0.0                 0.0   \n",
       "...   ...         ...                ...                 ...   \n",
       "3279  ...         0.0                0.0                 0.0   \n",
       "3280  ...         0.0                0.0                 0.0   \n",
       "3281  ...         0.0                0.0                 0.0   \n",
       "3282  ...         0.0                0.0                 1.0   \n",
       "3283  ...         0.0                0.0                 0.0   \n",
       "\n",
       "      length_corrected  day     month  year  note_spectator_word nomi  \\\n",
       "0                   87    5       mai  2023                  bad    0   \n",
       "1                   94   12      août  2022                 soso    0   \n",
       "2                   94    4   janvier  2023                 good    1   \n",
       "3                  100   15   juillet  2022                 soso    0   \n",
       "4                  106   27     avril  2022                  bad    2   \n",
       "...                ...  ...       ...   ...                  ...  ...   \n",
       "3279                90   22  décembre  2021                 soso    4   \n",
       "3280               105   25   octobre  2022                 soso    0   \n",
       "3281                62   15      mars  2021                 soso    0   \n",
       "3282                88    9  novembre  2021                  bad    0   \n",
       "3283                37   14   juillet  2021                 good    0   \n",
       "\n",
       "      note_spectators_binary  \n",
       "0                          0  \n",
       "1                          0  \n",
       "2                          1  \n",
       "3                          0  \n",
       "4                          0  \n",
       "...                      ...  \n",
       "3279                       0  \n",
       "3280                       0  \n",
       "3281                       0  \n",
       "3282                       0  \n",
       "3283                       1  \n",
       "\n",
       "[3284 rows x 23 columns]"
      ]
     },
     "execution_count": 2,
     "metadata": {},
     "output_type": "execute_result"
    }
   ],
   "source": [
    "df=pd.read_csv('films2020_2021_2022_visu.csv', encoding='utf-8-sig',sep=\";\")\n",
    "df"
   ]
  },
  {
   "cell_type": "code",
   "execution_count": 3,
   "id": "2f1def72",
   "metadata": {},
   "outputs": [
    {
     "data": {
      "text/plain": [
       "Titre                        0\n",
       "genre1                       0\n",
       "genre2                    1217\n",
       "réalisateur_1                0\n",
       "actor_1                      0\n",
       "actor_2                      0\n",
       "actor_3                     67\n",
       "note_presse               2073\n",
       "note_spectators              0\n",
       "Scenar                     287\n",
       "nationality_1                3\n",
       "distributor               1620\n",
       "language                     0\n",
       "real_awards                  0\n",
       "first_actor_awards           0\n",
       "second_actor_awards          0\n",
       "length_corrected             0\n",
       "day                          0\n",
       "month                        0\n",
       "year                         0\n",
       "note_spectator_word          0\n",
       "nomi                         0\n",
       "note_spectators_binary       0\n",
       "dtype: int64"
      ]
     },
     "execution_count": 3,
     "metadata": {},
     "output_type": "execute_result"
    }
   ],
   "source": [
    "df.isnull().sum()"
   ]
  },
  {
   "cell_type": "code",
   "execution_count": 4,
   "id": "f0e974a2",
   "metadata": {},
   "outputs": [],
   "source": [
    "df=df.drop([\"note_spectator_word\",\"note_spectators\"], axis=1) #drop redundant"
   ]
  },
  {
   "cell_type": "code",
   "execution_count": 5,
   "id": "ac7fbcb0",
   "metadata": {},
   "outputs": [],
   "source": [
    "y=df['note_spectators_binary'] #default y\n",
    "X=df.drop(columns='note_spectators_binary') #other variables than the target one"
   ]
  },
  {
   "cell_type": "code",
   "execution_count": 6,
   "id": "7a1f1b3a",
   "metadata": {},
   "outputs": [],
   "source": [
    "X_train, X_test, y_train, y_test = train_test_split(X, y, random_state=42)\n",
    "#it will be set to 0.25.for the test size and 75% for train if no value specified"
   ]
  },
  {
   "cell_type": "code",
   "execution_count": 7,
   "id": "40baa832",
   "metadata": {},
   "outputs": [
    {
     "data": {
      "text/plain": [
       "407     1\n",
       "2512    0\n",
       "1941    0\n",
       "2555    1\n",
       "2218    0\n",
       "       ..\n",
       "1095    1\n",
       "1130    0\n",
       "1294    1\n",
       "860     0\n",
       "3174    0\n",
       "Name: note_spectators_binary, Length: 2463, dtype: int64"
      ]
     },
     "execution_count": 7,
     "metadata": {},
     "output_type": "execute_result"
    }
   ],
   "source": [
    "y_train"
   ]
  },
  {
   "cell_type": "code",
   "execution_count": 8,
   "id": "f6dd674c",
   "metadata": {},
   "outputs": [
    {
     "data": {
      "text/plain": [
       "2208    0\n",
       "1084    0\n",
       "1655    1\n",
       "1651    1\n",
       "1450    1\n",
       "       ..\n",
       "2184    1\n",
       "3264    1\n",
       "859     0\n",
       "1228    0\n",
       "2473    0\n",
       "Name: note_spectators_binary, Length: 821, dtype: int64"
      ]
     },
     "execution_count": 8,
     "metadata": {},
     "output_type": "execute_result"
    }
   ],
   "source": [
    "y_test"
   ]
  },
  {
   "cell_type": "code",
   "execution_count": 9,
   "id": "55d80c96",
   "metadata": {},
   "outputs": [
    {
     "name": "stdout",
     "output_type": "stream",
     "text": [
      "--- Total ---\n",
      "0    0.624543\n",
      "1    0.375457\n",
      "Name: note_spectators_binary, dtype: float64\n",
      "--- Train ---\n",
      "0    0.617946\n",
      "1    0.382054\n",
      "Name: note_spectators_binary, dtype: float64\n",
      "--- Test ---\n",
      "0    0.644336\n",
      "1    0.355664\n",
      "Name: note_spectators_binary, dtype: float64\n"
     ]
    }
   ],
   "source": [
    "print(\"--- Total ---\")\n",
    "print(y.value_counts(normalize=True))\n",
    "#normalize = True => en %\n",
    "print(\"--- Train ---\")\n",
    "print(y_train.value_counts(normalize=True))\n",
    "print(\"--- Test ---\")\n",
    "print(y_test.value_counts(normalize=True))"
   ]
  },
  {
   "cell_type": "code",
   "execution_count": 10,
   "id": "025bac65",
   "metadata": {},
   "outputs": [
    {
     "data": {
      "text/plain": [
       "Index(['Titre', 'genre1', 'genre2', 'réalisateur_1', 'actor_1', 'actor_2',\n",
       "       'actor_3', 'note_presse', 'Scenar', 'nationality_1', 'distributor',\n",
       "       'language', 'real_awards', 'first_actor_awards', 'second_actor_awards',\n",
       "       'length_corrected', 'day', 'month', 'year', 'nomi',\n",
       "       'note_spectators_binary'],\n",
       "      dtype='object')"
      ]
     },
     "execution_count": 10,
     "metadata": {},
     "output_type": "execute_result"
    }
   ],
   "source": [
    "df.columns"
   ]
  },
  {
   "cell_type": "code",
   "execution_count": 11,
   "id": "4e34471b",
   "metadata": {},
   "outputs": [],
   "source": [
    "#We have different types of variables\n",
    "#I list variables in function of what they correspond to\n",
    "film = [\"Titre\", \"genre1\",'genre2','note_presse', \"nationality_1\",\"language\",\"length_corrected\",\"day\",\"month\",\"nomi\",\"year\"]"
   ]
  },
  {
   "cell_type": "code",
   "execution_count": 12,
   "id": "aac7b995",
   "metadata": {},
   "outputs": [],
   "source": [
    "#Related to actors\n",
    "actors = [\n",
    "    \"actor_1\",\n",
    "    \"actor_2\",\n",
    "    'actor_3',\n",
    "    \"first_actor_awards\",\n",
    "    \"second_actor_awards\",\n",
    "]\n",
    "#Related to director and writer\n",
    "director = [\n",
    "    \"réalisateur_1\",\n",
    "    'real_awards',\n",
    "    'distributor',\n",
    "    'Scenar',\n",
    "]"
   ]
  },
  {
   "cell_type": "code",
   "execution_count": 13,
   "id": "ff94241b",
   "metadata": {},
   "outputs": [],
   "source": [
    "#With only the most correlated features with the target one\n",
    "M1=[\"length_corrected\",\"nomi\",\"language\",\"note_presse\"]"
   ]
  },
  {
   "cell_type": "code",
   "execution_count": 14,
   "id": "87ba4503",
   "metadata": {},
   "outputs": [],
   "source": [
    "#With all variables we found interesting\n",
    "M2= [\"actor_1\",\"length_corrected\",\"nationality_1\",\"language\",\"genre1\",\"réalisateur_1\",\"first_actor_awards\", \"nomi\",\"note_presse\",\"real_awards\"]"
   ]
  },
  {
   "cell_type": "code",
   "execution_count": 15,
   "id": "47d3eec5",
   "metadata": {},
   "outputs": [
    {
     "data": {
      "text/html": [
       "<div>\n",
       "<style scoped>\n",
       "    .dataframe tbody tr th:only-of-type {\n",
       "        vertical-align: middle;\n",
       "    }\n",
       "\n",
       "    .dataframe tbody tr th {\n",
       "        vertical-align: top;\n",
       "    }\n",
       "\n",
       "    .dataframe thead th {\n",
       "        text-align: right;\n",
       "    }\n",
       "</style>\n",
       "<table border=\"1\" class=\"dataframe\">\n",
       "  <thead>\n",
       "    <tr style=\"text-align: right;\">\n",
       "      <th></th>\n",
       "      <th>Titre</th>\n",
       "      <th>genre1</th>\n",
       "      <th>genre2</th>\n",
       "      <th>réalisateur_1</th>\n",
       "      <th>actor_1</th>\n",
       "      <th>actor_2</th>\n",
       "      <th>actor_3</th>\n",
       "      <th>note_presse</th>\n",
       "      <th>Scenar</th>\n",
       "      <th>nationality_1</th>\n",
       "      <th>distributor</th>\n",
       "      <th>language</th>\n",
       "      <th>real_awards</th>\n",
       "      <th>first_actor_awards</th>\n",
       "      <th>second_actor_awards</th>\n",
       "      <th>length_corrected</th>\n",
       "      <th>day</th>\n",
       "      <th>month</th>\n",
       "      <th>year</th>\n",
       "      <th>nomi</th>\n",
       "    </tr>\n",
       "  </thead>\n",
       "  <tbody>\n",
       "    <tr>\n",
       "      <th>0</th>\n",
       "      <td>#No_Filter</td>\n",
       "      <td>Epouvante-horreur</td>\n",
       "      <td>Thriller</td>\n",
       "      <td>Michael Dupret</td>\n",
       "      <td>Hannah McIver</td>\n",
       "      <td>Jasmine Daoud</td>\n",
       "      <td>Samuel Van der Zwalmen</td>\n",
       "      <td>NaN</td>\n",
       "      <td>NaN</td>\n",
       "      <td>Belgique</td>\n",
       "      <td>NaN</td>\n",
       "      <td>Anglais</td>\n",
       "      <td>0.0</td>\n",
       "      <td>0.0</td>\n",
       "      <td>0.0</td>\n",
       "      <td>87</td>\n",
       "      <td>5</td>\n",
       "      <td>mai</td>\n",
       "      <td>2023</td>\n",
       "      <td>0</td>\n",
       "    </tr>\n",
       "    <tr>\n",
       "      <th>1</th>\n",
       "      <td>13 : La comédie musicale</td>\n",
       "      <td>Drame</td>\n",
       "      <td>Famille</td>\n",
       "      <td>Tamra Davis</td>\n",
       "      <td>Eli Golden</td>\n",
       "      <td>Josh Peck</td>\n",
       "      <td>Debra Messing</td>\n",
       "      <td>NaN</td>\n",
       "      <td>Robert Horn</td>\n",
       "      <td>U.S.A.</td>\n",
       "      <td>NaN</td>\n",
       "      <td>Anglais</td>\n",
       "      <td>1.0</td>\n",
       "      <td>0.0</td>\n",
       "      <td>0.0</td>\n",
       "      <td>94</td>\n",
       "      <td>12</td>\n",
       "      <td>août</td>\n",
       "      <td>2022</td>\n",
       "      <td>0</td>\n",
       "    </tr>\n",
       "    <tr>\n",
       "      <th>2</th>\n",
       "      <td>16 ans</td>\n",
       "      <td>Drame</td>\n",
       "      <td>Romance</td>\n",
       "      <td>Philippe Lioret</td>\n",
       "      <td>Sabrina Levoye</td>\n",
       "      <td>Teïlo Azaïs</td>\n",
       "      <td>Jean-Pierre Lorit</td>\n",
       "      <td>3.2</td>\n",
       "      <td>Philippe Lioret</td>\n",
       "      <td>France</td>\n",
       "      <td>Paname Distribution</td>\n",
       "      <td>Français</td>\n",
       "      <td>4.0</td>\n",
       "      <td>0.0</td>\n",
       "      <td>0.0</td>\n",
       "      <td>94</td>\n",
       "      <td>4</td>\n",
       "      <td>janvier</td>\n",
       "      <td>2023</td>\n",
       "      <td>1</td>\n",
       "    </tr>\n",
       "    <tr>\n",
       "      <th>3</th>\n",
       "      <td>1UP</td>\n",
       "      <td>Comédie</td>\n",
       "      <td>NaN</td>\n",
       "      <td>Kyle Newman</td>\n",
       "      <td>Paris Berelc</td>\n",
       "      <td>Taylor Zakhar Perez</td>\n",
       "      <td>Ruby Rose</td>\n",
       "      <td>NaN</td>\n",
       "      <td>Julia Yorks</td>\n",
       "      <td>Canada</td>\n",
       "      <td>NaN</td>\n",
       "      <td>Anglais</td>\n",
       "      <td>0.0</td>\n",
       "      <td>0.0</td>\n",
       "      <td>0.0</td>\n",
       "      <td>100</td>\n",
       "      <td>15</td>\n",
       "      <td>juillet</td>\n",
       "      <td>2022</td>\n",
       "      <td>0</td>\n",
       "    </tr>\n",
       "    <tr>\n",
       "      <th>4</th>\n",
       "      <td>365 jours : Au lendemain</td>\n",
       "      <td>Drame</td>\n",
       "      <td>Erotique</td>\n",
       "      <td>Barbara Bialowas</td>\n",
       "      <td>Michele Morrone</td>\n",
       "      <td>Anna-Maria Sieklucka</td>\n",
       "      <td>Simone Susinna</td>\n",
       "      <td>NaN</td>\n",
       "      <td>Tomasz Mandes</td>\n",
       "      <td>Pologne</td>\n",
       "      <td>NaN</td>\n",
       "      <td>Anglais</td>\n",
       "      <td>0.0</td>\n",
       "      <td>0.0</td>\n",
       "      <td>0.0</td>\n",
       "      <td>106</td>\n",
       "      <td>27</td>\n",
       "      <td>avril</td>\n",
       "      <td>2022</td>\n",
       "      <td>2</td>\n",
       "    </tr>\n",
       "  </tbody>\n",
       "</table>\n",
       "</div>"
      ],
      "text/plain": [
       "                      Titre             genre1    genre2     réalisateur_1  \\\n",
       "0                #No_Filter  Epouvante-horreur  Thriller    Michael Dupret   \n",
       "1  13 : La comédie musicale              Drame   Famille       Tamra Davis   \n",
       "2                    16 ans              Drame   Romance   Philippe Lioret   \n",
       "3                       1UP            Comédie       NaN       Kyle Newman   \n",
       "4  365 jours : Au lendemain              Drame  Erotique  Barbara Bialowas   \n",
       "\n",
       "           actor_1               actor_2                 actor_3  note_presse  \\\n",
       "0    Hannah McIver         Jasmine Daoud  Samuel Van der Zwalmen          NaN   \n",
       "1       Eli Golden             Josh Peck           Debra Messing          NaN   \n",
       "2   Sabrina Levoye           Teïlo Azaïs       Jean-Pierre Lorit          3.2   \n",
       "3     Paris Berelc   Taylor Zakhar Perez               Ruby Rose          NaN   \n",
       "4  Michele Morrone  Anna-Maria Sieklucka          Simone Susinna          NaN   \n",
       "\n",
       "            Scenar nationality_1          distributor  language  real_awards  \\\n",
       "0              NaN      Belgique                  NaN   Anglais          0.0   \n",
       "1      Robert Horn        U.S.A.                  NaN   Anglais          1.0   \n",
       "2  Philippe Lioret        France  Paname Distribution  Français          4.0   \n",
       "3      Julia Yorks        Canada                  NaN   Anglais          0.0   \n",
       "4    Tomasz Mandes       Pologne                  NaN   Anglais          0.0   \n",
       "\n",
       "   first_actor_awards  second_actor_awards  length_corrected  day    month  \\\n",
       "0                 0.0                  0.0                87    5      mai   \n",
       "1                 0.0                  0.0                94   12     août   \n",
       "2                 0.0                  0.0                94    4  janvier   \n",
       "3                 0.0                  0.0               100   15  juillet   \n",
       "4                 0.0                  0.0               106   27    avril   \n",
       "\n",
       "   year  nomi  \n",
       "0  2023     0  \n",
       "1  2022     0  \n",
       "2  2023     1  \n",
       "3  2022     0  \n",
       "4  2022     2  "
      ]
     },
     "execution_count": 15,
     "metadata": {},
     "output_type": "execute_result"
    }
   ],
   "source": [
    "X.head()"
   ]
  },
  {
   "cell_type": "code",
   "execution_count": 16,
   "id": "8b28f2e9",
   "metadata": {},
   "outputs": [],
   "source": [
    "X_train_M1=X_train[M1]\n",
    "X_test_M1 =X_test[M1]\n",
    "\n",
    "X_train_M2=X_train[M2]\n",
    "X_test_M2 =X_test[M2]"
   ]
  },
  {
   "cell_type": "code",
   "execution_count": 17,
   "id": "853d24ea",
   "metadata": {},
   "outputs": [],
   "source": [
    "k = KFold(n_splits=4, shuffle=True, random_state=42)\n",
    "#cross validation function: "
   ]
  },
  {
   "cell_type": "code",
   "execution_count": 18,
   "id": "e68b21ed",
   "metadata": {},
   "outputs": [],
   "source": [
    "C_value_logit = [1e20]\n",
    "#the fact that I don't want regularisation => C= 1/lambda => here really small lambda => regularisation =0\n",
    "#C is a hyperparameter of the logistic function "
   ]
  },
  {
   "cell_type": "code",
   "execution_count": 19,
   "id": "86458326",
   "metadata": {},
   "outputs": [],
   "source": [
    "#2 dictionaries to keep the performancies\n",
    "test_accuracy={}\n",
    "test_auc_roc={}"
   ]
  },
  {
   "cell_type": "markdown",
   "id": "285b2347",
   "metadata": {},
   "source": [
    "### Model 1: Logit\n",
    "#### Set up Logit model object"
   ]
  },
  {
   "cell_type": "code",
   "execution_count": 20,
   "id": "248939e5",
   "metadata": {},
   "outputs": [],
   "source": [
    "logistic = LogisticRegressionCV(\n",
    "    Cs=C_value_logit,#I have no regularisation\n",
    "    cv=k, #how I want to do cross-validation\n",
    "    refit=True,\n",
    "    solver='newton-cg' ,\n",
    "    tol=1e-7,\n",
    "    random_state=42,\n",
    ")\n",
    "#I precise lots of the hyperparameters"
   ]
  },
  {
   "cell_type": "code",
   "execution_count": 21,
   "id": "d87e09ee",
   "metadata": {},
   "outputs": [],
   "source": [
    "logi = LogisticRegression(\n",
    "    solver='liblinear',\n",
    "    random_state=42,\n",
    ")"
   ]
  },
  {
   "cell_type": "markdown",
   "id": "305ddc09",
   "metadata": {},
   "source": [
    "For M1"
   ]
  },
  {
   "cell_type": "code",
   "execution_count": 22,
   "id": "ec5af772",
   "metadata": {},
   "outputs": [
    {
     "data": {
      "text/plain": [
       "['language']"
      ]
     },
     "execution_count": 22,
     "metadata": {},
     "output_type": "execute_result"
    }
   ],
   "source": [
    "from sklearn.compose import make_column_selector as selector\n",
    "#how I will handle the categorical and numerical vraiables\n",
    "categorical_columns_selector = selector(dtype_include=object)\n",
    "categorical_columns = categorical_columns_selector(X_train_M1)\n",
    "categorical_columns"
   ]
  },
  {
   "cell_type": "code",
   "execution_count": 23,
   "id": "9eda9f80",
   "metadata": {},
   "outputs": [
    {
     "data": {
      "text/plain": [
       "['length_corrected', 'nomi', 'note_presse']"
      ]
     },
     "execution_count": 23,
     "metadata": {},
     "output_type": "execute_result"
    }
   ],
   "source": [
    "numeric_columns = [col for col in X_train_M1.columns if col not in categorical_columns]\n",
    "numeric_columns"
   ]
  },
  {
   "cell_type": "code",
   "execution_count": 24,
   "id": "497b4a72",
   "metadata": {},
   "outputs": [],
   "source": [
    "categorical_transformer= Pipeline(\n",
    "    steps=[\n",
    "    ('imputer', SimpleImputer(strategy='constant', fill_value='missing')),\n",
    "    ('encoder', OneHotEncoder(handle_unknown='ignore'))]\n",
    "\n",
    ")"
   ]
  },
  {
   "cell_type": "code",
   "execution_count": 25,
   "id": "3f9100b8",
   "metadata": {},
   "outputs": [
    {
     "data": {
      "text/plain": [
       "Pipeline(steps=[('imputer', SimpleImputer(fill_value='missing')),\n",
       "                ('scaler', StandardScaler())])"
      ]
     },
     "execution_count": 25,
     "metadata": {},
     "output_type": "execute_result"
    }
   ],
   "source": [
    "numeric_transformer= Pipeline(\n",
    "    steps=[\n",
    "        ('imputer', SimpleImputer(strategy='mean', fill_value='missing')),\n",
    "        (\"scaler\", StandardScaler())]\n",
    ")\n",
    "numeric_transformer"
   ]
  },
  {
   "cell_type": "code",
   "execution_count": 26,
   "id": "47169c27",
   "metadata": {},
   "outputs": [
    {
     "data": {
      "text/plain": [
       "ColumnTransformer(transformers=[('num',\n",
       "                                 Pipeline(steps=[('imputer',\n",
       "                                                  SimpleImputer(fill_value='missing')),\n",
       "                                                 ('scaler', StandardScaler())]),\n",
       "                                 ['length_corrected', 'nomi', 'note_presse']),\n",
       "                                ('cat',\n",
       "                                 Pipeline(steps=[('imputer',\n",
       "                                                  SimpleImputer(fill_value='missing',\n",
       "                                                                strategy='constant')),\n",
       "                                                 ('encoder',\n",
       "                                                  OneHotEncoder(handle_unknown='ignore'))]),\n",
       "                                 ['language'])])"
      ]
     },
     "execution_count": 26,
     "metadata": {},
     "output_type": "execute_result"
    }
   ],
   "source": [
    "from sklearn.compose import ColumnTransformer\n",
    "preprocessor = ColumnTransformer(\n",
    "    transformers=[\n",
    "        (\"num\", numeric_transformer, numeric_columns),\n",
    "        (\"cat\", categorical_transformer, categorical_columns),    \n",
    "]\n",
    ")\n",
    "preprocessor"
   ]
  },
  {
   "cell_type": "code",
   "execution_count": 27,
   "id": "e524879b",
   "metadata": {},
   "outputs": [
    {
     "data": {
      "text/plain": [
       "Pipeline(steps=[('preprocessor',\n",
       "                 ColumnTransformer(transformers=[('num',\n",
       "                                                  Pipeline(steps=[('imputer',\n",
       "                                                                   SimpleImputer(fill_value='missing')),\n",
       "                                                                  ('scaler',\n",
       "                                                                   StandardScaler())]),\n",
       "                                                  ['length_corrected', 'nomi',\n",
       "                                                   'note_presse']),\n",
       "                                                 ('cat',\n",
       "                                                  Pipeline(steps=[('imputer',\n",
       "                                                                   SimpleImputer(fill_value='missing',\n",
       "                                                                                 strategy='constant')),\n",
       "                                                                  ('encoder',\n",
       "                                                                   OneHotEncoder(handle_unknown='ignore'))]),\n",
       "                                                  ['language'])])),\n",
       "                ('classifier',\n",
       "                 LogisticRegression(random_state=42, solver='liblinear'))])"
      ]
     },
     "execution_count": 27,
     "metadata": {},
     "output_type": "execute_result"
    }
   ],
   "source": [
    "#Append classifier to preprocessing pipeline. Now we have a full prediction pipeline.\n",
    "pipeline_logi_M1 = Pipeline(\n",
    "    steps=[(\"preprocessor\", preprocessor), (\"classifier\", logi)]\n",
    ")\n",
    "pipeline_logi_M1"
   ]
  },
  {
   "cell_type": "code",
   "execution_count": 28,
   "id": "2f97f3ac",
   "metadata": {},
   "outputs": [
    {
     "data": {
      "text/plain": [
       "Pipeline(steps=[('preprocessor',\n",
       "                 ColumnTransformer(transformers=[('num',\n",
       "                                                  Pipeline(steps=[('imputer',\n",
       "                                                                   SimpleImputer(fill_value='missing')),\n",
       "                                                                  ('scaler',\n",
       "                                                                   StandardScaler())]),\n",
       "                                                  ['length_corrected', 'nomi',\n",
       "                                                   'note_presse']),\n",
       "                                                 ('cat',\n",
       "                                                  Pipeline(steps=[('imputer',\n",
       "                                                                   SimpleImputer(fill_value='missing',\n",
       "                                                                                 strategy='constant')),\n",
       "                                                                  ('encoder',\n",
       "                                                                   OneHotEncoder(handle_unknown='ignore'))]),\n",
       "                                                  ['language'])])),\n",
       "                ('classifier',\n",
       "                 LogisticRegression(random_state=42, solver='liblinear'))])"
      ]
     },
     "execution_count": 28,
     "metadata": {},
     "output_type": "execute_result"
    }
   ],
   "source": [
    "pipeline_logi_M1.fit(X_train_M1, y_train)"
   ]
  },
  {
   "cell_type": "code",
   "execution_count": 29,
   "id": "1f2c80b0",
   "metadata": {},
   "outputs": [
    {
     "name": "stdout",
     "output_type": "stream",
     "text": [
      "Confusion matrix:\n",
      " [[460  69]\n",
      " [176 116]]\n",
      "Testing AUC: 70.7276 %\n",
      "Testing accuracy: 70.1583 %\n"
     ]
    }
   ],
   "source": [
    "y_test_hat = pipeline_logi_M1.predict(X_test_M1)\n",
    "y_test_hat_probs = pipeline_logi_M1.predict_proba(X_test_M1)[:,1]\n",
    "\n",
    "test_accuracy['logi_m1'] = accuracy_score(y_test, y_test_hat)*100\n",
    "test_auc_roc['logi_m1'] = roc_auc_score(y_test, y_test_hat_probs)*100\n",
    "\n",
    "print('Confusion matrix:\\n', confusion_matrix(y_test, y_test_hat))\n",
    "print('Testing AUC: %.4f %%' % test_auc_roc['logi_m1'])\n",
    "print('Testing accuracy: %.4f %%' % test_accuracy['logi_m1']) "
   ]
  },
  {
   "cell_type": "code",
   "execution_count": 30,
   "id": "c66ae194",
   "metadata": {},
   "outputs": [
    {
     "name": "stdout",
     "output_type": "stream",
     "text": [
      "Optimal Specificity: 0.8695652173913043\n",
      "Optimal Sensitivity: 0.3972602739726027\n"
     ]
    },
    {
     "data": {
      "image/png": "[encoded data removed]",
      "text/plain": [
       "<Figure size 640x480 with 2 Axes>"
      ]
     },
     "metadata": {},
     "output_type": "display_data"
    }
   ],
   "source": [
    "conf_matrix = metrics.confusion_matrix(y_test, y_test_hat) #to have a more visual confusion matrix\n",
    "true_neg, false_pos,false_neg, true_pos = conf_matrix.ravel()\n",
    "fig = metrics.ConfusionMatrixDisplay(conf_matrix)\n",
    "fig.plot() #  Creates the figure\n",
    "plt.savefig('confulogiM1.pdf')\n",
    "specificity = true_neg / (true_neg + false_pos)\n",
    "print(\"Optimal Specificity:\", specificity)\n",
    "sensitivity =true_pos / (true_pos + false_neg)\n",
    "print(\"Optimal Sensitivity:\", sensitivity)"
   ]
  },
  {
   "cell_type": "markdown",
   "id": "5f9d21c2",
   "metadata": {},
   "source": [
    "For M2"
   ]
  },
  {
   "cell_type": "code",
   "execution_count": 31,
   "id": "39539c61",
   "metadata": {},
   "outputs": [
    {
     "data": {
      "text/plain": [
       "['actor_1', 'nationality_1', 'language', 'genre1', 'réalisateur_1']"
      ]
     },
     "execution_count": 31,
     "metadata": {},
     "output_type": "execute_result"
    }
   ],
   "source": [
    "from sklearn.compose import make_column_selector as selector\n",
    "#how I will handle the categorical and numerical vraiables\n",
    "categorical_columns_selector = selector(dtype_include=object)\n",
    "categorical_columns = categorical_columns_selector(X_train_M2)\n",
    "categorical_columns"
   ]
  },
  {
   "cell_type": "code",
   "execution_count": 32,
   "id": "b895439f",
   "metadata": {},
   "outputs": [],
   "source": [
    "categorical_transformer= Pipeline(\n",
    "    steps=[\n",
    "    ('imputer', SimpleImputer(strategy='constant', fill_value='missing')),\n",
    "    ('encoder', OneHotEncoder(handle_unknown='ignore'))]\n",
    "\n",
    ")"
   ]
  },
  {
   "cell_type": "code",
   "execution_count": 33,
   "id": "a351dfcd",
   "metadata": {},
   "outputs": [
    {
     "data": {
      "text/plain": [
       "['length_corrected',\n",
       " 'first_actor_awards',\n",
       " 'nomi',\n",
       " 'note_presse',\n",
       " 'real_awards']"
      ]
     },
     "execution_count": 33,
     "metadata": {},
     "output_type": "execute_result"
    }
   ],
   "source": [
    "numeric_columns = [col for col in X_train_M2.columns if col not in categorical_columns]\n",
    "numeric_columns"
   ]
  },
  {
   "cell_type": "code",
   "execution_count": 34,
   "id": "7c21d458",
   "metadata": {},
   "outputs": [
    {
     "data": {
      "text/plain": [
       "Pipeline(steps=[('imputer', SimpleImputer(fill_value='missing')),\n",
       "                ('scaler', StandardScaler())])"
      ]
     },
     "execution_count": 34,
     "metadata": {},
     "output_type": "execute_result"
    }
   ],
   "source": [
    "numeric_transformer= Pipeline(\n",
    "    steps=[\n",
    "        ('imputer', SimpleImputer(strategy='mean', fill_value='missing')),\n",
    "        (\"scaler\", StandardScaler())]\n",
    ")\n",
    "numeric_transformer"
   ]
  },
  {
   "cell_type": "code",
   "execution_count": 35,
   "id": "49f0b126",
   "metadata": {},
   "outputs": [
    {
     "data": {
      "text/plain": [
       "ColumnTransformer(transformers=[('num',\n",
       "                                 Pipeline(steps=[('imputer',\n",
       "                                                  SimpleImputer(fill_value='missing')),\n",
       "                                                 ('scaler', StandardScaler())]),\n",
       "                                 ['length_corrected', 'first_actor_awards',\n",
       "                                  'nomi', 'note_presse', 'real_awards']),\n",
       "                                ('cat',\n",
       "                                 Pipeline(steps=[('imputer',\n",
       "                                                  SimpleImputer(fill_value='missing',\n",
       "                                                                strategy='constant')),\n",
       "                                                 ('encoder',\n",
       "                                                  OneHotEncoder(handle_unknown='ignore'))]),\n",
       "                                 ['actor_1', 'nationality_1', 'language',\n",
       "                                  'genre1', 'réalisateur_1'])])"
      ]
     },
     "execution_count": 35,
     "metadata": {},
     "output_type": "execute_result"
    }
   ],
   "source": [
    "from sklearn.compose import ColumnTransformer\n",
    "preprocessor = ColumnTransformer(\n",
    "    transformers=[\n",
    "        (\"num\", numeric_transformer, numeric_columns),\n",
    "        (\"cat\", categorical_transformer, categorical_columns),    \n",
    "]\n",
    ")\n",
    "preprocessor"
   ]
  },
  {
   "cell_type": "markdown",
   "id": "451291b1",
   "metadata": {},
   "source": [
    "##### The pipeline:"
   ]
  },
  {
   "cell_type": "code",
   "execution_count": 36,
   "id": "036ce1db",
   "metadata": {},
   "outputs": [
    {
     "data": {
      "text/plain": [
       "Pipeline(steps=[('preprocessor',\n",
       "                 ColumnTransformer(transformers=[('num',\n",
       "                                                  Pipeline(steps=[('imputer',\n",
       "                                                                   SimpleImputer(fill_value='missing')),\n",
       "                                                                  ('scaler',\n",
       "                                                                   StandardScaler())]),\n",
       "                                                  ['length_corrected',\n",
       "                                                   'first_actor_awards', 'nomi',\n",
       "                                                   'note_presse',\n",
       "                                                   'real_awards']),\n",
       "                                                 ('cat',\n",
       "                                                  Pipeline(steps=[('imputer',\n",
       "                                                                   SimpleImputer(fill_value='missing',\n",
       "                                                                                 strategy='constant')),\n",
       "                                                                  ('encoder',\n",
       "                                                                   OneHotEncoder(handle_unknown='ignore'))]),\n",
       "                                                  ['actor_1', 'nationality_1',\n",
       "                                                   'language', 'genre1',\n",
       "                                                   'réalisateur_1'])])),\n",
       "                ('classifier',\n",
       "                 LogisticRegression(random_state=42, solver='liblinear'))])"
      ]
     },
     "execution_count": 36,
     "metadata": {},
     "output_type": "execute_result"
    }
   ],
   "source": [
    "#Append classifier to preprocessing pipeline. Now we have a full prediction pipeline.\n",
    "pipeline_logi_M2 = Pipeline(\n",
    "    steps=[(\"preprocessor\", preprocessor), (\"classifier\", logi)]\n",
    ")\n",
    "pipeline_logi_M2"
   ]
  },
  {
   "cell_type": "code",
   "execution_count": 37,
   "id": "25c70bdf",
   "metadata": {},
   "outputs": [
    {
     "data": {
      "text/plain": [
       "Pipeline(steps=[('preprocessor',\n",
       "                 ColumnTransformer(transformers=[('num',\n",
       "                                                  Pipeline(steps=[('imputer',\n",
       "                                                                   SimpleImputer(fill_value='missing')),\n",
       "                                                                  ('scaler',\n",
       "                                                                   StandardScaler())]),\n",
       "                                                  ['length_corrected',\n",
       "                                                   'first_actor_awards', 'nomi',\n",
       "                                                   'note_presse',\n",
       "                                                   'real_awards']),\n",
       "                                                 ('cat',\n",
       "                                                  Pipeline(steps=[('imputer',\n",
       "                                                                   SimpleImputer(fill_value='missing',\n",
       "                                                                                 strategy='constant')),\n",
       "                                                                  ('encoder',\n",
       "                                                                   OneHotEncoder(handle_unknown='ignore'))]),\n",
       "                                                  ['actor_1', 'nationality_1',\n",
       "                                                   'language', 'genre1',\n",
       "                                                   'réalisateur_1'])])),\n",
       "                ('classifier',\n",
       "                 LogisticRegression(random_state=42, solver='liblinear'))])"
      ]
     },
     "execution_count": 37,
     "metadata": {},
     "output_type": "execute_result"
    }
   ],
   "source": [
    "pipeline_logi_M2.fit(X_train_M2, y_train)"
   ]
  },
  {
   "cell_type": "code",
   "execution_count": 38,
   "id": "c5be8e5d",
   "metadata": {},
   "outputs": [
    {
     "name": "stdout",
     "output_type": "stream",
     "text": [
      "Confusion matrix:\n",
      " [[451  78]\n",
      " [136 156]]\n",
      "Testing AUC: 76.5841 %\n",
      "Testing accuracy: 73.9342 %\n"
     ]
    }
   ],
   "source": [
    "y_test_hat = pipeline_logi_M2.predict(X_test_M2)\n",
    "y_test_hat_probs = pipeline_logi_M2.predict_proba(X_test_M2)[:,1]\n",
    "\n",
    "test_accuracy['logi_m2'] = accuracy_score(y_test, y_test_hat)*100\n",
    "test_auc_roc['logi_m2'] = roc_auc_score(y_test, y_test_hat_probs)*100\n",
    "\n",
    "print('Confusion matrix:\\n', confusion_matrix(y_test, y_test_hat))\n",
    "print('Testing AUC: %.4f %%' % test_auc_roc['logi_m2'])\n",
    "print('Testing accuracy: %.4f %%' % test_accuracy['logi_m2']) "
   ]
  },
  {
   "cell_type": "code",
   "execution_count": 39,
   "id": "5ff013a7",
   "metadata": {},
   "outputs": [
    {
     "name": "stdout",
     "output_type": "stream",
     "text": [
      "Optimal Specificity: 0.8525519848771267\n",
      "Optimal Sensitivity: 0.5342465753424658\n"
     ]
    },
    {
     "data": {
      "image/png": "[encoded data removed]",
      "text/plain": [
       "<Figure size 640x480 with 2 Axes>"
      ]
     },
     "metadata": {},
     "output_type": "display_data"
    }
   ],
   "source": [
    "conf_matrix = metrics.confusion_matrix(y_test, y_test_hat) #to have a more visual confusion matrix\n",
    "true_neg, false_pos,false_neg, true_pos = conf_matrix.ravel()\n",
    "fig = metrics.ConfusionMatrixDisplay(conf_matrix)\n",
    "fig.plot() #  Creates the figure\n",
    "plt.savefig('confulogiM2.pdf')\n",
    "specificity = true_neg / (true_neg + false_pos)\n",
    "print(\"Optimal Specificity:\", specificity)\n",
    "sensitivity =true_pos / (true_pos + false_neg)\n",
    "print(\"Optimal Sensitivity:\", sensitivity)"
   ]
  },
  {
   "cell_type": "markdown",
   "id": "6f09c94e",
   "metadata": {},
   "source": [
    "## With LogisticRegressionCV"
   ]
  },
  {
   "cell_type": "code",
   "execution_count": 40,
   "id": "9622e4d9",
   "metadata": {},
   "outputs": [],
   "source": [
    "k = KFold(n_splits=5, shuffle=True, random_state=42)\n",
    "#cross validation function: "
   ]
  },
  {
   "cell_type": "code",
   "execution_count": 41,
   "id": "913a8168",
   "metadata": {},
   "outputs": [],
   "source": [
    "C_value_logit = [1e20]\n",
    "#the fact that I don't want regularisation => C= 1/lambda => here really small lambda => regularisation =0\n",
    "#C is a hyperparameter of the logistic function"
   ]
  },
  {
   "cell_type": "code",
   "execution_count": 42,
   "id": "1e47c08e",
   "metadata": {},
   "outputs": [],
   "source": [
    "logistic = LogisticRegressionCV(\n",
    "    Cs=C_value_logit,#I have no regularisation\n",
    "    cv=k, #how I want to do cross-validation\n",
    "    refit=True,\n",
    "    solver='newton-cg' ,\n",
    "    tol=1e-7,\n",
    "    random_state=30,\n",
    ")\n",
    "#I precise lots of the hyperparameters"
   ]
  },
  {
   "cell_type": "code",
   "execution_count": 43,
   "id": "11bbf00c",
   "metadata": {},
   "outputs": [
    {
     "data": {
      "text/plain": [
       "Pipeline(steps=[('preprocessor',\n",
       "                 ColumnTransformer(transformers=[('num',\n",
       "                                                  Pipeline(steps=[('imputer',\n",
       "                                                                   SimpleImputer(fill_value='missing')),\n",
       "                                                                  ('scaler',\n",
       "                                                                   StandardScaler())]),\n",
       "                                                  ['length_corrected',\n",
       "                                                   'first_actor_awards', 'nomi',\n",
       "                                                   'note_presse',\n",
       "                                                   'real_awards']),\n",
       "                                                 ('cat',\n",
       "                                                  Pipeline(steps=[('imputer',\n",
       "                                                                   SimpleImputer(fill_value='missing',\n",
       "                                                                                 strategy='constant')),\n",
       "                                                                  ('encoder',\n",
       "                                                                   OneHotEncoder(handle_unknown='ignore'))]),\n",
       "                                                  ['actor_1', 'nationality_1',\n",
       "                                                   'language', 'genre1',\n",
       "                                                   'réalisateur_1'])])),\n",
       "                ('classifier',\n",
       "                 LogisticRegressionCV(Cs=[1e+20],\n",
       "                                      cv=KFold(n_splits=5, random_state=42, shuffle=True),\n",
       "                                      random_state=30, solver='newton-cg',\n",
       "                                      tol=1e-07))])"
      ]
     },
     "execution_count": 43,
     "metadata": {},
     "output_type": "execute_result"
    }
   ],
   "source": [
    "pipeline_logit_M2 = Pipeline(\n",
    "    steps=[(\"preprocessor\", preprocessor), (\"classifier\", logistic)]\n",
    ")\n",
    "pipeline_logit_M2"
   ]
  },
  {
   "cell_type": "code",
   "execution_count": 44,
   "id": "5efc80aa",
   "metadata": {},
   "outputs": [
    {
     "name": "stderr",
     "output_type": "stream",
     "text": [
      "C:\\Users\\User\\anaconda3\\lib\\site-packages\\sklearn\\utils\\optimize.py:210: ConvergenceWarning: newton-cg failed to converge. Increase the number of iterations.\n",
      "C:\\Users\\User\\anaconda3\\lib\\site-packages\\sklearn\\utils\\optimize.py:210: ConvergenceWarning: newton-cg failed to converge. Increase the number of iterations.\n",
      "C:\\Users\\User\\anaconda3\\lib\\site-packages\\sklearn\\utils\\optimize.py:210: ConvergenceWarning: newton-cg failed to converge. Increase the number of iterations.\n",
      "C:\\Users\\User\\anaconda3\\lib\\site-packages\\sklearn\\utils\\optimize.py:210: ConvergenceWarning: newton-cg failed to converge. Increase the number of iterations.\n",
      "C:\\Users\\User\\anaconda3\\lib\\site-packages\\sklearn\\utils\\optimize.py:210: ConvergenceWarning: newton-cg failed to converge. Increase the number of iterations.\n",
      "C:\\Users\\User\\anaconda3\\lib\\site-packages\\sklearn\\utils\\optimize.py:210: ConvergenceWarning: newton-cg failed to converge. Increase the number of iterations.\n"
     ]
    },
    {
     "data": {
      "text/plain": [
       "Pipeline(steps=[('preprocessor',\n",
       "                 ColumnTransformer(transformers=[('num',\n",
       "                                                  Pipeline(steps=[('imputer',\n",
       "                                                                   SimpleImputer(fill_value='missing')),\n",
       "                                                                  ('scaler',\n",
       "                                                                   StandardScaler())]),\n",
       "                                                  ['length_corrected',\n",
       "                                                   'first_actor_awards', 'nomi',\n",
       "                                                   'note_presse',\n",
       "                                                   'real_awards']),\n",
       "                                                 ('cat',\n",
       "                                                  Pipeline(steps=[('imputer',\n",
       "                                                                   SimpleImputer(fill_value='missing',\n",
       "                                                                                 strategy='constant')),\n",
       "                                                                  ('encoder',\n",
       "                                                                   OneHotEncoder(handle_unknown='ignore'))]),\n",
       "                                                  ['actor_1', 'nationality_1',\n",
       "                                                   'language', 'genre1',\n",
       "                                                   'réalisateur_1'])])),\n",
       "                ('classifier',\n",
       "                 LogisticRegressionCV(Cs=[1e+20],\n",
       "                                      cv=KFold(n_splits=5, random_state=42, shuffle=True),\n",
       "                                      random_state=30, solver='newton-cg',\n",
       "                                      tol=1e-07))])"
      ]
     },
     "execution_count": 44,
     "metadata": {},
     "output_type": "execute_result"
    }
   ],
   "source": [
    "pipeline_logit_M2.fit(X_train_M2, y_train)"
   ]
  },
  {
   "cell_type": "code",
   "execution_count": 45,
   "id": "b79d78fe",
   "metadata": {},
   "outputs": [
    {
     "name": "stdout",
     "output_type": "stream",
     "text": [
      "Confusion matrix:\n",
      " [[387 142]\n",
      " [127 165]]\n",
      "Testing AUC: 68.8635 %\n",
      "Testing accuracy: 67.2351 %\n"
     ]
    }
   ],
   "source": [
    "y_test_hat = pipeline_logit_M2.predict(X_test_M2)\n",
    "y_test_hat_probs = pipeline_logit_M2.predict_proba(X_test_M2)[:,1]\n",
    "\n",
    "test_accuracy['logit_m2'] = accuracy_score(y_test, y_test_hat)*100\n",
    "test_auc_roc['logit_m2'] = roc_auc_score(y_test, y_test_hat_probs)*100\n",
    "\n",
    "print('Confusion matrix:\\n', confusion_matrix(y_test, y_test_hat))\n",
    "print('Testing AUC: %.4f %%' % test_auc_roc['logit_m2'])\n",
    "print('Testing accuracy: %.4f %%' % test_accuracy['logit_m2']) "
   ]
  },
  {
   "cell_type": "code",
   "execution_count": 46,
   "id": "e5a53b7d",
   "metadata": {},
   "outputs": [
    {
     "name": "stdout",
     "output_type": "stream",
     "text": [
      "Optimal Specificity: 0.7315689981096408\n",
      "Optimal Sensitivity: 0.565068493150685\n"
     ]
    },
    {
     "data": {
      "image/png": "[encoded data removed]",
      "text/plain": [
       "<Figure size 640x480 with 2 Axes>"
      ]
     },
     "metadata": {},
     "output_type": "display_data"
    }
   ],
   "source": [
    "conf_matrix = metrics.confusion_matrix(y_test, y_test_hat) #to have a more visual confusion matrix\n",
    "true_neg, false_pos,false_neg, true_pos = conf_matrix.ravel()\n",
    "fig = metrics.ConfusionMatrixDisplay(conf_matrix)\n",
    "fig.plot() #  Creates the figure\n",
    "plt.savefig('confulogitM2.pdf')\n",
    "specificity = true_neg / (true_neg + false_pos)\n",
    "print(\"Optimal Specificity:\", specificity)\n",
    "sensitivity =true_pos / (true_pos + false_neg)\n",
    "print(\"Optimal Sensitivity:\", sensitivity)"
   ]
  },
  {
   "cell_type": "markdown",
   "id": "0568555c",
   "metadata": {},
   "source": [
    "### Lasso"
   ]
  },
  {
   "cell_type": "code",
   "execution_count": 47,
   "id": "50a309ef",
   "metadata": {},
   "outputs": [
    {
     "data": {
      "text/plain": [
       "10"
      ]
     },
     "execution_count": 47,
     "metadata": {},
     "output_type": "execute_result"
    }
   ],
   "source": [
    "lambdas = list(10 ** np.arange(-1, -4.01, -1 / 3))\n",
    "n_obs = X_train_M2.shape[0] * 4 / 5\n",
    "C_values = [\n",
    "    1 / (l * n_obs) for l in lambdas\n",
    "]  # Cs are the inverse of regularization strength\n",
    "len(C_values)"
   ]
  },
  {
   "cell_type": "code",
   "execution_count": 48,
   "id": "d28ba732",
   "metadata": {},
   "outputs": [],
   "source": [
    "logistic_lasso = LogisticRegressionCV(\n",
    "    Cs=C_values,\n",
    "    penalty=\"l1\", # L1 regularization = lasso \n",
    "    cv=k,\n",
    "    refit=True,\n",
    "    scoring=\"roc_auc\",\n",
    "    solver=\"liblinear\",\n",
    "    random_state=24,\n",
    ")\n"
   ]
  },
  {
   "cell_type": "code",
   "execution_count": 49,
   "id": "5f0bc5fb",
   "metadata": {},
   "outputs": [
    {
     "data": {
      "text/plain": [
       "Pipeline(steps=[('preprocessor',\n",
       "                 ColumnTransformer(transformers=[('num',\n",
       "                                                  Pipeline(steps=[('imputer',\n",
       "                                                                   SimpleImputer(fill_value='missing')),\n",
       "                                                                  ('scaler',\n",
       "                                                                   StandardScaler())]),\n",
       "                                                  ['length_corrected',\n",
       "                                                   'first_actor_awards', 'nomi',\n",
       "                                                   'note_presse',\n",
       "                                                   'real_awards']),\n",
       "                                                 ('cat',\n",
       "                                                  Pipeline(steps=[('imputer',\n",
       "                                                                   SimpleImputer(fill_value='missing',\n",
       "                                                                                 strategy='constant')),\n",
       "                                                                  ('encoder',\n",
       "                                                                   OneHo...\n",
       "                ('classifier',\n",
       "                 LogisticRegressionCV(Cs=[0.005075111652456354,\n",
       "                                          0.010933996599837004,\n",
       "                                          0.0235565815753795,\n",
       "                                          0.05075111652456351,\n",
       "                                          0.10933996599836998,\n",
       "                                          0.23556581575379473,\n",
       "                                          0.5075111652456348,\n",
       "                                          1.0933996599836997,\n",
       "                                          2.3556581575379476,\n",
       "                                          5.075111652456344],\n",
       "                                      cv=KFold(n_splits=5, random_state=42, shuffle=True),\n",
       "                                      penalty='l1', random_state=24,\n",
       "                                      scoring='roc_auc', solver='liblinear'))])"
      ]
     },
     "execution_count": 49,
     "metadata": {},
     "output_type": "execute_result"
    }
   ],
   "source": [
    "#Append classifier to preprocessing pipeline. Now we have a full prediction pipeline.\n",
    "pipeline_logistic_lasso = Pipeline(\n",
    "    steps=[(\"preprocessor\", preprocessor), (\"classifier\", logistic_lasso)]\n",
    ")\n",
    "pipeline_logistic_lasso"
   ]
  },
  {
   "cell_type": "code",
   "execution_count": 50,
   "id": "acab0c6a",
   "metadata": {},
   "outputs": [
    {
     "data": {
      "text/plain": [
       "Pipeline(steps=[('preprocessor',\n",
       "                 ColumnTransformer(transformers=[('num',\n",
       "                                                  Pipeline(steps=[('imputer',\n",
       "                                                                   SimpleImputer(fill_value='missing')),\n",
       "                                                                  ('scaler',\n",
       "                                                                   StandardScaler())]),\n",
       "                                                  ['length_corrected',\n",
       "                                                   'first_actor_awards', 'nomi',\n",
       "                                                   'note_presse',\n",
       "                                                   'real_awards']),\n",
       "                                                 ('cat',\n",
       "                                                  Pipeline(steps=[('imputer',\n",
       "                                                                   SimpleImputer(fill_value='missing',\n",
       "                                                                                 strategy='constant')),\n",
       "                                                                  ('encoder',\n",
       "                                                                   OneHo...\n",
       "                ('classifier',\n",
       "                 LogisticRegressionCV(Cs=[0.005075111652456354,\n",
       "                                          0.010933996599837004,\n",
       "                                          0.0235565815753795,\n",
       "                                          0.05075111652456351,\n",
       "                                          0.10933996599836998,\n",
       "                                          0.23556581575379473,\n",
       "                                          0.5075111652456348,\n",
       "                                          1.0933996599836997,\n",
       "                                          2.3556581575379476,\n",
       "                                          5.075111652456344],\n",
       "                                      cv=KFold(n_splits=5, random_state=42, shuffle=True),\n",
       "                                      penalty='l1', random_state=24,\n",
       "                                      scoring='roc_auc', solver='liblinear'))])"
      ]
     },
     "execution_count": 50,
     "metadata": {},
     "output_type": "execute_result"
    }
   ],
   "source": [
    "logLasso=pipeline_logistic_lasso.fit(X_train_M2, y_train)\n",
    "logLasso"
   ]
  },
  {
   "cell_type": "code",
   "execution_count": 51,
   "id": "b1e4fc8a",
   "metadata": {},
   "outputs": [
    {
     "name": "stdout",
     "output_type": "stream",
     "text": [
      "Confusion matrix:\n",
      " [[446  83]\n",
      " [138 154]]\n",
      "Testing AUC: 75.6548 %\n",
      "Testing accuracy: 73.0816 %\n"
     ]
    }
   ],
   "source": [
    "y_test_hat = pipeline_logistic_lasso.predict(X_test_M2)\n",
    "y_test_hat_probs = pipeline_logistic_lasso.predict_proba(X_test_M2)[:,1]\n",
    "\n",
    "test_accuracy['lasso'] = accuracy_score(y_test, y_test_hat)*100\n",
    "test_auc_roc['lasso'] = roc_auc_score(y_test, y_test_hat_probs, multi_class='ovr')*100\n",
    "\n",
    "print('Confusion matrix:\\n', confusion_matrix(y_test, y_test_hat))\n",
    "print('Testing AUC: %.4f %%' % test_auc_roc['lasso'])\n",
    "print('Testing accuracy: %.4f %%' % test_accuracy['lasso']) "
   ]
  },
  {
   "cell_type": "code",
   "execution_count": 52,
   "id": "5e6f3553",
   "metadata": {},
   "outputs": [
    {
     "name": "stdout",
     "output_type": "stream",
     "text": [
      "Optimal Specificity: 0.8431001890359168\n",
      "Optimal Sensitivity: 0.5273972602739726\n"
     ]
    },
    {
     "data": {
      "image/png": "[encoded data removed]",
      "text/plain": [
       "<Figure size 640x480 with 2 Axes>"
      ]
     },
     "metadata": {},
     "output_type": "display_data"
    }
   ],
   "source": [
    "conf_matrix = metrics.confusion_matrix(y_test, y_test_hat) #to have a more visual confusion matrix\n",
    "true_neg, false_pos,false_neg, true_pos = conf_matrix.ravel()\n",
    "fig = metrics.ConfusionMatrixDisplay(conf_matrix)\n",
    "fig.plot() #  Creates the figure\n",
    "plt.savefig('confulasso.pdf')\n",
    "specificity = true_neg / (true_neg + false_pos)\n",
    "print(\"Optimal Specificity:\", specificity)\n",
    "sensitivity =true_pos / (true_pos + false_neg)\n",
    "print(\"Optimal Sensitivity:\", sensitivity)"
   ]
  },
  {
   "cell_type": "code",
   "execution_count": 53,
   "id": "5b89e5c2",
   "metadata": {},
   "outputs": [
    {
     "data": {
      "text/plain": [
       "array([1.99438633, 0.99438633, 0.96478206, 0.95262725, 0.94546047,\n",
       "       0.94104162, 0.94028556, 0.93568154, 0.92820266, 0.92728574,\n",
       "       0.87042357, 0.86479383, 0.86201307, 0.857157  , 0.82669602,\n",
       "       0.82562233, 0.78520585, 0.78358525, 0.77409564, 0.7718817 ,\n",
       "       0.75910965, 0.75261219, 0.74941893, 0.74694354, 0.74487637,\n",
       "       0.7393095 , 0.73349748, 0.72789541, 0.72669794, 0.72657759,\n",
       "       0.71251959, 0.70798901, 0.70796243, 0.70314026, 0.68825331,\n",
       "       0.68745249, 0.68451173, 0.68416277, 0.68307751, 0.68269129,\n",
       "       0.67150162, 0.67071282, 0.66850795, 0.66710689, 0.66628066,\n",
       "       0.65418615, 0.64894993, 0.63979077, 0.63893705, 0.63254037,\n",
       "       0.6288162 , 0.62418646, 0.61886763, 0.61659489, 0.61413957,\n",
       "       0.61055382, 0.60926163, 0.60701595, 0.60281071, 0.60279526,\n",
       "       0.60088636, 0.60062027, 0.59026747, 0.58781844, 0.58756563,\n",
       "       0.58532336, 0.58505369, 0.58443942, 0.58241697, 0.57561834,\n",
       "       0.57372537, 0.57309916, 0.56855135, 0.56708879, 0.56609881,\n",
       "       0.56363228, 0.55809796, 0.54957954, 0.54945087, 0.54837004,\n",
       "       0.54703206, 0.54674386, 0.54431398, 0.53811728, 0.53745737,\n",
       "       0.53056264, 0.53045879, 0.52704119, 0.5269834 , 0.52668143,\n",
       "       0.52404009, 0.5221582 , 0.52156256, 0.52006481, 0.51848606,\n",
       "       0.51504369, 0.5114224 , 0.51050719, 0.50501167, 0.50483201,\n",
       "       0.50318308, 0.50254098, 0.49651641, 0.49592415, 0.49468291,\n",
       "       0.49039164, 0.48818304, 0.48555425, 0.48508018, 0.48362137,\n",
       "       0.48176448, 0.48149104, 0.48133765, 0.4773227 , 0.46923847,\n",
       "       0.46841392, 0.46811307, 0.46475573, 0.46301408, 0.45859442,\n",
       "       0.457061  , 0.45467669, 0.45215637, 0.45203566, 0.44835549,\n",
       "       0.44658911, 0.44596016, 0.43972936, 0.43203068, 0.43152532,\n",
       "       0.42912399, 0.42669291, 0.42425032, 0.41990792, 0.41951632,\n",
       "       0.4184081 , 0.41765765, 0.41412866, 0.4126025 , 0.41206613,\n",
       "       0.40880003, 0.40789897, 0.40451141, 0.40038901, 0.39876825,\n",
       "       0.39781843, 0.39408067, 0.39319481, 0.39120176, 0.38957919,\n",
       "       0.38894738, 0.38768767, 0.38657003, 0.38467286, 0.38319178,\n",
       "       0.38244968, 0.38178445, 0.38077811, 0.37958478, 0.37749429,\n",
       "       0.3759253 , 0.37529165, 0.37453942, 0.37443322, 0.37358694,\n",
       "       0.37333042, 0.37327088, 0.36853658, 0.3680493 , 0.36771977,\n",
       "       0.36627719, 0.36315286, 0.36236403, 0.3622781 , 0.36170962,\n",
       "       0.35278263, 0.35243352, 0.35110952, 0.3505837 , 0.35005403,\n",
       "       0.3490244 , 0.34598545, 0.34577693, 0.34332859, 0.34023794,\n",
       "       0.33446685, 0.3340635 , 0.33187452, 0.33166273, 0.33117292,\n",
       "       0.331132  , 0.32909949, 0.32862732, 0.32807816, 0.32790822,\n",
       "       0.32051829, 0.32036251, 0.31974925, 0.3183623 , 0.31093149,\n",
       "       0.30894511, 0.30646221, 0.30565269, 0.29799982, 0.29777312,\n",
       "       0.29417895, 0.2928315 , 0.29105152, 0.29042751, 0.29040767,\n",
       "       0.28984237, 0.28479813, 0.28421818, 0.28232164, 0.28045265,\n",
       "       0.27922099, 0.27841475, 0.27789328, 0.26998739, 0.26921156,\n",
       "       0.26869658, 0.26765639, 0.26566843, 0.26436952, 0.26390511,\n",
       "       0.25915666, 0.25880653, 0.25628601, 0.25498117, 0.25448812,\n",
       "       0.2535502 , 0.25297492, 0.25296618, 0.25062815, 0.2495098 ,\n",
       "       0.24734535, 0.24577629, 0.24529517, 0.24134232, 0.24078361,\n",
       "       0.23962674, 0.23871202, 0.23679808, 0.23632904, 0.23546424,\n",
       "       0.23500708, 0.23371963, 0.2335903 , 0.22123583, 0.22081754,\n",
       "       0.21341725, 0.21215115, 0.21164002, 0.21124164, 0.21066481,\n",
       "       0.20891339, 0.20800126, 0.20755063, 0.20594773, 0.2041533 ,\n",
       "       0.19559133, 0.19535978, 0.19511085, 0.19427196, 0.18828577,\n",
       "       0.1877648 , 0.18364253, 0.18259413, 0.18085361, 0.18039888,\n",
       "       0.18027632, 0.17612378, 0.17513158, 0.17374963, 0.17326029,\n",
       "       0.17224186, 0.17132937, 0.16363137, 0.16140904, 0.15897695,\n",
       "       0.1581171 , 0.15749748, 0.15639314, 0.1535163 , 0.15322593,\n",
       "       0.15058947, 0.14856807, 0.14659438, 0.14429973, 0.14300712,\n",
       "       0.14246604, 0.14059963, 0.13890567, 0.13784737, 0.1372581 ,\n",
       "       0.12712721, 0.12636706, 0.11897944, 0.11605956, 0.11436288,\n",
       "       0.11376113, 0.09683824, 0.09562786, 0.08559098, 0.08461953,\n",
       "       0.07249488, 0.07168122, 0.06575759, 0.06545259, 0.06065407,\n",
       "       0.05943479, 0.04282949, 0.03499988, 0.00680631])"
      ]
     },
     "execution_count": 53,
     "metadata": {},
     "output_type": "execute_result"
    }
   ],
   "source": [
    "fpr, tpr, threshold = metrics.roc_curve(y_test, y_test_hat_probs)\n",
    "roc_auc = metrics.auc(fpr, tpr)\n",
    "threshold"
   ]
  },
  {
   "cell_type": "code",
   "execution_count": 54,
   "id": "9504e40c",
   "metadata": {},
   "outputs": [
    {
     "data": {
      "image/png": "[encoded data removed]",
      "text/plain": [
       "<Figure size 640x480 with 1 Axes>"
      ]
     },
     "metadata": {},
     "output_type": "display_data"
    }
   ],
   "source": [
    "# method I: plt\n",
    "import matplotlib.pyplot as plt\n",
    "plt.title('Receiver Operating Characteristic')\n",
    "plt.plot(fpr, tpr, 'b', label = 'AUC = %0.2f' % roc_auc)\n",
    "plt.plot([0, 1], [0, 1],'r--')\n",
    "plt.ylabel('True Positive Rate')\n",
    "plt.xlabel('False Positive Rate')\n",
    "plt.show()"
   ]
  },
  {
   "cell_type": "markdown",
   "id": "8096e603",
   "metadata": {},
   "source": [
    "### XGBOOST"
   ]
  },
  {
   "cell_type": "code",
   "execution_count": 55,
   "id": "c8c42d60",
   "metadata": {},
   "outputs": [],
   "source": [
    "import xgboost as xgb"
   ]
  },
  {
   "cell_type": "code",
   "execution_count": 56,
   "id": "b15ef232",
   "metadata": {},
   "outputs": [],
   "source": [
    "xgb_model = xgb.XGBClassifier(objective=\"reg:squarederror\", random_state=42)"
   ]
  },
  {
   "cell_type": "code",
   "execution_count": 57,
   "id": "8bbe1dbb",
   "metadata": {},
   "outputs": [
    {
     "data": {
      "text/plain": [
       "Pipeline(steps=[('preprocessor',\n",
       "                 ColumnTransformer(transformers=[('num',\n",
       "                                                  Pipeline(steps=[('imputer',\n",
       "                                                                   SimpleImputer(fill_value='missing')),\n",
       "                                                                  ('scaler',\n",
       "                                                                   StandardScaler())]),\n",
       "                                                  ['length_corrected',\n",
       "                                                   'first_actor_awards', 'nomi',\n",
       "                                                   'note_presse',\n",
       "                                                   'real_awards']),\n",
       "                                                 ('cat',\n",
       "                                                  Pipeline(steps=[('imputer',\n",
       "                                                                   SimpleImputer(fill_value='missing',\n",
       "                                                                                 strategy='constant')),\n",
       "                                                                  ('encoder',\n",
       "                                                                   OneHo...\n",
       "                               grow_policy=None, importance_type=None,\n",
       "                               interaction_constraints=None, learning_rate=None,\n",
       "                               max_bin=None, max_cat_threshold=None,\n",
       "                               max_cat_to_onehot=None, max_delta_step=None,\n",
       "                               max_depth=None, max_leaves=None,\n",
       "                               min_child_weight=None, missing=nan,\n",
       "                               monotone_constraints=None, n_estimators=100,\n",
       "                               n_jobs=None, num_parallel_tree=None,\n",
       "                               objective='reg:squarederror', predictor=None, ...))])"
      ]
     },
     "execution_count": 57,
     "metadata": {},
     "output_type": "execute_result"
    }
   ],
   "source": [
    "#Append classifier to preprocessing pipeline. Now we have a full prediction pipeline.\n",
    "pipeline_xgp = Pipeline(\n",
    "    steps=[(\"preprocessor\", preprocessor), (\"classifier\", xgb_model)]\n",
    ")\n",
    "pipeline_xgp"
   ]
  },
  {
   "cell_type": "code",
   "execution_count": 58,
   "id": "a056a1ed",
   "metadata": {},
   "outputs": [
    {
     "data": {
      "text/plain": [
       "Pipeline(steps=[('preprocessor',\n",
       "                 ColumnTransformer(transformers=[('num',\n",
       "                                                  Pipeline(steps=[('imputer',\n",
       "                                                                   SimpleImputer(fill_value='missing')),\n",
       "                                                                  ('scaler',\n",
       "                                                                   StandardScaler())]),\n",
       "                                                  ['length_corrected',\n",
       "                                                   'first_actor_awards', 'nomi',\n",
       "                                                   'note_presse',\n",
       "                                                   'real_awards']),\n",
       "                                                 ('cat',\n",
       "                                                  Pipeline(steps=[('imputer',\n",
       "                                                                   SimpleImputer(fill_value='missing',\n",
       "                                                                                 strategy='constant')),\n",
       "                                                                  ('encoder',\n",
       "                                                                   OneHo...\n",
       "                               grow_policy=None, importance_type=None,\n",
       "                               interaction_constraints=None, learning_rate=None,\n",
       "                               max_bin=None, max_cat_threshold=None,\n",
       "                               max_cat_to_onehot=None, max_delta_step=None,\n",
       "                               max_depth=None, max_leaves=None,\n",
       "                               min_child_weight=None, missing=nan,\n",
       "                               monotone_constraints=None, n_estimators=100,\n",
       "                               n_jobs=None, num_parallel_tree=None,\n",
       "                               objective='reg:squarederror', predictor=None, ...))])"
      ]
     },
     "execution_count": 58,
     "metadata": {},
     "output_type": "execute_result"
    }
   ],
   "source": [
    "model_xgb=pipeline_xgp.fit(X_train_M2, y_train)\n",
    "model_xgb"
   ]
  },
  {
   "cell_type": "code",
   "execution_count": 59,
   "id": "0a8ce250",
   "metadata": {},
   "outputs": [],
   "source": [
    "y_test_hat = model_xgb.predict(X_test_M2)\n",
    "y_test_hat_probs = model_xgb.predict_proba(X_test_M2)[:,1]"
   ]
  },
  {
   "cell_type": "code",
   "execution_count": 60,
   "id": "39eba085",
   "metadata": {},
   "outputs": [
    {
     "name": "stdout",
     "output_type": "stream",
     "text": [
      "Testing AUC: 77.9899 %\n",
      "Testing accuracy: 73.5688 %\n"
     ]
    }
   ],
   "source": [
    "test_accuracy['xgb'] = accuracy_score(y_test, y_test_hat)*100\n",
    "test_auc_roc['xgb'] = roc_auc_score(y_test, y_test_hat_probs)*100\n",
    "print('Testing AUC: %.4f %%' % test_auc_roc['xgb'])\n",
    "print('Testing accuracy: %.4f %%' % test_accuracy['xgb']) "
   ]
  },
  {
   "cell_type": "code",
   "execution_count": 61,
   "id": "68cbde03",
   "metadata": {},
   "outputs": [
    {
     "name": "stdout",
     "output_type": "stream",
     "text": [
      "Optimal Specificity: 0.8449905482041588\n",
      "Optimal Sensitivity: 0.5376712328767124\n"
     ]
    },
    {
     "data": {
      "image/png": "[encoded data removed]",
      "text/plain": [
       "<Figure size 640x480 with 2 Axes>"
      ]
     },
     "metadata": {},
     "output_type": "display_data"
    }
   ],
   "source": [
    "conf_matrix = metrics.confusion_matrix(y_test, y_test_hat) #to have a more visual confusion matrix\n",
    "true_neg, false_pos,false_neg, true_pos = conf_matrix.ravel()\n",
    "fig = metrics.ConfusionMatrixDisplay(conf_matrix)\n",
    "fig.plot() #  Creates the figure\n",
    "plt.savefig('xgboost.pdf')\n",
    "specificity = true_neg / (true_neg + false_pos)\n",
    "print(\"Optimal Specificity:\", specificity)\n",
    "sensitivity =true_pos / (true_pos + false_neg)\n",
    "print(\"Optimal Sensitivity:\", sensitivity)"
   ]
  },
  {
   "cell_type": "markdown",
   "id": "0fca22d5",
   "metadata": {},
   "source": [
    "## Comparing the different models"
   ]
  },
  {
   "cell_type": "code",
   "execution_count": 62,
   "id": "68d6919b",
   "metadata": {},
   "outputs": [
    {
     "data": {
      "text/plain": [
       "{'logi_m1': 70.72759406479013,\n",
       " 'logi_m2': 76.58414687831784,\n",
       " 'logit_m2': 68.86345391925836,\n",
       " 'lasso': 75.65482818447833,\n",
       " 'xgb': 77.9899396638786}"
      ]
     },
     "execution_count": 62,
     "metadata": {},
     "output_type": "execute_result"
    }
   ],
   "source": [
    "test_auc_roc"
   ]
  },
  {
   "cell_type": "code",
   "execution_count": 63,
   "id": "85f5c58b",
   "metadata": {},
   "outputs": [
    {
     "data": {
      "text/plain": [
       "{'logi_m1': 70.15834348355664,\n",
       " 'logi_m2': 73.93422655298416,\n",
       " 'logit_m2': 67.23507917174177,\n",
       " 'lasso': 73.0816077953715,\n",
       " 'xgb': 73.5688185140073}"
      ]
     },
     "execution_count": 63,
     "metadata": {},
     "output_type": "execute_result"
    }
   ],
   "source": [
    "test_accuracy"
   ]
  },
  {
   "cell_type": "markdown",
   "id": "cba62f3b",
   "metadata": {},
   "source": [
    "We can see that logi_m2 gives the best results so we have found a model allowing us to predict success of films"
   ]
  },
  {
   "cell_type": "code",
   "execution_count": null,
   "id": "da96e168",
   "metadata": {},
   "outputs": [],
   "source": []
  }
 ],
 "metadata": {
  "kernelspec": {
   "display_name": "Python 3 (ipykernel)",
   "language": "python",
   "name": "python3"
  },
  "language_info": {
   "codemirror_mode": {
    "name": "ipython",
    "version": 3
   },
   "file_extension": ".py",
   "mimetype": "text/x-python",
   "name": "python",
   "nbconvert_exporter": "python",
   "pygments_lexer": "ipython3",
   "version": "3.9.13"
  }
 },
 "nbformat": 4,
 "nbformat_minor": 5
}
