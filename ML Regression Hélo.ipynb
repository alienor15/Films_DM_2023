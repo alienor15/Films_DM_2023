{
 "cells": [
  {
   "cell_type": "code",
   "execution_count": 1,
   "id": "a96f4144",
   "metadata": {},
   "outputs": [],
   "source": [
    "import pandas as pd\n",
    "import os\n",
    "import sys\n",
    "from datetime import datetime\n",
    "import re\n",
    "\n",
    "import numpy as np\n",
    "import pandas as pd\n",
    "import seaborn as sn\n",
    "import matplotlib.pyplot as plt\n",
    "from mizani.formatters import percent_format\n",
    "from plotnine import *\n",
    "\n",
    "import numpy as np\n",
    "import pandas as pd\n",
    "#import patsy\n",
    "\n",
    "#sklearn \n",
    "from sklearn.preprocessing import StandardScaler, OneHotEncoder\n",
    "#to work on the X\n",
    "#StandardScaler => standardize data (for categorical data)\n",
    "#OneHotEncoder => creates dummies using categorical variables\n",
    "from sklearn.model_selection import GridSearchCV, KFold, train_test_split\n",
    "#train_test_split => \n",
    "#KFold => more complex way to split training and test set: fit the model five times and then average the data\n",
    "#gridsearch cross validation: to search a set of hyperparameters (the model will use some hyperparameters=> alpha on the regularisation part for example=> search through different para and get the best one)\n",
    "from sklearn.linear_model import LogisticRegression, LogisticRegressionCV\n",
    "#import regression logistic and the one with some crossvalidation in it (LogisticRegressionCV)\n",
    "from sklearn.pipeline import Pipeline\n",
    "#like a box => quite graphical \n",
    "from sklearn.metrics import roc_curve, roc_auc_score, classification_report, accuracy_score, confusion_matrix \n",
    "#metrics\n",
    "import seaborn as sns\n",
    "import matplotlib.pyplot as plt\n",
    "from sklearn.impute import SimpleImputer"
   ]
  },
  {
   "cell_type": "code",
   "execution_count": null,
   "id": "f7d6b609",
   "metadata": {},
   "outputs": [],
   "source": []
  },
  {
   "cell_type": "code",
   "execution_count": 2,
   "id": "1f5e788d",
   "metadata": {},
   "outputs": [
    {
     "data": {
      "text/html": [
       "<div>\n",
       "<style scoped>\n",
       "    .dataframe tbody tr th:only-of-type {\n",
       "        vertical-align: middle;\n",
       "    }\n",
       "\n",
       "    .dataframe tbody tr th {\n",
       "        vertical-align: top;\n",
       "    }\n",
       "\n",
       "    .dataframe thead th {\n",
       "        text-align: right;\n",
       "    }\n",
       "</style>\n",
       "<table border=\"1\" class=\"dataframe\">\n",
       "  <thead>\n",
       "    <tr style=\"text-align: right;\">\n",
       "      <th></th>\n",
       "      <th>Titre</th>\n",
       "      <th>genre1</th>\n",
       "      <th>genre2</th>\n",
       "      <th>réalisateur_1</th>\n",
       "      <th>actor_1</th>\n",
       "      <th>actor 2</th>\n",
       "      <th>actor 3</th>\n",
       "      <th>note_presse</th>\n",
       "      <th>note_spectators</th>\n",
       "      <th>Scenar</th>\n",
       "      <th>...</th>\n",
       "      <th>language</th>\n",
       "      <th>real awards</th>\n",
       "      <th>first actor awards</th>\n",
       "      <th>Second actor awards</th>\n",
       "      <th>length_corrected</th>\n",
       "      <th>day</th>\n",
       "      <th>month</th>\n",
       "      <th>year</th>\n",
       "      <th>nomi</th>\n",
       "      <th>awards</th>\n",
       "    </tr>\n",
       "  </thead>\n",
       "  <tbody>\n",
       "    <tr>\n",
       "      <th>0</th>\n",
       "      <td>#No_Filter</td>\n",
       "      <td>Epouvante-horreur</td>\n",
       "      <td>Thriller</td>\n",
       "      <td>Michael Dupret</td>\n",
       "      <td>Hannah McIver</td>\n",
       "      <td>Jasmine Daoud</td>\n",
       "      <td>Samuel Van der Zwalmen</td>\n",
       "      <td>NaN</td>\n",
       "      <td>bad</td>\n",
       "      <td>NaN</td>\n",
       "      <td>...</td>\n",
       "      <td>Anglais</td>\n",
       "      <td>0.0</td>\n",
       "      <td>0.0</td>\n",
       "      <td>0.0</td>\n",
       "      <td>87</td>\n",
       "      <td>5</td>\n",
       "      <td>mai</td>\n",
       "      <td>2023</td>\n",
       "      <td>0</td>\n",
       "      <td>0</td>\n",
       "    </tr>\n",
       "    <tr>\n",
       "      <th>1</th>\n",
       "      <td>13 : La comédie musicale</td>\n",
       "      <td>Drame</td>\n",
       "      <td>Famille</td>\n",
       "      <td>Tamra Davis</td>\n",
       "      <td>Eli Golden</td>\n",
       "      <td>Josh Peck</td>\n",
       "      <td>Debra Messing</td>\n",
       "      <td>NaN</td>\n",
       "      <td>soso</td>\n",
       "      <td>Robert Horn</td>\n",
       "      <td>...</td>\n",
       "      <td>Anglais</td>\n",
       "      <td>1.0</td>\n",
       "      <td>0.0</td>\n",
       "      <td>0.0</td>\n",
       "      <td>94</td>\n",
       "      <td>12</td>\n",
       "      <td>août</td>\n",
       "      <td>2022</td>\n",
       "      <td>0</td>\n",
       "      <td>0</td>\n",
       "    </tr>\n",
       "    <tr>\n",
       "      <th>2</th>\n",
       "      <td>16 ans</td>\n",
       "      <td>Drame</td>\n",
       "      <td>Romance</td>\n",
       "      <td>Philippe Lioret</td>\n",
       "      <td>Sabrina Levoye</td>\n",
       "      <td>Teïlo Azaïs</td>\n",
       "      <td>Jean-Pierre Lorit</td>\n",
       "      <td>3,2</td>\n",
       "      <td>good</td>\n",
       "      <td>Philippe Lioret</td>\n",
       "      <td>...</td>\n",
       "      <td>Français</td>\n",
       "      <td>4.0</td>\n",
       "      <td>0.0</td>\n",
       "      <td>0.0</td>\n",
       "      <td>94</td>\n",
       "      <td>4</td>\n",
       "      <td>janvier</td>\n",
       "      <td>2023</td>\n",
       "      <td>1</td>\n",
       "      <td>0</td>\n",
       "    </tr>\n",
       "    <tr>\n",
       "      <th>3</th>\n",
       "      <td>1UP</td>\n",
       "      <td>Comédie</td>\n",
       "      <td>NaN</td>\n",
       "      <td>Kyle Newman</td>\n",
       "      <td>Paris Berelc</td>\n",
       "      <td>Taylor Zakhar Perez</td>\n",
       "      <td>Ruby Rose</td>\n",
       "      <td>NaN</td>\n",
       "      <td>soso</td>\n",
       "      <td>Julia Yorks</td>\n",
       "      <td>...</td>\n",
       "      <td>Anglais</td>\n",
       "      <td>0.0</td>\n",
       "      <td>0.0</td>\n",
       "      <td>0.0</td>\n",
       "      <td>100</td>\n",
       "      <td>15</td>\n",
       "      <td>juillet</td>\n",
       "      <td>2022</td>\n",
       "      <td>0</td>\n",
       "      <td>0</td>\n",
       "    </tr>\n",
       "    <tr>\n",
       "      <th>4</th>\n",
       "      <td>365 jours : Au lendemain</td>\n",
       "      <td>Drame</td>\n",
       "      <td>Erotique</td>\n",
       "      <td>Barbara Bialowas</td>\n",
       "      <td>Michele Morrone</td>\n",
       "      <td>Anna-Maria Sieklucka</td>\n",
       "      <td>Simone Susinna</td>\n",
       "      <td>NaN</td>\n",
       "      <td>bad</td>\n",
       "      <td>Tomasz Mandes</td>\n",
       "      <td>...</td>\n",
       "      <td>Anglais</td>\n",
       "      <td>0.0</td>\n",
       "      <td>0.0</td>\n",
       "      <td>0.0</td>\n",
       "      <td>106</td>\n",
       "      <td>27</td>\n",
       "      <td>avril</td>\n",
       "      <td>2022</td>\n",
       "      <td>2</td>\n",
       "      <td>0</td>\n",
       "    </tr>\n",
       "    <tr>\n",
       "      <th>...</th>\n",
       "      <td>...</td>\n",
       "      <td>...</td>\n",
       "      <td>...</td>\n",
       "      <td>...</td>\n",
       "      <td>...</td>\n",
       "      <td>...</td>\n",
       "      <td>...</td>\n",
       "      <td>...</td>\n",
       "      <td>...</td>\n",
       "      <td>...</td>\n",
       "      <td>...</td>\n",
       "      <td>...</td>\n",
       "      <td>...</td>\n",
       "      <td>...</td>\n",
       "      <td>...</td>\n",
       "      <td>...</td>\n",
       "      <td>...</td>\n",
       "      <td>...</td>\n",
       "      <td>...</td>\n",
       "      <td>...</td>\n",
       "      <td>...</td>\n",
       "    </tr>\n",
       "    <tr>\n",
       "      <th>2173</th>\n",
       "      <td>Xtreme</td>\n",
       "      <td>Action</td>\n",
       "      <td>Policier</td>\n",
       "      <td>Daniel Benmayor</td>\n",
       "      <td>Teo García</td>\n",
       "      <td>Óscar Jaenada</td>\n",
       "      <td>Oscar Casas</td>\n",
       "      <td>NaN</td>\n",
       "      <td>soso</td>\n",
       "      <td>Iván Ledesma</td>\n",
       "      <td>...</td>\n",
       "      <td>Espagnol</td>\n",
       "      <td>0.0</td>\n",
       "      <td>0.0</td>\n",
       "      <td>0.0</td>\n",
       "      <td>111</td>\n",
       "      <td>4</td>\n",
       "      <td>juin</td>\n",
       "      <td>2021</td>\n",
       "      <td>0</td>\n",
       "      <td>0</td>\n",
       "    </tr>\n",
       "    <tr>\n",
       "      <th>2174</th>\n",
       "      <td>Yakuza Princess</td>\n",
       "      <td>Arts Martiaux</td>\n",
       "      <td>Thriller</td>\n",
       "      <td>Vicente Amorim</td>\n",
       "      <td>MASUMI</td>\n",
       "      <td>Jonathan Rhys-Meyers</td>\n",
       "      <td>Tsuyoshi Ihara</td>\n",
       "      <td>NaN</td>\n",
       "      <td>soso</td>\n",
       "      <td>Vicente Amorim</td>\n",
       "      <td>...</td>\n",
       "      <td>Anglais</td>\n",
       "      <td>1.0</td>\n",
       "      <td>0.0</td>\n",
       "      <td>1.0</td>\n",
       "      <td>111</td>\n",
       "      <td>15</td>\n",
       "      <td>janvier</td>\n",
       "      <td>2022</td>\n",
       "      <td>0</td>\n",
       "      <td>0</td>\n",
       "    </tr>\n",
       "    <tr>\n",
       "      <th>2175</th>\n",
       "      <td>Yara</td>\n",
       "      <td>Policier</td>\n",
       "      <td>Drame</td>\n",
       "      <td>Marco Tullio Giordana</td>\n",
       "      <td>Isabella Ragonese</td>\n",
       "      <td>Alessio Boni</td>\n",
       "      <td>Thomas Trabacchi</td>\n",
       "      <td>NaN</td>\n",
       "      <td>good</td>\n",
       "      <td>Graziano Diana</td>\n",
       "      <td>...</td>\n",
       "      <td>Italien</td>\n",
       "      <td>2.0</td>\n",
       "      <td>0.0</td>\n",
       "      <td>0.0</td>\n",
       "      <td>94</td>\n",
       "      <td>5</td>\n",
       "      <td>novembre</td>\n",
       "      <td>2021</td>\n",
       "      <td>0</td>\n",
       "      <td>0</td>\n",
       "    </tr>\n",
       "    <tr>\n",
       "      <th>2176</th>\n",
       "      <td>Yes Day</td>\n",
       "      <td>Comédie</td>\n",
       "      <td>Famille</td>\n",
       "      <td>Miguel Arteta</td>\n",
       "      <td>Jennifer Garner</td>\n",
       "      <td>Édgar Ramírez</td>\n",
       "      <td>Jenna Ortega</td>\n",
       "      <td>NaN</td>\n",
       "      <td>soso</td>\n",
       "      <td>Justin Malen</td>\n",
       "      <td>...</td>\n",
       "      <td>Anglais</td>\n",
       "      <td>10.0</td>\n",
       "      <td>1.0</td>\n",
       "      <td>2.0</td>\n",
       "      <td>86</td>\n",
       "      <td>12</td>\n",
       "      <td>mars</td>\n",
       "      <td>2021</td>\n",
       "      <td>0</td>\n",
       "      <td>0</td>\n",
       "    </tr>\n",
       "    <tr>\n",
       "      <th>2177</th>\n",
       "      <td>Yolun Açık Olsun</td>\n",
       "      <td>Drame</td>\n",
       "      <td>NaN</td>\n",
       "      <td>Mehmet Ada Öztekin</td>\n",
       "      <td>Engin Akyürek</td>\n",
       "      <td>Tolga Sarıtaş</td>\n",
       "      <td>İlker Kızmaz</td>\n",
       "      <td>NaN</td>\n",
       "      <td>good</td>\n",
       "      <td>Hakan Evrensel</td>\n",
       "      <td>...</td>\n",
       "      <td>Turc</td>\n",
       "      <td>0.0</td>\n",
       "      <td>0.0</td>\n",
       "      <td>0.0</td>\n",
       "      <td>119</td>\n",
       "      <td>23</td>\n",
       "      <td>mai</td>\n",
       "      <td>2022</td>\n",
       "      <td>0</td>\n",
       "      <td>0</td>\n",
       "    </tr>\n",
       "  </tbody>\n",
       "</table>\n",
       "<p>2178 rows × 22 columns</p>\n",
       "</div>"
      ],
      "text/plain": [
       "                         Titre             genre1    genre2  \\\n",
       "0                   #No_Filter  Epouvante-horreur  Thriller   \n",
       "1     13 : La comédie musicale              Drame   Famille   \n",
       "2                       16 ans              Drame   Romance   \n",
       "3                          1UP            Comédie       NaN   \n",
       "4     365 jours : Au lendemain              Drame  Erotique   \n",
       "...                        ...                ...       ...   \n",
       "2173                    Xtreme             Action  Policier   \n",
       "2174           Yakuza Princess      Arts Martiaux  Thriller   \n",
       "2175                      Yara           Policier     Drame   \n",
       "2176                   Yes Day            Comédie   Famille   \n",
       "2177          Yolun Açık Olsun              Drame       NaN   \n",
       "\n",
       "              réalisateur_1            actor_1               actor 2  \\\n",
       "0            Michael Dupret      Hannah McIver         Jasmine Daoud   \n",
       "1               Tamra Davis         Eli Golden             Josh Peck   \n",
       "2           Philippe Lioret     Sabrina Levoye           Teïlo Azaïs   \n",
       "3               Kyle Newman       Paris Berelc   Taylor Zakhar Perez   \n",
       "4          Barbara Bialowas    Michele Morrone  Anna-Maria Sieklucka   \n",
       "...                     ...                ...                   ...   \n",
       "2173        Daniel Benmayor         Teo García         Óscar Jaenada   \n",
       "2174         Vicente Amorim             MASUMI  Jonathan Rhys-Meyers   \n",
       "2175  Marco Tullio Giordana  Isabella Ragonese          Alessio Boni   \n",
       "2176          Miguel Arteta    Jennifer Garner         Édgar Ramírez   \n",
       "2177     Mehmet Ada Öztekin      Engin Akyürek         Tolga Sarıtaş   \n",
       "\n",
       "                     actor 3 note_presse note_spectators           Scenar  \\\n",
       "0     Samuel Van der Zwalmen         NaN             bad              NaN   \n",
       "1              Debra Messing         NaN            soso      Robert Horn   \n",
       "2          Jean-Pierre Lorit         3,2            good  Philippe Lioret   \n",
       "3                  Ruby Rose         NaN            soso      Julia Yorks   \n",
       "4             Simone Susinna         NaN             bad    Tomasz Mandes   \n",
       "...                      ...         ...             ...              ...   \n",
       "2173             Oscar Casas         NaN            soso     Iván Ledesma   \n",
       "2174          Tsuyoshi Ihara         NaN            soso   Vicente Amorim   \n",
       "2175        Thomas Trabacchi         NaN            good   Graziano Diana   \n",
       "2176            Jenna Ortega         NaN            soso     Justin Malen   \n",
       "2177            İlker Kızmaz         NaN            good   Hakan Evrensel   \n",
       "\n",
       "      ...  language real awards first actor awards  Second actor awards  \\\n",
       "0     ...   Anglais         0.0                0.0                  0.0   \n",
       "1     ...   Anglais         1.0                0.0                  0.0   \n",
       "2     ...  Français         4.0                0.0                  0.0   \n",
       "3     ...   Anglais         0.0                0.0                  0.0   \n",
       "4     ...   Anglais         0.0                0.0                  0.0   \n",
       "...   ...       ...         ...                ...                  ...   \n",
       "2173  ...  Espagnol         0.0                0.0                  0.0   \n",
       "2174  ...   Anglais         1.0                0.0                  1.0   \n",
       "2175  ...   Italien         2.0                0.0                  0.0   \n",
       "2176  ...   Anglais        10.0                1.0                  2.0   \n",
       "2177  ...      Turc         0.0                0.0                  0.0   \n",
       "\n",
       "      length_corrected  day     month  year nomi  awards  \n",
       "0                   87    5       mai  2023    0       0  \n",
       "1                   94   12      août  2022    0       0  \n",
       "2                   94    4   janvier  2023    1       0  \n",
       "3                  100   15   juillet  2022    0       0  \n",
       "4                  106   27     avril  2022    2       0  \n",
       "...                ...  ...       ...   ...  ...     ...  \n",
       "2173               111    4      juin  2021    0       0  \n",
       "2174               111   15   janvier  2022    0       0  \n",
       "2175                94    5  novembre  2021    0       0  \n",
       "2176                86   12      mars  2021    0       0  \n",
       "2177               119   23       mai  2022    0       0  \n",
       "\n",
       "[2178 rows x 22 columns]"
      ]
     },
     "execution_count": 2,
     "metadata": {},
     "output_type": "execute_result"
    }
   ],
   "source": [
    "df=pd.read_csv('films2021_2022_clean.csv', encoding='utf-8-sig',sep=\";\")\n",
    "df"
   ]
  },
  {
   "cell_type": "code",
   "execution_count": 3,
   "id": "5d4f8547",
   "metadata": {},
   "outputs": [],
   "source": [
    "df.note_spectators= df.note_spectators.replace({\"catastrophic\":0,\"bad\":0,\"soso\":0,\"good\":1,\"excellent\":1})"
   ]
  },
  {
   "cell_type": "code",
   "execution_count": 4,
   "id": "2f957075",
   "metadata": {},
   "outputs": [
    {
     "data": {
      "text/html": [
       "<div>\n",
       "<style scoped>\n",
       "    .dataframe tbody tr th:only-of-type {\n",
       "        vertical-align: middle;\n",
       "    }\n",
       "\n",
       "    .dataframe tbody tr th {\n",
       "        vertical-align: top;\n",
       "    }\n",
       "\n",
       "    .dataframe thead th {\n",
       "        text-align: right;\n",
       "    }\n",
       "</style>\n",
       "<table border=\"1\" class=\"dataframe\">\n",
       "  <thead>\n",
       "    <tr style=\"text-align: right;\">\n",
       "      <th></th>\n",
       "      <th>Titre</th>\n",
       "      <th>genre1</th>\n",
       "      <th>genre2</th>\n",
       "      <th>réalisateur_1</th>\n",
       "      <th>actor_1</th>\n",
       "      <th>actor 2</th>\n",
       "      <th>actor 3</th>\n",
       "      <th>note_presse</th>\n",
       "      <th>note_spectators</th>\n",
       "      <th>Scenar</th>\n",
       "      <th>...</th>\n",
       "      <th>language</th>\n",
       "      <th>real awards</th>\n",
       "      <th>first actor awards</th>\n",
       "      <th>Second actor awards</th>\n",
       "      <th>length_corrected</th>\n",
       "      <th>day</th>\n",
       "      <th>month</th>\n",
       "      <th>year</th>\n",
       "      <th>nomi</th>\n",
       "      <th>awards</th>\n",
       "    </tr>\n",
       "  </thead>\n",
       "  <tbody>\n",
       "    <tr>\n",
       "      <th>0</th>\n",
       "      <td>#No_Filter</td>\n",
       "      <td>Epouvante-horreur</td>\n",
       "      <td>Thriller</td>\n",
       "      <td>Michael Dupret</td>\n",
       "      <td>Hannah McIver</td>\n",
       "      <td>Jasmine Daoud</td>\n",
       "      <td>Samuel Van der Zwalmen</td>\n",
       "      <td>NaN</td>\n",
       "      <td>0</td>\n",
       "      <td>NaN</td>\n",
       "      <td>...</td>\n",
       "      <td>Anglais</td>\n",
       "      <td>0.0</td>\n",
       "      <td>0.0</td>\n",
       "      <td>0.0</td>\n",
       "      <td>87</td>\n",
       "      <td>5</td>\n",
       "      <td>mai</td>\n",
       "      <td>2023</td>\n",
       "      <td>0</td>\n",
       "      <td>0</td>\n",
       "    </tr>\n",
       "    <tr>\n",
       "      <th>1</th>\n",
       "      <td>13 : La comédie musicale</td>\n",
       "      <td>Drame</td>\n",
       "      <td>Famille</td>\n",
       "      <td>Tamra Davis</td>\n",
       "      <td>Eli Golden</td>\n",
       "      <td>Josh Peck</td>\n",
       "      <td>Debra Messing</td>\n",
       "      <td>NaN</td>\n",
       "      <td>0</td>\n",
       "      <td>Robert Horn</td>\n",
       "      <td>...</td>\n",
       "      <td>Anglais</td>\n",
       "      <td>1.0</td>\n",
       "      <td>0.0</td>\n",
       "      <td>0.0</td>\n",
       "      <td>94</td>\n",
       "      <td>12</td>\n",
       "      <td>août</td>\n",
       "      <td>2022</td>\n",
       "      <td>0</td>\n",
       "      <td>0</td>\n",
       "    </tr>\n",
       "    <tr>\n",
       "      <th>2</th>\n",
       "      <td>16 ans</td>\n",
       "      <td>Drame</td>\n",
       "      <td>Romance</td>\n",
       "      <td>Philippe Lioret</td>\n",
       "      <td>Sabrina Levoye</td>\n",
       "      <td>Teïlo Azaïs</td>\n",
       "      <td>Jean-Pierre Lorit</td>\n",
       "      <td>3,2</td>\n",
       "      <td>1</td>\n",
       "      <td>Philippe Lioret</td>\n",
       "      <td>...</td>\n",
       "      <td>Français</td>\n",
       "      <td>4.0</td>\n",
       "      <td>0.0</td>\n",
       "      <td>0.0</td>\n",
       "      <td>94</td>\n",
       "      <td>4</td>\n",
       "      <td>janvier</td>\n",
       "      <td>2023</td>\n",
       "      <td>1</td>\n",
       "      <td>0</td>\n",
       "    </tr>\n",
       "    <tr>\n",
       "      <th>3</th>\n",
       "      <td>1UP</td>\n",
       "      <td>Comédie</td>\n",
       "      <td>NaN</td>\n",
       "      <td>Kyle Newman</td>\n",
       "      <td>Paris Berelc</td>\n",
       "      <td>Taylor Zakhar Perez</td>\n",
       "      <td>Ruby Rose</td>\n",
       "      <td>NaN</td>\n",
       "      <td>0</td>\n",
       "      <td>Julia Yorks</td>\n",
       "      <td>...</td>\n",
       "      <td>Anglais</td>\n",
       "      <td>0.0</td>\n",
       "      <td>0.0</td>\n",
       "      <td>0.0</td>\n",
       "      <td>100</td>\n",
       "      <td>15</td>\n",
       "      <td>juillet</td>\n",
       "      <td>2022</td>\n",
       "      <td>0</td>\n",
       "      <td>0</td>\n",
       "    </tr>\n",
       "    <tr>\n",
       "      <th>4</th>\n",
       "      <td>365 jours : Au lendemain</td>\n",
       "      <td>Drame</td>\n",
       "      <td>Erotique</td>\n",
       "      <td>Barbara Bialowas</td>\n",
       "      <td>Michele Morrone</td>\n",
       "      <td>Anna-Maria Sieklucka</td>\n",
       "      <td>Simone Susinna</td>\n",
       "      <td>NaN</td>\n",
       "      <td>0</td>\n",
       "      <td>Tomasz Mandes</td>\n",
       "      <td>...</td>\n",
       "      <td>Anglais</td>\n",
       "      <td>0.0</td>\n",
       "      <td>0.0</td>\n",
       "      <td>0.0</td>\n",
       "      <td>106</td>\n",
       "      <td>27</td>\n",
       "      <td>avril</td>\n",
       "      <td>2022</td>\n",
       "      <td>2</td>\n",
       "      <td>0</td>\n",
       "    </tr>\n",
       "    <tr>\n",
       "      <th>...</th>\n",
       "      <td>...</td>\n",
       "      <td>...</td>\n",
       "      <td>...</td>\n",
       "      <td>...</td>\n",
       "      <td>...</td>\n",
       "      <td>...</td>\n",
       "      <td>...</td>\n",
       "      <td>...</td>\n",
       "      <td>...</td>\n",
       "      <td>...</td>\n",
       "      <td>...</td>\n",
       "      <td>...</td>\n",
       "      <td>...</td>\n",
       "      <td>...</td>\n",
       "      <td>...</td>\n",
       "      <td>...</td>\n",
       "      <td>...</td>\n",
       "      <td>...</td>\n",
       "      <td>...</td>\n",
       "      <td>...</td>\n",
       "      <td>...</td>\n",
       "    </tr>\n",
       "    <tr>\n",
       "      <th>2173</th>\n",
       "      <td>Xtreme</td>\n",
       "      <td>Action</td>\n",
       "      <td>Policier</td>\n",
       "      <td>Daniel Benmayor</td>\n",
       "      <td>Teo García</td>\n",
       "      <td>Óscar Jaenada</td>\n",
       "      <td>Oscar Casas</td>\n",
       "      <td>NaN</td>\n",
       "      <td>0</td>\n",
       "      <td>Iván Ledesma</td>\n",
       "      <td>...</td>\n",
       "      <td>Espagnol</td>\n",
       "      <td>0.0</td>\n",
       "      <td>0.0</td>\n",
       "      <td>0.0</td>\n",
       "      <td>111</td>\n",
       "      <td>4</td>\n",
       "      <td>juin</td>\n",
       "      <td>2021</td>\n",
       "      <td>0</td>\n",
       "      <td>0</td>\n",
       "    </tr>\n",
       "    <tr>\n",
       "      <th>2174</th>\n",
       "      <td>Yakuza Princess</td>\n",
       "      <td>Arts Martiaux</td>\n",
       "      <td>Thriller</td>\n",
       "      <td>Vicente Amorim</td>\n",
       "      <td>MASUMI</td>\n",
       "      <td>Jonathan Rhys-Meyers</td>\n",
       "      <td>Tsuyoshi Ihara</td>\n",
       "      <td>NaN</td>\n",
       "      <td>0</td>\n",
       "      <td>Vicente Amorim</td>\n",
       "      <td>...</td>\n",
       "      <td>Anglais</td>\n",
       "      <td>1.0</td>\n",
       "      <td>0.0</td>\n",
       "      <td>1.0</td>\n",
       "      <td>111</td>\n",
       "      <td>15</td>\n",
       "      <td>janvier</td>\n",
       "      <td>2022</td>\n",
       "      <td>0</td>\n",
       "      <td>0</td>\n",
       "    </tr>\n",
       "    <tr>\n",
       "      <th>2175</th>\n",
       "      <td>Yara</td>\n",
       "      <td>Policier</td>\n",
       "      <td>Drame</td>\n",
       "      <td>Marco Tullio Giordana</td>\n",
       "      <td>Isabella Ragonese</td>\n",
       "      <td>Alessio Boni</td>\n",
       "      <td>Thomas Trabacchi</td>\n",
       "      <td>NaN</td>\n",
       "      <td>1</td>\n",
       "      <td>Graziano Diana</td>\n",
       "      <td>...</td>\n",
       "      <td>Italien</td>\n",
       "      <td>2.0</td>\n",
       "      <td>0.0</td>\n",
       "      <td>0.0</td>\n",
       "      <td>94</td>\n",
       "      <td>5</td>\n",
       "      <td>novembre</td>\n",
       "      <td>2021</td>\n",
       "      <td>0</td>\n",
       "      <td>0</td>\n",
       "    </tr>\n",
       "    <tr>\n",
       "      <th>2176</th>\n",
       "      <td>Yes Day</td>\n",
       "      <td>Comédie</td>\n",
       "      <td>Famille</td>\n",
       "      <td>Miguel Arteta</td>\n",
       "      <td>Jennifer Garner</td>\n",
       "      <td>Édgar Ramírez</td>\n",
       "      <td>Jenna Ortega</td>\n",
       "      <td>NaN</td>\n",
       "      <td>0</td>\n",
       "      <td>Justin Malen</td>\n",
       "      <td>...</td>\n",
       "      <td>Anglais</td>\n",
       "      <td>10.0</td>\n",
       "      <td>1.0</td>\n",
       "      <td>2.0</td>\n",
       "      <td>86</td>\n",
       "      <td>12</td>\n",
       "      <td>mars</td>\n",
       "      <td>2021</td>\n",
       "      <td>0</td>\n",
       "      <td>0</td>\n",
       "    </tr>\n",
       "    <tr>\n",
       "      <th>2177</th>\n",
       "      <td>Yolun Açık Olsun</td>\n",
       "      <td>Drame</td>\n",
       "      <td>NaN</td>\n",
       "      <td>Mehmet Ada Öztekin</td>\n",
       "      <td>Engin Akyürek</td>\n",
       "      <td>Tolga Sarıtaş</td>\n",
       "      <td>İlker Kızmaz</td>\n",
       "      <td>NaN</td>\n",
       "      <td>1</td>\n",
       "      <td>Hakan Evrensel</td>\n",
       "      <td>...</td>\n",
       "      <td>Turc</td>\n",
       "      <td>0.0</td>\n",
       "      <td>0.0</td>\n",
       "      <td>0.0</td>\n",
       "      <td>119</td>\n",
       "      <td>23</td>\n",
       "      <td>mai</td>\n",
       "      <td>2022</td>\n",
       "      <td>0</td>\n",
       "      <td>0</td>\n",
       "    </tr>\n",
       "  </tbody>\n",
       "</table>\n",
       "<p>2178 rows × 22 columns</p>\n",
       "</div>"
      ],
      "text/plain": [
       "                         Titre             genre1    genre2  \\\n",
       "0                   #No_Filter  Epouvante-horreur  Thriller   \n",
       "1     13 : La comédie musicale              Drame   Famille   \n",
       "2                       16 ans              Drame   Romance   \n",
       "3                          1UP            Comédie       NaN   \n",
       "4     365 jours : Au lendemain              Drame  Erotique   \n",
       "...                        ...                ...       ...   \n",
       "2173                    Xtreme             Action  Policier   \n",
       "2174           Yakuza Princess      Arts Martiaux  Thriller   \n",
       "2175                      Yara           Policier     Drame   \n",
       "2176                   Yes Day            Comédie   Famille   \n",
       "2177          Yolun Açık Olsun              Drame       NaN   \n",
       "\n",
       "              réalisateur_1            actor_1               actor 2  \\\n",
       "0            Michael Dupret      Hannah McIver         Jasmine Daoud   \n",
       "1               Tamra Davis         Eli Golden             Josh Peck   \n",
       "2           Philippe Lioret     Sabrina Levoye           Teïlo Azaïs   \n",
       "3               Kyle Newman       Paris Berelc   Taylor Zakhar Perez   \n",
       "4          Barbara Bialowas    Michele Morrone  Anna-Maria Sieklucka   \n",
       "...                     ...                ...                   ...   \n",
       "2173        Daniel Benmayor         Teo García         Óscar Jaenada   \n",
       "2174         Vicente Amorim             MASUMI  Jonathan Rhys-Meyers   \n",
       "2175  Marco Tullio Giordana  Isabella Ragonese          Alessio Boni   \n",
       "2176          Miguel Arteta    Jennifer Garner         Édgar Ramírez   \n",
       "2177     Mehmet Ada Öztekin      Engin Akyürek         Tolga Sarıtaş   \n",
       "\n",
       "                     actor 3 note_presse  note_spectators           Scenar  \\\n",
       "0     Samuel Van der Zwalmen         NaN                0              NaN   \n",
       "1              Debra Messing         NaN                0      Robert Horn   \n",
       "2          Jean-Pierre Lorit         3,2                1  Philippe Lioret   \n",
       "3                  Ruby Rose         NaN                0      Julia Yorks   \n",
       "4             Simone Susinna         NaN                0    Tomasz Mandes   \n",
       "...                      ...         ...              ...              ...   \n",
       "2173             Oscar Casas         NaN                0     Iván Ledesma   \n",
       "2174          Tsuyoshi Ihara         NaN                0   Vicente Amorim   \n",
       "2175        Thomas Trabacchi         NaN                1   Graziano Diana   \n",
       "2176            Jenna Ortega         NaN                0     Justin Malen   \n",
       "2177            İlker Kızmaz         NaN                1   Hakan Evrensel   \n",
       "\n",
       "      ...  language real awards first actor awards  Second actor awards  \\\n",
       "0     ...   Anglais         0.0                0.0                  0.0   \n",
       "1     ...   Anglais         1.0                0.0                  0.0   \n",
       "2     ...  Français         4.0                0.0                  0.0   \n",
       "3     ...   Anglais         0.0                0.0                  0.0   \n",
       "4     ...   Anglais         0.0                0.0                  0.0   \n",
       "...   ...       ...         ...                ...                  ...   \n",
       "2173  ...  Espagnol         0.0                0.0                  0.0   \n",
       "2174  ...   Anglais         1.0                0.0                  1.0   \n",
       "2175  ...   Italien         2.0                0.0                  0.0   \n",
       "2176  ...   Anglais        10.0                1.0                  2.0   \n",
       "2177  ...      Turc         0.0                0.0                  0.0   \n",
       "\n",
       "      length_corrected  day     month  year nomi  awards  \n",
       "0                   87    5       mai  2023    0       0  \n",
       "1                   94   12      août  2022    0       0  \n",
       "2                   94    4   janvier  2023    1       0  \n",
       "3                  100   15   juillet  2022    0       0  \n",
       "4                  106   27     avril  2022    2       0  \n",
       "...                ...  ...       ...   ...  ...     ...  \n",
       "2173               111    4      juin  2021    0       0  \n",
       "2174               111   15   janvier  2022    0       0  \n",
       "2175                94    5  novembre  2021    0       0  \n",
       "2176                86   12      mars  2021    0       0  \n",
       "2177               119   23       mai  2022    0       0  \n",
       "\n",
       "[2178 rows x 22 columns]"
      ]
     },
     "execution_count": 4,
     "metadata": {},
     "output_type": "execute_result"
    }
   ],
   "source": [
    "df"
   ]
  },
  {
   "cell_type": "code",
   "execution_count": 5,
   "id": "d51f2b62",
   "metadata": {},
   "outputs": [
    {
     "data": {
      "text/plain": [
       "Titre                     0\n",
       "genre1                    0\n",
       "genre2                  779\n",
       "réalisateur_1             0\n",
       "actor_1                   0\n",
       "actor 2                   0\n",
       "actor 3                  47\n",
       "note_presse            1349\n",
       "note_spectators           0\n",
       "Scenar                  189\n",
       "nationality_1             2\n",
       "distributor            1077\n",
       "language                  0\n",
       "real awards               0\n",
       "first actor awards        0\n",
       "Second actor awards       0\n",
       "length_corrected          0\n",
       "day                       0\n",
       "month                     0\n",
       "year                      0\n",
       "nomi                      0\n",
       "awards                    0\n",
       "dtype: int64"
      ]
     },
     "execution_count": 5,
     "metadata": {},
     "output_type": "execute_result"
    }
   ],
   "source": [
    "df.isnull().sum()"
   ]
  },
  {
   "cell_type": "code",
   "execution_count": 6,
   "id": "62085362",
   "metadata": {},
   "outputs": [],
   "source": [
    "y=df['note_spectators'] #default y\n",
    "X=df.drop(columns='note_spectators') #reste des données"
   ]
  },
  {
   "cell_type": "code",
   "execution_count": 7,
   "id": "13b1c036",
   "metadata": {},
   "outputs": [],
   "source": [
    "X_train, X_test, y_train, y_test = train_test_split(X, y, random_state=42)\n",
    "#it will be set to 0.25.for the test size and 75% for train if no value specified"
   ]
  },
  {
   "cell_type": "code",
   "execution_count": 8,
   "id": "25221bbd",
   "metadata": {},
   "outputs": [
    {
     "data": {
      "text/plain": [
       "30      0\n",
       "1313    0\n",
       "903     0\n",
       "1121    1\n",
       "1823    0\n",
       "       ..\n",
       "1638    0\n",
       "1095    1\n",
       "1130    0\n",
       "1294    1\n",
       "860     0\n",
       "Name: note_spectators, Length: 1633, dtype: int64"
      ]
     },
     "execution_count": 8,
     "metadata": {},
     "output_type": "execute_result"
    }
   ],
   "source": [
    "y_train"
   ]
  },
  {
   "cell_type": "code",
   "execution_count": 9,
   "id": "65c595d3",
   "metadata": {},
   "outputs": [
    {
     "data": {
      "text/plain": [
       "282     1\n",
       "479     0\n",
       "1307    1\n",
       "1254    0\n",
       "507     0\n",
       "       ..\n",
       "436     0\n",
       "1106    0\n",
       "393     1\n",
       "674     0\n",
       "534     1\n",
       "Name: note_spectators, Length: 545, dtype: int64"
      ]
     },
     "execution_count": 9,
     "metadata": {},
     "output_type": "execute_result"
    }
   ],
   "source": [
    "y_test"
   ]
  },
  {
   "cell_type": "code",
   "execution_count": 10,
   "id": "b5d66254",
   "metadata": {},
   "outputs": [
    {
     "name": "stdout",
     "output_type": "stream",
     "text": [
      "--- Total ---\n",
      "0    0.608356\n",
      "1    0.391644\n",
      "Name: note_spectators, dtype: float64\n",
      "--- Train ---\n",
      "0    0.605021\n",
      "1    0.394979\n",
      "Name: note_spectators, dtype: float64\n",
      "--- Test ---\n",
      "0    0.618349\n",
      "1    0.381651\n",
      "Name: note_spectators, dtype: float64\n"
     ]
    }
   ],
   "source": [
    "print(\"--- Total ---\")\n",
    "print(y.value_counts(normalize=True))\n",
    "#normalize = True => en %\n",
    "print(\"--- Train ---\")\n",
    "print(y_train.value_counts(normalize=True))\n",
    "print(\"--- Test ---\")\n",
    "print(y_test.value_counts(normalize=True))"
   ]
  },
  {
   "cell_type": "code",
   "execution_count": 11,
   "id": "83737f2b",
   "metadata": {},
   "outputs": [
    {
     "data": {
      "text/plain": [
       "Index(['Titre', 'genre1', 'genre2', 'réalisateur_1', 'actor_1', 'actor 2',\n",
       "       'actor 3', 'note_presse', 'note_spectators', 'Scenar', 'nationality_1',\n",
       "       'distributor', 'language', 'real awards', 'first actor awards',\n",
       "       'Second actor awards', 'length_corrected', 'day', 'month', 'year',\n",
       "       'nomi', 'awards'],\n",
       "      dtype='object')"
      ]
     },
     "execution_count": 11,
     "metadata": {},
     "output_type": "execute_result"
    }
   ],
   "source": [
    "df.columns"
   ]
  },
  {
   "cell_type": "code",
   "execution_count": 12,
   "id": "d1cea9a5",
   "metadata": {},
   "outputs": [],
   "source": [
    "#We have different types of variables\n",
    "#I list variables in function of what they correspond to\n",
    "film = [\"Titre\", \"genre1\",'genre2','note_presse', \"nationality_1\",\"language\",\"length_corrected\",\"day\",\"month\",\"nomi\",\"year\"]"
   ]
  },
  {
   "cell_type": "code",
   "execution_count": 13,
   "id": "688f657f",
   "metadata": {},
   "outputs": [],
   "source": [
    "#Related to actors\n",
    "actors = [\n",
    "    \"actor_1\",\n",
    "    \"actor 2\",\n",
    "    'actor 3',\n",
    "    \"first actor awards\",\n",
    "    \"Second actor awards\",\n",
    "]\n",
    "#Related to director and writer\n",
    "director = [\n",
    "    \"réalisateur_1\",\n",
    "    'real awards',\n",
    "    'distributor',\n",
    "    'Scenar',\n",
    "]"
   ]
  },
  {
   "cell_type": "code",
   "execution_count": 14,
   "id": "ff90aa8d",
   "metadata": {},
   "outputs": [],
   "source": [
    "M2= [\"actor_1\",\"length_corrected\",\"nationality_1\",\"language\",\"genre1\",\"réalisateur_1\",\"first actor awards\", \"nomi\"]"
   ]
  },
  {
   "cell_type": "code",
   "execution_count": 15,
   "id": "1cd90d7c",
   "metadata": {},
   "outputs": [],
   "source": [
    "X_train_M2=X_train[M2]\n",
    "X_test_M2 =X_test[M2]"
   ]
  },
  {
   "cell_type": "code",
   "execution_count": 16,
   "id": "d777b564",
   "metadata": {},
   "outputs": [],
   "source": [
    "k = KFold(n_splits=3, shuffle=True, random_state=42)\n",
    "#cross validation function: "
   ]
  },
  {
   "cell_type": "code",
   "execution_count": 17,
   "id": "d0bbc661",
   "metadata": {},
   "outputs": [],
   "source": [
    "C_value_logit = [1e20]\n",
    "#the fact that I don't want regularisation => C= 1/lambda => here really small lambda => regularisation =0\n",
    "#C is a hyperparameter of the logistic function "
   ]
  },
  {
   "cell_type": "code",
   "execution_count": 18,
   "id": "e27732e5",
   "metadata": {},
   "outputs": [],
   "source": [
    "#2 dictionaries to keep the performancies\n",
    "test_accuracy={}\n",
    "test_auc_roc={}"
   ]
  },
  {
   "cell_type": "markdown",
   "id": "d143036e",
   "metadata": {},
   "source": [
    "### Model 1: Logit\n",
    "#### Set up Logit model object"
   ]
  },
  {
   "cell_type": "code",
   "execution_count": 19,
   "id": "f0cf1d2d",
   "metadata": {},
   "outputs": [],
   "source": [
    "logistic = LogisticRegressionCV(\n",
    "    Cs=C_value_logit,#I have no regularisation\n",
    "    cv=k, #how I want to do cross-validation\n",
    "    refit=True,\n",
    "    solver='newton-cg' ,\n",
    "    tol=1e-7,\n",
    "    random_state=42,\n",
    ")\n",
    "#I precise lots of the hyperparameters"
   ]
  },
  {
   "cell_type": "code",
   "execution_count": 20,
   "id": "d09c1c1b",
   "metadata": {},
   "outputs": [],
   "source": [
    "logi = LogisticRegression(\n",
    "    solver='liblinear',\n",
    "    random_state=42,\n",
    ")"
   ]
  },
  {
   "cell_type": "code",
   "execution_count": 21,
   "id": "6825ab0d",
   "metadata": {},
   "outputs": [
    {
     "data": {
      "text/plain": [
       "['actor_1', 'nationality_1', 'language', 'genre1', 'réalisateur_1']"
      ]
     },
     "execution_count": 21,
     "metadata": {},
     "output_type": "execute_result"
    }
   ],
   "source": [
    "from sklearn.compose import make_column_selector as selector\n",
    "#how I will handle the categorical and numerical vraiables\n",
    "categorical_columns_selector = selector(dtype_include=object)\n",
    "categorical_columns = categorical_columns_selector(X_train_M2)\n",
    "categorical_columns"
   ]
  },
  {
   "cell_type": "code",
   "execution_count": 22,
   "id": "0ee4d52e",
   "metadata": {},
   "outputs": [],
   "source": [
    "categorical_transformer= Pipeline(\n",
    "    steps=[\n",
    "    ('imputer', SimpleImputer(strategy='constant', fill_value='missing')),\n",
    "    ('encoder', OneHotEncoder(handle_unknown='ignore'))]\n",
    "\n",
    ")"
   ]
  },
  {
   "cell_type": "code",
   "execution_count": 23,
   "id": "11999dcf",
   "metadata": {},
   "outputs": [
    {
     "data": {
      "text/plain": [
       "['length_corrected', 'first actor awards', 'nomi']"
      ]
     },
     "execution_count": 23,
     "metadata": {},
     "output_type": "execute_result"
    }
   ],
   "source": [
    "numeric_columns = [col for col in X_train_M2.columns if col not in categorical_columns]\n",
    "numeric_columns"
   ]
  },
  {
   "cell_type": "code",
   "execution_count": 24,
   "id": "79ba5cdf",
   "metadata": {},
   "outputs": [
    {
     "data": {
      "text/plain": [
       "Pipeline(steps=[('scaler', StandardScaler())])"
      ]
     },
     "execution_count": 24,
     "metadata": {},
     "output_type": "execute_result"
    }
   ],
   "source": [
    "numeric_transformer= Pipeline(\n",
    "    steps=[(\"scaler\", StandardScaler())]\n",
    ")\n",
    "numeric_transformer"
   ]
  },
  {
   "cell_type": "code",
   "execution_count": 25,
   "id": "873a0aad",
   "metadata": {},
   "outputs": [
    {
     "data": {
      "text/plain": [
       "ColumnTransformer(transformers=[('num',\n",
       "                                 Pipeline(steps=[('scaler', StandardScaler())]),\n",
       "                                 ['length_corrected', 'first actor awards',\n",
       "                                  'nomi']),\n",
       "                                ('cat',\n",
       "                                 Pipeline(steps=[('imputer',\n",
       "                                                  SimpleImputer(fill_value='missing',\n",
       "                                                                strategy='constant')),\n",
       "                                                 ('encoder',\n",
       "                                                  OneHotEncoder(handle_unknown='ignore'))]),\n",
       "                                 ['actor_1', 'nationality_1', 'language',\n",
       "                                  'genre1', 'réalisateur_1'])])"
      ]
     },
     "execution_count": 25,
     "metadata": {},
     "output_type": "execute_result"
    }
   ],
   "source": [
    "from sklearn.compose import ColumnTransformer\n",
    "preprocessor = ColumnTransformer(\n",
    "    transformers=[\n",
    "        (\"num\", numeric_transformer, numeric_columns),\n",
    "        (\"cat\", categorical_transformer, categorical_columns),    \n",
    "]\n",
    ")\n",
    "preprocessor"
   ]
  },
  {
   "cell_type": "markdown",
   "id": "5efb7b2c",
   "metadata": {},
   "source": [
    "##### The pipeline:"
   ]
  },
  {
   "cell_type": "code",
   "execution_count": 26,
   "id": "ed58dadf",
   "metadata": {},
   "outputs": [
    {
     "data": {
      "text/plain": [
       "Pipeline(steps=[('preprocessor',\n",
       "                 ColumnTransformer(transformers=[('num',\n",
       "                                                  Pipeline(steps=[('scaler',\n",
       "                                                                   StandardScaler())]),\n",
       "                                                  ['length_corrected',\n",
       "                                                   'first actor awards',\n",
       "                                                   'nomi']),\n",
       "                                                 ('cat',\n",
       "                                                  Pipeline(steps=[('imputer',\n",
       "                                                                   SimpleImputer(fill_value='missing',\n",
       "                                                                                 strategy='constant')),\n",
       "                                                                  ('encoder',\n",
       "                                                                   OneHotEncoder(handle_unknown='ignore'))]),\n",
       "                                                  ['actor_1', 'nationality_1',\n",
       "                                                   'language', 'genre1',\n",
       "                                                   'réalisateur_1'])])),\n",
       "                ('classifier',\n",
       "                 LogisticRegression(random_state=42, solver='liblinear'))])"
      ]
     },
     "execution_count": 26,
     "metadata": {},
     "output_type": "execute_result"
    }
   ],
   "source": [
    "#Append classifier to preprocessing pipeline. Now we have a full prediction pipeline.\n",
    "pipeline_logi_M2 = Pipeline(\n",
    "    steps=[(\"preprocessor\", preprocessor), (\"classifier\", logi)]\n",
    ")\n",
    "pipeline_logi_M2"
   ]
  },
  {
   "cell_type": "code",
   "execution_count": 27,
   "id": "2af1ec25",
   "metadata": {},
   "outputs": [
    {
     "data": {
      "text/plain": [
       "Pipeline(steps=[('preprocessor',\n",
       "                 ColumnTransformer(transformers=[('num',\n",
       "                                                  Pipeline(steps=[('scaler',\n",
       "                                                                   StandardScaler())]),\n",
       "                                                  ['length_corrected',\n",
       "                                                   'first actor awards',\n",
       "                                                   'nomi']),\n",
       "                                                 ('cat',\n",
       "                                                  Pipeline(steps=[('imputer',\n",
       "                                                                   SimpleImputer(fill_value='missing',\n",
       "                                                                                 strategy='constant')),\n",
       "                                                                  ('encoder',\n",
       "                                                                   OneHotEncoder(handle_unknown='ignore'))]),\n",
       "                                                  ['actor_1', 'nationality_1',\n",
       "                                                   'language', 'genre1',\n",
       "                                                   'réalisateur_1'])])),\n",
       "                ('classifier',\n",
       "                 LogisticRegression(random_state=42, solver='liblinear'))])"
      ]
     },
     "execution_count": 27,
     "metadata": {},
     "output_type": "execute_result"
    }
   ],
   "source": [
    "pipeline_logi_M2.fit(X_train_M2, y_train)"
   ]
  },
  {
   "cell_type": "code",
   "execution_count": 44,
   "id": "9944ac08",
   "metadata": {},
   "outputs": [
    {
     "name": "stdout",
     "output_type": "stream",
     "text": [
      "Confusion matrix:\n",
      " [[283  54]\n",
      " [ 97 111]]\n",
      "Testing AUC: 65.9289 %\n",
      "Testing accuracy: 72.2936 %\n"
     ]
    }
   ],
   "source": [
    "y_test_hat = pipeline_logi_M2.predict(X_test_M2)\n",
    "y_test_hat_probs = pipeline_logi_M2.predict_proba(X_test_M2)[:,1]\n",
    "\n",
    "test_accuracy['logi_m2'] = accuracy_score(y_test, y_test_hat)*100\n",
    "test_auc_roc['logi_m2'] = roc_auc_score(y_test, y_test_hat_probs)*100\n",
    "\n",
    "print('Confusion matrix:\\n', confusion_matrix(y_test, y_test_hat))\n",
    "print('Testing AUC: %.4f %%' % test_auc_roc['logit_m2'])\n",
    "print('Testing accuracy: %.4f %%' % test_accuracy['logi_m2']) "
   ]
  },
  {
   "cell_type": "markdown",
   "id": "29a94715",
   "metadata": {},
   "source": [
    "## With LogisticRegressionCV"
   ]
  },
  {
   "cell_type": "code",
   "execution_count": 45,
   "id": "c08c043d",
   "metadata": {},
   "outputs": [],
   "source": [
    "k = KFold(n_splits=5, shuffle=True, random_state=42)\n",
    "#cross validation function: "
   ]
  },
  {
   "cell_type": "code",
   "execution_count": 46,
   "id": "edc4af26",
   "metadata": {},
   "outputs": [],
   "source": [
    "C_value_logit = [1e20]\n",
    "#the fact that I don't want regularisation => C= 1/lambda => here really small lambda => regularisation =0\n",
    "#C is a hyperparameter of the logistic function"
   ]
  },
  {
   "cell_type": "code",
   "execution_count": 47,
   "id": "6c201962",
   "metadata": {},
   "outputs": [],
   "source": [
    "logistic = LogisticRegressionCV(\n",
    "    Cs=C_value_logit,#I have no regularisation\n",
    "    cv=k, #how I want to do cross-validation\n",
    "    refit=True,\n",
    "    solver='newton-cg' ,\n",
    "    tol=1e-7,\n",
    "    random_state=30,\n",
    ")\n",
    "#I precise lots of the hyperparameters"
   ]
  },
  {
   "cell_type": "code",
   "execution_count": 48,
   "id": "aed45029",
   "metadata": {},
   "outputs": [
    {
     "data": {
      "text/plain": [
       "Pipeline(steps=[('preprocessor',\n",
       "                 ColumnTransformer(transformers=[('num',\n",
       "                                                  Pipeline(steps=[('scaler',\n",
       "                                                                   StandardScaler())]),\n",
       "                                                  ['length_corrected',\n",
       "                                                   'first actor awards',\n",
       "                                                   'nomi']),\n",
       "                                                 ('cat',\n",
       "                                                  Pipeline(steps=[('imputer',\n",
       "                                                                   SimpleImputer(fill_value='missing',\n",
       "                                                                                 strategy='constant')),\n",
       "                                                                  ('encoder',\n",
       "                                                                   OneHotEncoder(handle_unknown='ignore'))]),\n",
       "                                                  ['actor_1', 'nationality_1',\n",
       "                                                   'language', 'genre1',\n",
       "                                                   'réalisateur_1'])])),\n",
       "                ('classifier',\n",
       "                 LogisticRegressionCV(Cs=[1e+20],\n",
       "                                      cv=KFold(n_splits=5, random_state=42, shuffle=True),\n",
       "                                      random_state=30, solver='newton-cg',\n",
       "                                      tol=1e-07))])"
      ]
     },
     "execution_count": 48,
     "metadata": {},
     "output_type": "execute_result"
    }
   ],
   "source": [
    "pipeline_logit_M2 = Pipeline(\n",
    "    steps=[(\"preprocessor\", preprocessor), (\"classifier\", logistic)]\n",
    ")\n",
    "pipeline_logit_M2"
   ]
  },
  {
   "cell_type": "code",
   "execution_count": 49,
   "id": "2b905127",
   "metadata": {},
   "outputs": [
    {
     "name": "stderr",
     "output_type": "stream",
     "text": [
      "C:\\Users\\User\\anaconda3\\lib\\site-packages\\sklearn\\utils\\optimize.py:210: ConvergenceWarning: newton-cg failed to converge. Increase the number of iterations.\n",
      "C:\\Users\\User\\anaconda3\\lib\\site-packages\\sklearn\\utils\\optimize.py:210: ConvergenceWarning: newton-cg failed to converge. Increase the number of iterations.\n",
      "C:\\Users\\User\\anaconda3\\lib\\site-packages\\sklearn\\utils\\optimize.py:210: ConvergenceWarning: newton-cg failed to converge. Increase the number of iterations.\n",
      "C:\\Users\\User\\anaconda3\\lib\\site-packages\\sklearn\\utils\\optimize.py:210: ConvergenceWarning: newton-cg failed to converge. Increase the number of iterations.\n",
      "C:\\Users\\User\\anaconda3\\lib\\site-packages\\sklearn\\utils\\optimize.py:210: ConvergenceWarning: newton-cg failed to converge. Increase the number of iterations.\n",
      "C:\\Users\\User\\anaconda3\\lib\\site-packages\\sklearn\\utils\\optimize.py:210: ConvergenceWarning: newton-cg failed to converge. Increase the number of iterations.\n"
     ]
    },
    {
     "data": {
      "text/plain": [
       "Pipeline(steps=[('preprocessor',\n",
       "                 ColumnTransformer(transformers=[('num',\n",
       "                                                  Pipeline(steps=[('scaler',\n",
       "                                                                   StandardScaler())]),\n",
       "                                                  ['length_corrected',\n",
       "                                                   'first actor awards',\n",
       "                                                   'nomi']),\n",
       "                                                 ('cat',\n",
       "                                                  Pipeline(steps=[('imputer',\n",
       "                                                                   SimpleImputer(fill_value='missing',\n",
       "                                                                                 strategy='constant')),\n",
       "                                                                  ('encoder',\n",
       "                                                                   OneHotEncoder(handle_unknown='ignore'))]),\n",
       "                                                  ['actor_1', 'nationality_1',\n",
       "                                                   'language', 'genre1',\n",
       "                                                   'réalisateur_1'])])),\n",
       "                ('classifier',\n",
       "                 LogisticRegressionCV(Cs=[1e+20],\n",
       "                                      cv=KFold(n_splits=5, random_state=42, shuffle=True),\n",
       "                                      random_state=30, solver='newton-cg',\n",
       "                                      tol=1e-07))])"
      ]
     },
     "execution_count": 49,
     "metadata": {},
     "output_type": "execute_result"
    }
   ],
   "source": [
    "pipeline_logit_M2.fit(X_train_M2, y_train)"
   ]
  },
  {
   "cell_type": "code",
   "execution_count": 50,
   "id": "16b689ad",
   "metadata": {},
   "outputs": [
    {
     "name": "stdout",
     "output_type": "stream",
     "text": [
      "Confusion matrix:\n",
      " [[241  96]\n",
      " [ 91 117]]\n",
      "Testing AUC: 65.9289 %\n",
      "Testing accuracy: 65.6881 %\n"
     ]
    }
   ],
   "source": [
    "y_test_hat = pipeline_logit_M2.predict(X_test_M2)\n",
    "y_test_hat_probs = pipeline_logit_M2.predict_proba(X_test_M2)[:,1]\n",
    "\n",
    "test_accuracy['logit_m2'] = accuracy_score(y_test, y_test_hat)*100\n",
    "test_auc_roc['logit_m2'] = roc_auc_score(y_test, y_test_hat_probs)*100\n",
    "\n",
    "print('Confusion matrix:\\n', confusion_matrix(y_test, y_test_hat))\n",
    "print('Testing AUC: %.4f %%' % test_auc_roc['logit_m2'])\n",
    "print('Testing accuracy: %.4f %%' % test_accuracy['logit_m2']) "
   ]
  },
  {
   "cell_type": "markdown",
   "id": "4890c93f",
   "metadata": {},
   "source": [
    "### Lasso"
   ]
  },
  {
   "cell_type": "code",
   "execution_count": 51,
   "id": "c27048a9",
   "metadata": {},
   "outputs": [
    {
     "data": {
      "text/plain": [
       "10"
      ]
     },
     "execution_count": 51,
     "metadata": {},
     "output_type": "execute_result"
    }
   ],
   "source": [
    "lambdas = list(10 ** np.arange(-1, -4.01, -1 / 3))\n",
    "n_obs = X_train_M2.shape[0] * 4 / 5\n",
    "C_values = [\n",
    "    1 / (l * n_obs) for l in lambdas\n",
    "]  # Cs are the inverse of regularization strength\n",
    "len(C_values)"
   ]
  },
  {
   "cell_type": "code",
   "execution_count": 52,
   "id": "4dc67d66",
   "metadata": {},
   "outputs": [],
   "source": [
    "logistic_lasso = LogisticRegressionCV(\n",
    "    Cs=C_values,\n",
    "    penalty=\"l1\", # L1 regularization = lasso \n",
    "    cv=k,\n",
    "    refit=True,\n",
    "    scoring=\"roc_auc\",\n",
    "    solver=\"liblinear\",\n",
    "    random_state=24,\n",
    ")\n"
   ]
  },
  {
   "cell_type": "code",
   "execution_count": 53,
   "id": "3ef9e176",
   "metadata": {},
   "outputs": [
    {
     "data": {
      "text/plain": [
       "Pipeline(steps=[('preprocessor',\n",
       "                 ColumnTransformer(transformers=[('num',\n",
       "                                                  Pipeline(steps=[('scaler',\n",
       "                                                                   StandardScaler())]),\n",
       "                                                  ['length_corrected',\n",
       "                                                   'first actor awards',\n",
       "                                                   'nomi']),\n",
       "                                                 ('cat',\n",
       "                                                  Pipeline(steps=[('imputer',\n",
       "                                                                   SimpleImputer(fill_value='missing',\n",
       "                                                                                 strategy='constant')),\n",
       "                                                                  ('encoder',\n",
       "                                                                   OneHotEncoder(handle_unknown='ignore'))]),\n",
       "                                                  ['actor_1', 'nationality_1',\n",
       "                                                   'language', 'ge...\n",
       "                ('classifier',\n",
       "                 LogisticRegressionCV(Cs=[0.007654623392529087,\n",
       "                                          0.01649138617599421,\n",
       "                                          0.03552961446427416,\n",
       "                                          0.07654623392529084,\n",
       "                                          0.16491386175994197,\n",
       "                                          0.3552961446427413,\n",
       "                                          0.7654623392529079,\n",
       "                                          1.6491386175994198,\n",
       "                                          3.5529614464274126,\n",
       "                                          7.6546233925290705],\n",
       "                                      cv=KFold(n_splits=5, random_state=42, shuffle=True),\n",
       "                                      penalty='l1', random_state=24,\n",
       "                                      scoring='roc_auc', solver='liblinear'))])"
      ]
     },
     "execution_count": 53,
     "metadata": {},
     "output_type": "execute_result"
    }
   ],
   "source": [
    "#Append classifier to preprocessing pipeline. Now we have a full prediction pipeline.\n",
    "pipeline_logistic_lasso = Pipeline(\n",
    "    steps=[(\"preprocessor\", preprocessor), (\"classifier\", logistic_lasso)]\n",
    ")\n",
    "pipeline_logistic_lasso"
   ]
  },
  {
   "cell_type": "code",
   "execution_count": 54,
   "id": "343bd3a0",
   "metadata": {},
   "outputs": [
    {
     "name": "stderr",
     "output_type": "stream",
     "text": [
      "C:\\Users\\User\\anaconda3\\lib\\site-packages\\sklearn\\svm\\_base.py:1206: ConvergenceWarning: Liblinear failed to converge, increase the number of iterations.\n",
      "C:\\Users\\User\\anaconda3\\lib\\site-packages\\sklearn\\svm\\_base.py:1206: ConvergenceWarning: Liblinear failed to converge, increase the number of iterations.\n"
     ]
    },
    {
     "data": {
      "text/plain": [
       "Pipeline(steps=[('preprocessor',\n",
       "                 ColumnTransformer(transformers=[('num',\n",
       "                                                  Pipeline(steps=[('scaler',\n",
       "                                                                   StandardScaler())]),\n",
       "                                                  ['length_corrected',\n",
       "                                                   'first actor awards',\n",
       "                                                   'nomi']),\n",
       "                                                 ('cat',\n",
       "                                                  Pipeline(steps=[('imputer',\n",
       "                                                                   SimpleImputer(fill_value='missing',\n",
       "                                                                                 strategy='constant')),\n",
       "                                                                  ('encoder',\n",
       "                                                                   OneHotEncoder(handle_unknown='ignore'))]),\n",
       "                                                  ['actor_1', 'nationality_1',\n",
       "                                                   'language', 'ge...\n",
       "                ('classifier',\n",
       "                 LogisticRegressionCV(Cs=[0.007654623392529087,\n",
       "                                          0.01649138617599421,\n",
       "                                          0.03552961446427416,\n",
       "                                          0.07654623392529084,\n",
       "                                          0.16491386175994197,\n",
       "                                          0.3552961446427413,\n",
       "                                          0.7654623392529079,\n",
       "                                          1.6491386175994198,\n",
       "                                          3.5529614464274126,\n",
       "                                          7.6546233925290705],\n",
       "                                      cv=KFold(n_splits=5, random_state=42, shuffle=True),\n",
       "                                      penalty='l1', random_state=24,\n",
       "                                      scoring='roc_auc', solver='liblinear'))])"
      ]
     },
     "execution_count": 54,
     "metadata": {},
     "output_type": "execute_result"
    }
   ],
   "source": [
    "logLasso=pipeline_logistic_lasso.fit(X_train_M2, y_train)\n",
    "logLasso"
   ]
  },
  {
   "cell_type": "code",
   "execution_count": 55,
   "id": "05aa98d5",
   "metadata": {},
   "outputs": [
    {
     "name": "stdout",
     "output_type": "stream",
     "text": [
      "Confusion matrix:\n",
      " [[279  58]\n",
      " [ 96 112]]\n",
      "Testing AUC: 75.2689 %\n",
      "Testing accuracy: 71.7431 %\n"
     ]
    }
   ],
   "source": [
    "y_test_hat = pipeline_logistic_lasso.predict(X_test_M2)\n",
    "y_test_hat_probs = pipeline_logistic_lasso.predict_proba(X_test_M2)[:,1]\n",
    "\n",
    "test_accuracy['logit_m2'] = accuracy_score(y_test, y_test_hat)*100\n",
    "test_auc_roc['logit_m2'] = roc_auc_score(y_test, y_test_hat_probs, multi_class='ovr')*100\n",
    "\n",
    "print('Confusion matrix:\\n', confusion_matrix(y_test, y_test_hat))\n",
    "print('Testing AUC: %.4f %%' % test_auc_roc['logit_m2'])\n",
    "print('Testing accuracy: %.4f %%' % test_accuracy['logit_m2']) "
   ]
  },
  {
   "cell_type": "code",
   "execution_count": 56,
   "id": "acf8eaad",
   "metadata": {},
   "outputs": [],
   "source": [
    "from sklearn.model_selection import cross_val_score"
   ]
  },
  {
   "cell_type": "code",
   "execution_count": 57,
   "id": "5c3d7f77",
   "metadata": {},
   "outputs": [
    {
     "name": "stderr",
     "output_type": "stream",
     "text": [
      "C:\\Users\\User\\anaconda3\\lib\\site-packages\\sklearn\\svm\\_base.py:1206: ConvergenceWarning: Liblinear failed to converge, increase the number of iterations.\n",
      "C:\\Users\\User\\anaconda3\\lib\\site-packages\\sklearn\\svm\\_base.py:1206: ConvergenceWarning: Liblinear failed to converge, increase the number of iterations.\n",
      "C:\\Users\\User\\anaconda3\\lib\\site-packages\\sklearn\\svm\\_base.py:1206: ConvergenceWarning: Liblinear failed to converge, increase the number of iterations.\n"
     ]
    }
   ],
   "source": [
    "scores = cross_val_score(pipeline_logistic_lasso, X_train_M2, y_train, cv = k)"
   ]
  },
  {
   "cell_type": "code",
   "execution_count": 58,
   "id": "6cac7f01",
   "metadata": {},
   "outputs": [],
   "source": [
    "y_test_hat = pipeline_logistic_lasso.predict(X_test_M2)\n",
    "y_test_hat_probs = pipeline_logistic_lasso.predict_proba(X_test_M2)[:,1]"
   ]
  },
  {
   "cell_type": "code",
   "execution_count": 59,
   "id": "7d98766c",
   "metadata": {},
   "outputs": [],
   "source": [
    "test_accuracy['logistic_lasso'] = accuracy_score(y_test, y_test_hat)*100\n",
    "test_auc_roc['logistic_lasso'] = roc_auc_score(y_test, y_test_hat_probs,multi_class=\"ovo\")*100"
   ]
  },
  {
   "cell_type": "code",
   "execution_count": 60,
   "id": "ebf9a3cf",
   "metadata": {},
   "outputs": [
    {
     "data": {
      "text/plain": [
       "array([1.98845812, 0.98845812, 0.91328764, 0.88631582, 0.85822602,\n",
       "       0.85218217, 0.84576244, 0.8453471 , 0.76297535, 0.75981599,\n",
       "       0.72973627, 0.72923786, 0.72072051, 0.7196379 , 0.69997883,\n",
       "       0.69758112, 0.69606859, 0.69502123, 0.68441433, 0.67773991,\n",
       "       0.67216026, 0.67044648, 0.66779164, 0.66770288, 0.66084295,\n",
       "       0.65862715, 0.64261506, 0.64243373, 0.63926234, 0.63757443,\n",
       "       0.6368168 , 0.63184608, 0.63155067, 0.63105594, 0.61467019,\n",
       "       0.61164102, 0.59190867, 0.59018442, 0.58766265, 0.58750635,\n",
       "       0.58573639, 0.5813535 , 0.57899382, 0.57816706, 0.57771767,\n",
       "       0.57515432, 0.57012622, 0.56958182, 0.56377172, 0.56352316,\n",
       "       0.54679274, 0.5461465 , 0.54557322, 0.54275592, 0.52859749,\n",
       "       0.52480299, 0.5219668 , 0.52058673, 0.5191897 , 0.51764819,\n",
       "       0.51350818, 0.51298971, 0.51047213, 0.50786445, 0.50730933,\n",
       "       0.5067542 , 0.50554381, 0.49951051, 0.48778552, 0.48371269,\n",
       "       0.48357803, 0.48236853, 0.48131451, 0.48077794, 0.47526407,\n",
       "       0.47525849, 0.46753368, 0.4664654 , 0.46571094, 0.46491694,\n",
       "       0.46369238, 0.46359965, 0.46234669, 0.45707548, 0.45671869,\n",
       "       0.45580133, 0.45203737, 0.45187838, 0.45026135, 0.43978297,\n",
       "       0.43533394, 0.42796874, 0.42501295, 0.41403895, 0.41315199,\n",
       "       0.41119326, 0.40810794, 0.40759033, 0.40657217, 0.40547678,\n",
       "       0.39872042, 0.39810477, 0.39749626, 0.39621558, 0.39499189,\n",
       "       0.38743132, 0.38504349, 0.3793461 , 0.37816104, 0.37225175,\n",
       "       0.36688144, 0.36479318, 0.36224265, 0.3593947 , 0.35857864,\n",
       "       0.34965427, 0.34685034, 0.34357248, 0.34188791, 0.34023987,\n",
       "       0.33825603, 0.33406422, 0.33396741, 0.33287215, 0.32901594,\n",
       "       0.32418699, 0.32255383, 0.32012548, 0.31627834, 0.31527528,\n",
       "       0.31451871, 0.31118401, 0.31030844, 0.30440669, 0.30357501,\n",
       "       0.30255165, 0.30222901, 0.29720669, 0.29601645, 0.29495544,\n",
       "       0.29417248, 0.29320363, 0.2923436 , 0.29164342, 0.29045216,\n",
       "       0.28288978, 0.28031213, 0.27903491, 0.27781595, 0.27411913,\n",
       "       0.27408589, 0.26746098, 0.26380097, 0.26164599, 0.25066495,\n",
       "       0.25024802, 0.24934834, 0.2428451 , 0.24244681, 0.24242074,\n",
       "       0.24228052, 0.23515022, 0.22760901, 0.21981097, 0.21788918,\n",
       "       0.21741461, 0.21683051, 0.20974954, 0.20960836, 0.20501868,\n",
       "       0.20401056, 0.1998406 , 0.19879837, 0.19838762, 0.1959632 ,\n",
       "       0.18095245, 0.1795254 , 0.17617767, 0.17598988, 0.17258482,\n",
       "       0.17243425, 0.17098374, 0.17035379, 0.16930644, 0.16786786,\n",
       "       0.15985409, 0.15974267, 0.15841565, 0.14159408, 0.14151809,\n",
       "       0.13838741, 0.13508576, 0.13302325, 0.13116229, 0.13031803,\n",
       "       0.12598558, 0.12075165, 0.11996142, 0.11756846, 0.11756527,\n",
       "       0.11274397, 0.1121419 , 0.10561388, 0.10361759, 0.10178061,\n",
       "       0.09930391, 0.09553093, 0.09534214, 0.09367452, 0.09319695,\n",
       "       0.08986568, 0.08749467, 0.08678598, 0.08661012, 0.08060104,\n",
       "       0.07869396, 0.06823206, 0.06779056, 0.06234678, 0.06186889,\n",
       "       0.04875591, 0.04713805, 0.01822356])"
      ]
     },
     "execution_count": 60,
     "metadata": {},
     "output_type": "execute_result"
    }
   ],
   "source": [
    "from sklearn import metrics\n",
    "\n",
    "fpr, tpr, threshold = metrics.roc_curve(y_test, y_test_hat_probs)\n",
    "roc_auc = metrics.auc(fpr, tpr)\n",
    "threshold"
   ]
  },
  {
   "cell_type": "code",
   "execution_count": 61,
   "id": "baacf8d6",
   "metadata": {},
   "outputs": [
    {
     "data": {
      "image/png": "[encoded data removed]",
      "text/plain": [
       "<Figure size 640x480 with 1 Axes>"
      ]
     },
     "metadata": {},
     "output_type": "display_data"
    }
   ],
   "source": [
    "# method I: plt\n",
    "import matplotlib.pyplot as plt\n",
    "plt.title('Receiver Operating Characteristic')\n",
    "plt.plot(fpr, tpr, 'b', label = 'AUC = %0.2f' % roc_auc)\n",
    "plt.plot([0, 1], [0, 1],'r--')\n",
    "plt.ylabel('True Positive Rate')\n",
    "plt.xlabel('False Positive Rate')\n",
    "plt.show()"
   ]
  },
  {
   "cell_type": "markdown",
   "id": "ef582890",
   "metadata": {},
   "source": [
    "### XGBOOST"
   ]
  },
  {
   "cell_type": "code",
   "execution_count": 65,
   "id": "a37fb5e2",
   "metadata": {},
   "outputs": [],
   "source": [
    "import xgboost as xgb"
   ]
  },
  {
   "cell_type": "code",
   "execution_count": 66,
   "id": "93e0628b",
   "metadata": {},
   "outputs": [],
   "source": [
    "xgb_model = xgb.XGBClassifier(objective=\"reg:squarederror\", random_state=42)"
   ]
  },
  {
   "cell_type": "code",
   "execution_count": 67,
   "id": "efd63109",
   "metadata": {},
   "outputs": [
    {
     "data": {
      "text/plain": [
       "Pipeline(steps=[('preprocessor',\n",
       "                 ColumnTransformer(transformers=[('num',\n",
       "                                                  Pipeline(steps=[('scaler',\n",
       "                                                                   StandardScaler())]),\n",
       "                                                  ['length_corrected',\n",
       "                                                   'first actor awards',\n",
       "                                                   'nomi']),\n",
       "                                                 ('cat',\n",
       "                                                  Pipeline(steps=[('imputer',\n",
       "                                                                   SimpleImputer(fill_value='missing',\n",
       "                                                                                 strategy='constant')),\n",
       "                                                                  ('encoder',\n",
       "                                                                   OneHotEncoder(handle_unknown='ignore'))]),\n",
       "                                                  ['actor_1', 'nationality_1',\n",
       "                                                   'language', 'ge...\n",
       "                               grow_policy=None, importance_type=None,\n",
       "                               interaction_constraints=None, learning_rate=None,\n",
       "                               max_bin=None, max_cat_threshold=None,\n",
       "                               max_cat_to_onehot=None, max_delta_step=None,\n",
       "                               max_depth=None, max_leaves=None,\n",
       "                               min_child_weight=None, missing=nan,\n",
       "                               monotone_constraints=None, n_estimators=100,\n",
       "                               n_jobs=None, num_parallel_tree=None,\n",
       "                               objective='reg:squarederror', predictor=None, ...))])"
      ]
     },
     "execution_count": 67,
     "metadata": {},
     "output_type": "execute_result"
    }
   ],
   "source": [
    "#Append classifier to preprocessing pipeline. Now we have a full prediction pipeline.\n",
    "pipeline_xgp = Pipeline(\n",
    "    steps=[(\"preprocessor\", preprocessor), (\"classifier\", xgb_model)]\n",
    ")\n",
    "pipeline_xgp"
   ]
  },
  {
   "cell_type": "code",
   "execution_count": 68,
   "id": "c1d53b2f",
   "metadata": {},
   "outputs": [
    {
     "data": {
      "text/plain": [
       "Pipeline(steps=[('preprocessor',\n",
       "                 ColumnTransformer(transformers=[('num',\n",
       "                                                  Pipeline(steps=[('scaler',\n",
       "                                                                   StandardScaler())]),\n",
       "                                                  ['length_corrected',\n",
       "                                                   'first actor awards',\n",
       "                                                   'nomi']),\n",
       "                                                 ('cat',\n",
       "                                                  Pipeline(steps=[('imputer',\n",
       "                                                                   SimpleImputer(fill_value='missing',\n",
       "                                                                                 strategy='constant')),\n",
       "                                                                  ('encoder',\n",
       "                                                                   OneHotEncoder(handle_unknown='ignore'))]),\n",
       "                                                  ['actor_1', 'nationality_1',\n",
       "                                                   'language', 'ge...\n",
       "                               grow_policy=None, importance_type=None,\n",
       "                               interaction_constraints=None, learning_rate=None,\n",
       "                               max_bin=None, max_cat_threshold=None,\n",
       "                               max_cat_to_onehot=None, max_delta_step=None,\n",
       "                               max_depth=None, max_leaves=None,\n",
       "                               min_child_weight=None, missing=nan,\n",
       "                               monotone_constraints=None, n_estimators=100,\n",
       "                               n_jobs=None, num_parallel_tree=None,\n",
       "                               objective='reg:squarederror', predictor=None, ...))])"
      ]
     },
     "execution_count": 68,
     "metadata": {},
     "output_type": "execute_result"
    }
   ],
   "source": [
    "model_xgb=pipeline_xgp.fit(X_train_M2, y_train)\n",
    "model_xgb"
   ]
  },
  {
   "cell_type": "code",
   "execution_count": 69,
   "id": "bf73434c",
   "metadata": {},
   "outputs": [],
   "source": [
    "y_test_hat = model_xgb.predict(X_test_M2)\n",
    "y_test_hat_probs = model_xgb.predict_proba(X_test_M2)[:,1]"
   ]
  },
  {
   "cell_type": "code",
   "execution_count": 70,
   "id": "798e3de9",
   "metadata": {},
   "outputs": [],
   "source": [
    "test_accuracy['xgb'] = accuracy_score(y_test, y_test_hat)*100\n",
    "test_auc_roc['xgb'] = roc_auc_score(y_test, y_test_hat_probs)*100"
   ]
  },
  {
   "cell_type": "markdown",
   "id": "ea3b3c1a",
   "metadata": {},
   "source": [
    "## Comparing the different models"
   ]
  },
  {
   "cell_type": "code",
   "execution_count": 71,
   "id": "32976337",
   "metadata": {},
   "outputs": [
    {
     "data": {
      "text/plain": [
       "{'logit_m2': 75.2689169139466,\n",
       " 'logi_m2': 76.40521570417714,\n",
       " 'logistic_lasso': 75.2689169139466,\n",
       " 'xgb': 73.70962679753481}"
      ]
     },
     "execution_count": 71,
     "metadata": {},
     "output_type": "execute_result"
    }
   ],
   "source": [
    "test_auc_roc"
   ]
  },
  {
   "cell_type": "code",
   "execution_count": 72,
   "id": "58c036fa",
   "metadata": {},
   "outputs": [
    {
     "data": {
      "text/plain": [
       "{'logi_m2': 72.29357798165138,\n",
       " 'logit_m2': 71.74311926605505,\n",
       " 'logistic_lasso': 71.74311926605505,\n",
       " 'xgb': 70.45871559633028}"
      ]
     },
     "execution_count": 72,
     "metadata": {},
     "output_type": "execute_result"
    }
   ],
   "source": [
    "test_accuracy"
   ]
  },
  {
   "cell_type": "markdown",
   "id": "0c10aa86",
   "metadata": {},
   "source": [
    "## Test on another dataset"
   ]
  },
  {
   "cell_type": "code",
   "execution_count": null,
   "id": "3a7e0b92",
   "metadata": {},
   "outputs": [],
   "source": []
  },
  {
   "cell_type": "code",
   "execution_count": null,
   "id": "7238304b",
   "metadata": {},
   "outputs": [],
   "source": []
  }
 ],
 "metadata": {
  "kernelspec": {
   "display_name": "Python 3 (ipykernel)",
   "language": "python",
   "name": "python3"
  },
  "language_info": {
   "codemirror_mode": {
    "name": "ipython",
    "version": 3
   },
   "file_extension": ".py",
   "mimetype": "text/x-python",
   "name": "python",
   "nbconvert_exporter": "python",
   "pygments_lexer": "ipython3",
   "version": "3.9.13"
  }
 },
 "nbformat": 4,
 "nbformat_minor": 5
}
