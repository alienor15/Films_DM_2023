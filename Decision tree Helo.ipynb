{
 "cells": [
  {
   "cell_type": "code",
   "execution_count": 33,
   "id": "cc15da5e",
   "metadata": {},
   "outputs": [],
   "source": [
    "import pandas as pd\n",
    "import os\n",
    "import sys\n",
    "from datetime import datetime\n",
    "import re\n",
    "\n",
    "import numpy as np\n",
    "import pandas as pd\n",
    "import seaborn as sn\n",
    "import matplotlib.pyplot as plt\n",
    "from mizani.formatters import percent_format\n",
    "from plotnine import *\n",
    "\n",
    "import numpy as np\n",
    "import pandas as pd\n",
    "#import patsy\n",
    "\n",
    "#sklearn \n",
    "from sklearn.preprocessing import StandardScaler, OneHotEncoder\n",
    "#to work on the X\n",
    "#StandardScaler => standardize data (for categorical data)\n",
    "#OneHotEncoder => creates dummies using categorical variables\n",
    "from sklearn.model_selection import GridSearchCV, KFold, train_test_split\n",
    "#train_test_split => \n",
    "#KFold => more complex way to split training and test set: fit the model five times and then average the data\n",
    "#gridsearch cross validation: to search a set of hyperparameters (the model will use some hyperparameters=> alpha on the regularisation part for example=> search through different para and get the best one)\n",
    "from sklearn.linear_model import LogisticRegression, LogisticRegressionCV\n",
    "#import regression logistic and the one with some crossvalidation in it (LogisticRegressionCV)\n",
    "from sklearn.pipeline import Pipeline\n",
    "#like a box => quite graphical \n",
    "from sklearn.metrics import roc_curve, roc_auc_score, classification_report, accuracy_score, confusion_matrix \n",
    "#metrics\n",
    "import seaborn as sns\n",
    "import matplotlib.pyplot as plt\n",
    "from sklearn.impute import SimpleImputer\n",
    "from sklearn.tree import DecisionTreeClassifier\n",
    "from sklearn import tree\n",
    "from sklearn.tree import plot_tree"
   ]
  },
  {
   "cell_type": "code",
   "execution_count": 2,
   "id": "9d991269",
   "metadata": {},
   "outputs": [
    {
     "data": {
      "text/html": [
       "<div>\n",
       "<style scoped>\n",
       "    .dataframe tbody tr th:only-of-type {\n",
       "        vertical-align: middle;\n",
       "    }\n",
       "\n",
       "    .dataframe tbody tr th {\n",
       "        vertical-align: top;\n",
       "    }\n",
       "\n",
       "    .dataframe thead th {\n",
       "        text-align: right;\n",
       "    }\n",
       "</style>\n",
       "<table border=\"1\" class=\"dataframe\">\n",
       "  <thead>\n",
       "    <tr style=\"text-align: right;\">\n",
       "      <th></th>\n",
       "      <th>Titre</th>\n",
       "      <th>genre1</th>\n",
       "      <th>genre2</th>\n",
       "      <th>réalisateur_1</th>\n",
       "      <th>actor_1</th>\n",
       "      <th>actor 2</th>\n",
       "      <th>actor 3</th>\n",
       "      <th>note_presse</th>\n",
       "      <th>note_spectators</th>\n",
       "      <th>Scenar</th>\n",
       "      <th>...</th>\n",
       "      <th>language</th>\n",
       "      <th>real awards</th>\n",
       "      <th>first actor awards</th>\n",
       "      <th>Second actor awards</th>\n",
       "      <th>length_corrected</th>\n",
       "      <th>day</th>\n",
       "      <th>month</th>\n",
       "      <th>year</th>\n",
       "      <th>nomi</th>\n",
       "      <th>awards</th>\n",
       "    </tr>\n",
       "  </thead>\n",
       "  <tbody>\n",
       "    <tr>\n",
       "      <th>0</th>\n",
       "      <td>#No_Filter</td>\n",
       "      <td>Epouvante-horreur</td>\n",
       "      <td>Thriller</td>\n",
       "      <td>Michael Dupret</td>\n",
       "      <td>Hannah McIver</td>\n",
       "      <td>Jasmine Daoud</td>\n",
       "      <td>Samuel Van der Zwalmen</td>\n",
       "      <td>NaN</td>\n",
       "      <td>bad</td>\n",
       "      <td>NaN</td>\n",
       "      <td>...</td>\n",
       "      <td>Anglais</td>\n",
       "      <td>0.0</td>\n",
       "      <td>0.0</td>\n",
       "      <td>0.0</td>\n",
       "      <td>87</td>\n",
       "      <td>5</td>\n",
       "      <td>mai</td>\n",
       "      <td>2023</td>\n",
       "      <td>0</td>\n",
       "      <td>0</td>\n",
       "    </tr>\n",
       "    <tr>\n",
       "      <th>1</th>\n",
       "      <td>13 : La comédie musicale</td>\n",
       "      <td>Drame</td>\n",
       "      <td>Famille</td>\n",
       "      <td>Tamra Davis</td>\n",
       "      <td>Eli Golden</td>\n",
       "      <td>Josh Peck</td>\n",
       "      <td>Debra Messing</td>\n",
       "      <td>NaN</td>\n",
       "      <td>soso</td>\n",
       "      <td>Robert Horn</td>\n",
       "      <td>...</td>\n",
       "      <td>Anglais</td>\n",
       "      <td>1.0</td>\n",
       "      <td>0.0</td>\n",
       "      <td>0.0</td>\n",
       "      <td>94</td>\n",
       "      <td>12</td>\n",
       "      <td>août</td>\n",
       "      <td>2022</td>\n",
       "      <td>0</td>\n",
       "      <td>0</td>\n",
       "    </tr>\n",
       "    <tr>\n",
       "      <th>2</th>\n",
       "      <td>16 ans</td>\n",
       "      <td>Drame</td>\n",
       "      <td>Romance</td>\n",
       "      <td>Philippe Lioret</td>\n",
       "      <td>Sabrina Levoye</td>\n",
       "      <td>Teïlo Azaïs</td>\n",
       "      <td>Jean-Pierre Lorit</td>\n",
       "      <td>3,2</td>\n",
       "      <td>good</td>\n",
       "      <td>Philippe Lioret</td>\n",
       "      <td>...</td>\n",
       "      <td>Français</td>\n",
       "      <td>4.0</td>\n",
       "      <td>0.0</td>\n",
       "      <td>0.0</td>\n",
       "      <td>94</td>\n",
       "      <td>4</td>\n",
       "      <td>janvier</td>\n",
       "      <td>2023</td>\n",
       "      <td>1</td>\n",
       "      <td>0</td>\n",
       "    </tr>\n",
       "    <tr>\n",
       "      <th>3</th>\n",
       "      <td>1UP</td>\n",
       "      <td>Comédie</td>\n",
       "      <td>NaN</td>\n",
       "      <td>Kyle Newman</td>\n",
       "      <td>Paris Berelc</td>\n",
       "      <td>Taylor Zakhar Perez</td>\n",
       "      <td>Ruby Rose</td>\n",
       "      <td>NaN</td>\n",
       "      <td>soso</td>\n",
       "      <td>Julia Yorks</td>\n",
       "      <td>...</td>\n",
       "      <td>Anglais</td>\n",
       "      <td>0.0</td>\n",
       "      <td>0.0</td>\n",
       "      <td>0.0</td>\n",
       "      <td>100</td>\n",
       "      <td>15</td>\n",
       "      <td>juillet</td>\n",
       "      <td>2022</td>\n",
       "      <td>0</td>\n",
       "      <td>0</td>\n",
       "    </tr>\n",
       "    <tr>\n",
       "      <th>4</th>\n",
       "      <td>365 jours : Au lendemain</td>\n",
       "      <td>Drame</td>\n",
       "      <td>Erotique</td>\n",
       "      <td>Barbara Bialowas</td>\n",
       "      <td>Michele Morrone</td>\n",
       "      <td>Anna-Maria Sieklucka</td>\n",
       "      <td>Simone Susinna</td>\n",
       "      <td>NaN</td>\n",
       "      <td>bad</td>\n",
       "      <td>Tomasz Mandes</td>\n",
       "      <td>...</td>\n",
       "      <td>Anglais</td>\n",
       "      <td>0.0</td>\n",
       "      <td>0.0</td>\n",
       "      <td>0.0</td>\n",
       "      <td>106</td>\n",
       "      <td>27</td>\n",
       "      <td>avril</td>\n",
       "      <td>2022</td>\n",
       "      <td>2</td>\n",
       "      <td>0</td>\n",
       "    </tr>\n",
       "    <tr>\n",
       "      <th>...</th>\n",
       "      <td>...</td>\n",
       "      <td>...</td>\n",
       "      <td>...</td>\n",
       "      <td>...</td>\n",
       "      <td>...</td>\n",
       "      <td>...</td>\n",
       "      <td>...</td>\n",
       "      <td>...</td>\n",
       "      <td>...</td>\n",
       "      <td>...</td>\n",
       "      <td>...</td>\n",
       "      <td>...</td>\n",
       "      <td>...</td>\n",
       "      <td>...</td>\n",
       "      <td>...</td>\n",
       "      <td>...</td>\n",
       "      <td>...</td>\n",
       "      <td>...</td>\n",
       "      <td>...</td>\n",
       "      <td>...</td>\n",
       "      <td>...</td>\n",
       "    </tr>\n",
       "    <tr>\n",
       "      <th>2173</th>\n",
       "      <td>Xtreme</td>\n",
       "      <td>Action</td>\n",
       "      <td>Policier</td>\n",
       "      <td>Daniel Benmayor</td>\n",
       "      <td>Teo García</td>\n",
       "      <td>Óscar Jaenada</td>\n",
       "      <td>Oscar Casas</td>\n",
       "      <td>NaN</td>\n",
       "      <td>soso</td>\n",
       "      <td>Iván Ledesma</td>\n",
       "      <td>...</td>\n",
       "      <td>Espagnol</td>\n",
       "      <td>0.0</td>\n",
       "      <td>0.0</td>\n",
       "      <td>0.0</td>\n",
       "      <td>111</td>\n",
       "      <td>4</td>\n",
       "      <td>juin</td>\n",
       "      <td>2021</td>\n",
       "      <td>0</td>\n",
       "      <td>0</td>\n",
       "    </tr>\n",
       "    <tr>\n",
       "      <th>2174</th>\n",
       "      <td>Yakuza Princess</td>\n",
       "      <td>Arts Martiaux</td>\n",
       "      <td>Thriller</td>\n",
       "      <td>Vicente Amorim</td>\n",
       "      <td>MASUMI</td>\n",
       "      <td>Jonathan Rhys-Meyers</td>\n",
       "      <td>Tsuyoshi Ihara</td>\n",
       "      <td>NaN</td>\n",
       "      <td>soso</td>\n",
       "      <td>Vicente Amorim</td>\n",
       "      <td>...</td>\n",
       "      <td>Anglais</td>\n",
       "      <td>1.0</td>\n",
       "      <td>0.0</td>\n",
       "      <td>1.0</td>\n",
       "      <td>111</td>\n",
       "      <td>15</td>\n",
       "      <td>janvier</td>\n",
       "      <td>2022</td>\n",
       "      <td>0</td>\n",
       "      <td>0</td>\n",
       "    </tr>\n",
       "    <tr>\n",
       "      <th>2175</th>\n",
       "      <td>Yara</td>\n",
       "      <td>Policier</td>\n",
       "      <td>Drame</td>\n",
       "      <td>Marco Tullio Giordana</td>\n",
       "      <td>Isabella Ragonese</td>\n",
       "      <td>Alessio Boni</td>\n",
       "      <td>Thomas Trabacchi</td>\n",
       "      <td>NaN</td>\n",
       "      <td>good</td>\n",
       "      <td>Graziano Diana</td>\n",
       "      <td>...</td>\n",
       "      <td>Italien</td>\n",
       "      <td>2.0</td>\n",
       "      <td>0.0</td>\n",
       "      <td>0.0</td>\n",
       "      <td>94</td>\n",
       "      <td>5</td>\n",
       "      <td>novembre</td>\n",
       "      <td>2021</td>\n",
       "      <td>0</td>\n",
       "      <td>0</td>\n",
       "    </tr>\n",
       "    <tr>\n",
       "      <th>2176</th>\n",
       "      <td>Yes Day</td>\n",
       "      <td>Comédie</td>\n",
       "      <td>Famille</td>\n",
       "      <td>Miguel Arteta</td>\n",
       "      <td>Jennifer Garner</td>\n",
       "      <td>Édgar Ramírez</td>\n",
       "      <td>Jenna Ortega</td>\n",
       "      <td>NaN</td>\n",
       "      <td>soso</td>\n",
       "      <td>Justin Malen</td>\n",
       "      <td>...</td>\n",
       "      <td>Anglais</td>\n",
       "      <td>10.0</td>\n",
       "      <td>1.0</td>\n",
       "      <td>2.0</td>\n",
       "      <td>86</td>\n",
       "      <td>12</td>\n",
       "      <td>mars</td>\n",
       "      <td>2021</td>\n",
       "      <td>0</td>\n",
       "      <td>0</td>\n",
       "    </tr>\n",
       "    <tr>\n",
       "      <th>2177</th>\n",
       "      <td>Yolun Açık Olsun</td>\n",
       "      <td>Drame</td>\n",
       "      <td>NaN</td>\n",
       "      <td>Mehmet Ada Öztekin</td>\n",
       "      <td>Engin Akyürek</td>\n",
       "      <td>Tolga Sarıtaş</td>\n",
       "      <td>İlker Kızmaz</td>\n",
       "      <td>NaN</td>\n",
       "      <td>good</td>\n",
       "      <td>Hakan Evrensel</td>\n",
       "      <td>...</td>\n",
       "      <td>Turc</td>\n",
       "      <td>0.0</td>\n",
       "      <td>0.0</td>\n",
       "      <td>0.0</td>\n",
       "      <td>119</td>\n",
       "      <td>23</td>\n",
       "      <td>mai</td>\n",
       "      <td>2022</td>\n",
       "      <td>0</td>\n",
       "      <td>0</td>\n",
       "    </tr>\n",
       "  </tbody>\n",
       "</table>\n",
       "<p>2178 rows × 22 columns</p>\n",
       "</div>"
      ],
      "text/plain": [
       "                         Titre             genre1    genre2  \\\n",
       "0                   #No_Filter  Epouvante-horreur  Thriller   \n",
       "1     13 : La comédie musicale              Drame   Famille   \n",
       "2                       16 ans              Drame   Romance   \n",
       "3                          1UP            Comédie       NaN   \n",
       "4     365 jours : Au lendemain              Drame  Erotique   \n",
       "...                        ...                ...       ...   \n",
       "2173                    Xtreme             Action  Policier   \n",
       "2174           Yakuza Princess      Arts Martiaux  Thriller   \n",
       "2175                      Yara           Policier     Drame   \n",
       "2176                   Yes Day            Comédie   Famille   \n",
       "2177          Yolun Açık Olsun              Drame       NaN   \n",
       "\n",
       "              réalisateur_1            actor_1               actor 2  \\\n",
       "0            Michael Dupret      Hannah McIver         Jasmine Daoud   \n",
       "1               Tamra Davis         Eli Golden             Josh Peck   \n",
       "2           Philippe Lioret     Sabrina Levoye           Teïlo Azaïs   \n",
       "3               Kyle Newman       Paris Berelc   Taylor Zakhar Perez   \n",
       "4          Barbara Bialowas    Michele Morrone  Anna-Maria Sieklucka   \n",
       "...                     ...                ...                   ...   \n",
       "2173        Daniel Benmayor         Teo García         Óscar Jaenada   \n",
       "2174         Vicente Amorim             MASUMI  Jonathan Rhys-Meyers   \n",
       "2175  Marco Tullio Giordana  Isabella Ragonese          Alessio Boni   \n",
       "2176          Miguel Arteta    Jennifer Garner         Édgar Ramírez   \n",
       "2177     Mehmet Ada Öztekin      Engin Akyürek         Tolga Sarıtaş   \n",
       "\n",
       "                     actor 3 note_presse note_spectators           Scenar  \\\n",
       "0     Samuel Van der Zwalmen         NaN             bad              NaN   \n",
       "1              Debra Messing         NaN            soso      Robert Horn   \n",
       "2          Jean-Pierre Lorit         3,2            good  Philippe Lioret   \n",
       "3                  Ruby Rose         NaN            soso      Julia Yorks   \n",
       "4             Simone Susinna         NaN             bad    Tomasz Mandes   \n",
       "...                      ...         ...             ...              ...   \n",
       "2173             Oscar Casas         NaN            soso     Iván Ledesma   \n",
       "2174          Tsuyoshi Ihara         NaN            soso   Vicente Amorim   \n",
       "2175        Thomas Trabacchi         NaN            good   Graziano Diana   \n",
       "2176            Jenna Ortega         NaN            soso     Justin Malen   \n",
       "2177            İlker Kızmaz         NaN            good   Hakan Evrensel   \n",
       "\n",
       "      ...  language real awards first actor awards  Second actor awards  \\\n",
       "0     ...   Anglais         0.0                0.0                  0.0   \n",
       "1     ...   Anglais         1.0                0.0                  0.0   \n",
       "2     ...  Français         4.0                0.0                  0.0   \n",
       "3     ...   Anglais         0.0                0.0                  0.0   \n",
       "4     ...   Anglais         0.0                0.0                  0.0   \n",
       "...   ...       ...         ...                ...                  ...   \n",
       "2173  ...  Espagnol         0.0                0.0                  0.0   \n",
       "2174  ...   Anglais         1.0                0.0                  1.0   \n",
       "2175  ...   Italien         2.0                0.0                  0.0   \n",
       "2176  ...   Anglais        10.0                1.0                  2.0   \n",
       "2177  ...      Turc         0.0                0.0                  0.0   \n",
       "\n",
       "      length_corrected  day     month  year nomi  awards  \n",
       "0                   87    5       mai  2023    0       0  \n",
       "1                   94   12      août  2022    0       0  \n",
       "2                   94    4   janvier  2023    1       0  \n",
       "3                  100   15   juillet  2022    0       0  \n",
       "4                  106   27     avril  2022    2       0  \n",
       "...                ...  ...       ...   ...  ...     ...  \n",
       "2173               111    4      juin  2021    0       0  \n",
       "2174               111   15   janvier  2022    0       0  \n",
       "2175                94    5  novembre  2021    0       0  \n",
       "2176                86   12      mars  2021    0       0  \n",
       "2177               119   23       mai  2022    0       0  \n",
       "\n",
       "[2178 rows x 22 columns]"
      ]
     },
     "execution_count": 2,
     "metadata": {},
     "output_type": "execute_result"
    }
   ],
   "source": [
    "df=pd.read_csv('films2021_2022_clean.csv', encoding='utf-8-sig',sep=\";\")\n",
    "df"
   ]
  },
  {
   "cell_type": "code",
   "execution_count": 3,
   "id": "26cc3aab",
   "metadata": {},
   "outputs": [],
   "source": [
    "df.note_spectators= df.note_spectators.replace({\"catastrophic\":0,\"bad\":0,\"soso\":0,\"good\":1,\"excellent\":1})"
   ]
  },
  {
   "cell_type": "code",
   "execution_count": 65,
   "id": "fb6dd8c8",
   "metadata": {},
   "outputs": [
    {
     "data": {
      "text/plain": [
       "0    0.608356\n",
       "1    0.391644\n",
       "Name: note_spectators, dtype: float64"
      ]
     },
     "execution_count": 65,
     "metadata": {},
     "output_type": "execute_result"
    }
   ],
   "source": [
    "df.note_spectators.value_counts(normalize=True)"
   ]
  },
  {
   "cell_type": "code",
   "execution_count": 4,
   "id": "2b9b3676",
   "metadata": {},
   "outputs": [],
   "source": [
    "y=df['note_spectators'] #default y\n",
    "X=df.drop(columns='note_spectators') #reste des données"
   ]
  },
  {
   "cell_type": "code",
   "execution_count": 5,
   "id": "4bf25a92",
   "metadata": {},
   "outputs": [],
   "source": [
    "X_train, X_test, y_train, y_test = train_test_split(X, y, random_state=42)\n",
    "#it will be set to 0.25.for the test size and 75% for train if no value specified"
   ]
  },
  {
   "cell_type": "code",
   "execution_count": 7,
   "id": "5e28101b",
   "metadata": {},
   "outputs": [
    {
     "name": "stdout",
     "output_type": "stream",
     "text": [
      "--- Total ---\n",
      "0    0.608356\n",
      "1    0.391644\n",
      "Name: note_spectators, dtype: float64\n",
      "--- Train ---\n",
      "0    0.605021\n",
      "1    0.394979\n",
      "Name: note_spectators, dtype: float64\n",
      "--- Test ---\n",
      "0    0.618349\n",
      "1    0.381651\n",
      "Name: note_spectators, dtype: float64\n"
     ]
    }
   ],
   "source": [
    "print(\"--- Total ---\")\n",
    "print(y.value_counts(normalize=True))\n",
    "#normalize = True => en %\n",
    "print(\"--- Train ---\")\n",
    "print(y_train.value_counts(normalize=True))\n",
    "print(\"--- Test ---\")\n",
    "print(y_test.value_counts(normalize=True))"
   ]
  },
  {
   "cell_type": "code",
   "execution_count": 8,
   "id": "a061d37b",
   "metadata": {},
   "outputs": [],
   "source": [
    "#We have different types of variables\n",
    "#I list variables in function of what they correspond to\n",
    "film = [\"Titre\", \"genre1\",'genre2','note_presse', \"nationality_1\",\"language\",\"length_corrected\",\"day\",\"month\",\"nomi\",\"year\"]"
   ]
  },
  {
   "cell_type": "code",
   "execution_count": 9,
   "id": "06846b3d",
   "metadata": {},
   "outputs": [],
   "source": [
    "#Related to actors\n",
    "actors = [\n",
    "    \"actor_1\",\n",
    "    \"actor 2\",\n",
    "    'actor 3',\n",
    "    \"first actor awards\",\n",
    "    \"Second actor awards\",\n",
    "]\n",
    "#Related to director and writer\n",
    "director = [\n",
    "    \"réalisateur_1\",\n",
    "    'real awards',\n",
    "    'distributor',\n",
    "    'Scenar',\n",
    "]"
   ]
  },
  {
   "cell_type": "code",
   "execution_count": 10,
   "id": "a9dfc508",
   "metadata": {},
   "outputs": [],
   "source": [
    "M2= film+actors+director"
   ]
  },
  {
   "cell_type": "code",
   "execution_count": 11,
   "id": "67aaf1a9",
   "metadata": {},
   "outputs": [],
   "source": [
    "X_train_M2=X_train[M2]\n",
    "X_test_M2 =X_test[M2]"
   ]
  },
  {
   "cell_type": "code",
   "execution_count": 12,
   "id": "4ba47539",
   "metadata": {},
   "outputs": [],
   "source": [
    "#2 dictionaries to keep the performancies\n",
    "test_accuracy={}\n",
    "test_auc_roc={}"
   ]
  },
  {
   "cell_type": "code",
   "execution_count": 36,
   "id": "d9f1bfbe",
   "metadata": {},
   "outputs": [],
   "source": [
    "dectree = tree.DecisionTreeClassifier(\n",
    "    \n",
    "    random_state=42,\n",
    ")\n",
    "#I precise lots of the hyperparameters"
   ]
  },
  {
   "cell_type": "code",
   "execution_count": 37,
   "id": "73b2b813",
   "metadata": {},
   "outputs": [
    {
     "data": {
      "text/plain": [
       "['Titre',\n",
       " 'genre1',\n",
       " 'genre2',\n",
       " 'note_presse',\n",
       " 'nationality_1',\n",
       " 'language',\n",
       " 'month',\n",
       " 'actor_1',\n",
       " 'actor 2',\n",
       " 'actor 3',\n",
       " 'réalisateur_1',\n",
       " 'distributor',\n",
       " 'Scenar']"
      ]
     },
     "execution_count": 37,
     "metadata": {},
     "output_type": "execute_result"
    }
   ],
   "source": [
    "from sklearn.compose import make_column_selector as selector\n",
    "#how I will handle the categorical and numerical vraiables\n",
    "categorical_columns_selector = selector(dtype_include=object)\n",
    "categorical_columns = categorical_columns_selector(X_train_M2)\n",
    "categorical_columns"
   ]
  },
  {
   "cell_type": "code",
   "execution_count": 38,
   "id": "226ac477",
   "metadata": {},
   "outputs": [],
   "source": [
    "categorical_transformer= Pipeline(\n",
    "    steps=[\n",
    "    ('imputer', SimpleImputer(strategy='constant', fill_value='missing')),\n",
    "    ('encoder', OneHotEncoder(handle_unknown='ignore'))]\n",
    "\n",
    ")"
   ]
  },
  {
   "cell_type": "code",
   "execution_count": 39,
   "id": "87f88698",
   "metadata": {},
   "outputs": [
    {
     "data": {
      "text/plain": [
       "['length_corrected',\n",
       " 'day',\n",
       " 'nomi',\n",
       " 'year',\n",
       " 'first actor awards',\n",
       " 'Second actor awards',\n",
       " 'real awards']"
      ]
     },
     "execution_count": 39,
     "metadata": {},
     "output_type": "execute_result"
    }
   ],
   "source": [
    "numeric_columns = [col for col in X_train_M2.columns if col not in categorical_columns]\n",
    "numeric_columns"
   ]
  },
  {
   "cell_type": "code",
   "execution_count": 40,
   "id": "09175e62",
   "metadata": {},
   "outputs": [
    {
     "data": {
      "text/plain": [
       "Pipeline(steps=[('scaler', StandardScaler())])"
      ]
     },
     "execution_count": 40,
     "metadata": {},
     "output_type": "execute_result"
    }
   ],
   "source": [
    "numeric_transformer= Pipeline(\n",
    "    steps=[(\"scaler\", StandardScaler())]\n",
    ")\n",
    "numeric_transformer"
   ]
  },
  {
   "cell_type": "code",
   "execution_count": 41,
   "id": "574789b8",
   "metadata": {},
   "outputs": [
    {
     "data": {
      "text/plain": [
       "ColumnTransformer(transformers=[('num',\n",
       "                                 Pipeline(steps=[('scaler', StandardScaler())]),\n",
       "                                 ['length_corrected', 'day', 'nomi', 'year',\n",
       "                                  'first actor awards', 'Second actor awards',\n",
       "                                  'real awards']),\n",
       "                                ('cat',\n",
       "                                 Pipeline(steps=[('imputer',\n",
       "                                                  SimpleImputer(fill_value='missing',\n",
       "                                                                strategy='constant')),\n",
       "                                                 ('encoder',\n",
       "                                                  OneHotEncoder(handle_unknown='ignore'))]),\n",
       "                                 ['Titre', 'genre1', 'genre2', 'note_presse',\n",
       "                                  'nationality_1', 'language', 'month',\n",
       "                                  'actor_1', 'actor 2', 'actor 3',\n",
       "                                  'réalisateur_1', 'distributor', 'Scenar'])])"
      ]
     },
     "execution_count": 41,
     "metadata": {},
     "output_type": "execute_result"
    }
   ],
   "source": [
    "from sklearn.compose import ColumnTransformer\n",
    "preprocessor = ColumnTransformer(\n",
    "    transformers=[\n",
    "        (\"num\", numeric_transformer, numeric_columns),\n",
    "        (\"cat\", categorical_transformer, categorical_columns),    \n",
    "]\n",
    ")\n",
    "preprocessor"
   ]
  },
  {
   "cell_type": "code",
   "execution_count": 67,
   "id": "176c93d0",
   "metadata": {},
   "outputs": [
    {
     "data": {
      "text/plain": [
       "Pipeline(steps=[('preprocessor',\n",
       "                 ColumnTransformer(transformers=[('num',\n",
       "                                                  Pipeline(steps=[('scaler',\n",
       "                                                                   StandardScaler())]),\n",
       "                                                  ['length_corrected', 'day',\n",
       "                                                   'nomi', 'year',\n",
       "                                                   'first actor awards',\n",
       "                                                   'Second actor awards',\n",
       "                                                   'real awards']),\n",
       "                                                 ('cat',\n",
       "                                                  Pipeline(steps=[('imputer',\n",
       "                                                                   SimpleImputer(fill_value='missing',\n",
       "                                                                                 strategy='constant')),\n",
       "                                                                  ('encoder',\n",
       "                                                                   OneHotEncoder(handle_unknown='ignore'))]),\n",
       "                                                  ['Titre', 'genre1', 'genre2',\n",
       "                                                   'note_presse',\n",
       "                                                   'nationality_1', 'language',\n",
       "                                                   'month', 'actor_1',\n",
       "                                                   'actor 2', 'actor 3',\n",
       "                                                   'réalisateur_1',\n",
       "                                                   'distributor',\n",
       "                                                   'Scenar'])])),\n",
       "                ('classifier', DecisionTreeClassifier(random_state=42))])"
      ]
     },
     "execution_count": 67,
     "metadata": {},
     "output_type": "execute_result"
    }
   ],
   "source": [
    "#Append classifier to preprocessing pipeline. Now we have a full prediction pipeline.\n",
    "Dec_tree_M2 = Pipeline(\n",
    "    steps=[(\"preprocessor\", preprocessor), (\"classifier\", dectree)]\n",
    ")\n",
    "Dec_tree_M2"
   ]
  },
  {
   "cell_type": "code",
   "execution_count": null,
   "id": "d2d1855c",
   "metadata": {},
   "outputs": [],
   "source": []
  },
  {
   "cell_type": "code",
   "execution_count": 57,
   "id": "66778791",
   "metadata": {},
   "outputs": [],
   "source": [
    "Dectree = Dec_tree_M2.fit(X_train_M2, y_train)"
   ]
  },
  {
   "cell_type": "code",
   "execution_count": 58,
   "id": "43e8a3d7",
   "metadata": {},
   "outputs": [
    {
     "name": "stdout",
     "output_type": "stream",
     "text": [
      "Confusion matrix:\n",
      " [[252  85]\n",
      " [ 97 111]]\n",
      "Testing AUC: 64.0714 %\n",
      "Testing accuracy: 66.6055 %\n"
     ]
    }
   ],
   "source": [
    "y_test_hat = Dec_tree_M2.predict(X_test_M2)\n",
    "y_test_hat_probs = Dec_tree_M2.predict_proba(X_test_M2)[:,1]\n",
    "\n",
    "test_accuracy['tree_m2'] = accuracy_score(y_test, y_test_hat)*100\n",
    "test_auc_roc['tree_m2'] = roc_auc_score(y_test, y_test_hat_probs)*100\n",
    "\n",
    "print('Confusion matrix:\\n', confusion_matrix(y_test, y_test_hat))\n",
    "print('Testing AUC: %.4f %%' % test_auc_roc['tree_m2'])\n",
    "print('Testing accuracy: %.4f %%' % test_accuracy['tree_m2']) "
   ]
  },
  {
   "cell_type": "code",
   "execution_count": 60,
   "id": "dc074ba5",
   "metadata": {},
   "outputs": [
    {
     "data": {
      "text/plain": [
       "Pipeline(steps=[('preprocessor',\n",
       "                 ColumnTransformer(transformers=[('num',\n",
       "                                                  Pipeline(steps=[('scaler',\n",
       "                                                                   StandardScaler())]),\n",
       "                                                  ['length_corrected', 'day',\n",
       "                                                   'nomi', 'year',\n",
       "                                                   'first actor awards',\n",
       "                                                   'Second actor awards',\n",
       "                                                   'real awards']),\n",
       "                                                 ('cat',\n",
       "                                                  Pipeline(steps=[('imputer',\n",
       "                                                                   SimpleImputer(fill_value='missing',\n",
       "                                                                                 strategy='constant')),\n",
       "                                                                  ('encoder',\n",
       "                                                                   OneHotEncoder(handle_unknown='ignore'))]),\n",
       "                                                  ['Titre', 'genre1', 'genre2',\n",
       "                                                   'note_presse',\n",
       "                                                   'nationality_1', 'language',\n",
       "                                                   'month', 'actor_1',\n",
       "                                                   'actor 2', 'actor 3',\n",
       "                                                   'réalisateur_1',\n",
       "                                                   'distributor',\n",
       "                                                   'Scenar'])])),\n",
       "                ('classifier', DecisionTreeClassifier(random_state=42))])"
      ]
     },
     "execution_count": 60,
     "metadata": {},
     "output_type": "execute_result"
    }
   ],
   "source": [
    "Dectree"
   ]
  },
  {
   "cell_type": "code",
   "execution_count": 63,
   "id": "9206094f",
   "metadata": {},
   "outputs": [
    {
     "ename": "AttributeError",
     "evalue": "'Pipeline' object has no attribute 'tree_'",
     "output_type": "error",
     "traceback": [
      "\u001b[1;31m---------------------------------------------------------------------------\u001b[0m",
      "\u001b[1;31mAttributeError\u001b[0m                            Traceback (most recent call last)",
      "\u001b[1;32m~\\AppData\\Local\\Temp\\ipykernel_319772\\652939371.py\u001b[0m in \u001b[0;36m<module>\u001b[1;34m\u001b[0m\n\u001b[0;32m      1\u001b[0m \u001b[0mdtree\u001b[0m \u001b[1;33m=\u001b[0m \u001b[0mplt\u001b[0m\u001b[1;33m.\u001b[0m\u001b[0mfigure\u001b[0m\u001b[1;33m(\u001b[0m\u001b[0mfigsize\u001b[0m\u001b[1;33m=\u001b[0m\u001b[1;33m(\u001b[0m\u001b[1;36m10\u001b[0m\u001b[1;33m,\u001b[0m \u001b[1;36m8\u001b[0m\u001b[1;33m)\u001b[0m\u001b[1;33m)\u001b[0m\u001b[1;33m\u001b[0m\u001b[1;33m\u001b[0m\u001b[0m\n\u001b[1;32m----> 2\u001b[1;33m \u001b[0mplot_tree\u001b[0m\u001b[1;33m(\u001b[0m\u001b[0mDectree\u001b[0m\u001b[1;33m,\u001b[0m \u001b[0mfeature_names\u001b[0m\u001b[1;33m=\u001b[0m\u001b[0mX\u001b[0m\u001b[1;33m.\u001b[0m\u001b[0mcolumns\u001b[0m\u001b[1;33m,\u001b[0m \u001b[0mfilled\u001b[0m\u001b[1;33m=\u001b[0m\u001b[1;32mTrue\u001b[0m\u001b[1;33m,\u001b[0m \u001b[0mrounded\u001b[0m\u001b[1;33m=\u001b[0m\u001b[1;32mTrue\u001b[0m\u001b[1;33m,\u001b[0m \u001b[0mprecision\u001b[0m\u001b[1;33m=\u001b[0m\u001b[1;36m4\u001b[0m\u001b[1;33m)\u001b[0m\u001b[1;33m\u001b[0m\u001b[1;33m\u001b[0m\u001b[0m\n\u001b[0m\u001b[0;32m      3\u001b[0m \u001b[0mdtree\u001b[0m\u001b[1;33m.\u001b[0m\u001b[0msavefig\u001b[0m\u001b[1;33m(\u001b[0m\u001b[1;34m'tree.pdf'\u001b[0m\u001b[1;33m)\u001b[0m\u001b[1;33m\u001b[0m\u001b[1;33m\u001b[0m\u001b[0m\n\u001b[0;32m      4\u001b[0m \u001b[0mplt\u001b[0m\u001b[1;33m.\u001b[0m\u001b[0mshow\u001b[0m\u001b[1;33m(\u001b[0m\u001b[1;33m)\u001b[0m\u001b[1;33m\u001b[0m\u001b[1;33m\u001b[0m\u001b[0m\n",
      "\u001b[1;32m~\\anaconda3\\lib\\site-packages\\sklearn\\tree\\_export.py\u001b[0m in \u001b[0;36mplot_tree\u001b[1;34m(decision_tree, max_depth, feature_names, class_names, label, filled, impurity, node_ids, proportion, rounded, precision, ax, fontsize)\u001b[0m\n\u001b[0;32m    193\u001b[0m         \u001b[0mfontsize\u001b[0m\u001b[1;33m=\u001b[0m\u001b[0mfontsize\u001b[0m\u001b[1;33m,\u001b[0m\u001b[1;33m\u001b[0m\u001b[1;33m\u001b[0m\u001b[0m\n\u001b[0;32m    194\u001b[0m     )\n\u001b[1;32m--> 195\u001b[1;33m     \u001b[1;32mreturn\u001b[0m \u001b[0mexporter\u001b[0m\u001b[1;33m.\u001b[0m\u001b[0mexport\u001b[0m\u001b[1;33m(\u001b[0m\u001b[0mdecision_tree\u001b[0m\u001b[1;33m,\u001b[0m \u001b[0max\u001b[0m\u001b[1;33m=\u001b[0m\u001b[0max\u001b[0m\u001b[1;33m)\u001b[0m\u001b[1;33m\u001b[0m\u001b[1;33m\u001b[0m\u001b[0m\n\u001b[0m\u001b[0;32m    196\u001b[0m \u001b[1;33m\u001b[0m\u001b[0m\n\u001b[0;32m    197\u001b[0m \u001b[1;33m\u001b[0m\u001b[0m\n",
      "\u001b[1;32m~\\anaconda3\\lib\\site-packages\\sklearn\\tree\\_export.py\u001b[0m in \u001b[0;36mexport\u001b[1;34m(self, decision_tree, ax)\u001b[0m\n\u001b[0;32m    654\u001b[0m         \u001b[0max\u001b[0m\u001b[1;33m.\u001b[0m\u001b[0mclear\u001b[0m\u001b[1;33m(\u001b[0m\u001b[1;33m)\u001b[0m\u001b[1;33m\u001b[0m\u001b[1;33m\u001b[0m\u001b[0m\n\u001b[0;32m    655\u001b[0m         \u001b[0max\u001b[0m\u001b[1;33m.\u001b[0m\u001b[0mset_axis_off\u001b[0m\u001b[1;33m(\u001b[0m\u001b[1;33m)\u001b[0m\u001b[1;33m\u001b[0m\u001b[1;33m\u001b[0m\u001b[0m\n\u001b[1;32m--> 656\u001b[1;33m         \u001b[0mmy_tree\u001b[0m \u001b[1;33m=\u001b[0m \u001b[0mself\u001b[0m\u001b[1;33m.\u001b[0m\u001b[0m_make_tree\u001b[0m\u001b[1;33m(\u001b[0m\u001b[1;36m0\u001b[0m\u001b[1;33m,\u001b[0m \u001b[0mdecision_tree\u001b[0m\u001b[1;33m.\u001b[0m\u001b[0mtree_\u001b[0m\u001b[1;33m,\u001b[0m \u001b[0mdecision_tree\u001b[0m\u001b[1;33m.\u001b[0m\u001b[0mcriterion\u001b[0m\u001b[1;33m)\u001b[0m\u001b[1;33m\u001b[0m\u001b[1;33m\u001b[0m\u001b[0m\n\u001b[0m\u001b[0;32m    657\u001b[0m         \u001b[0mdraw_tree\u001b[0m \u001b[1;33m=\u001b[0m \u001b[0mbuchheim\u001b[0m\u001b[1;33m(\u001b[0m\u001b[0mmy_tree\u001b[0m\u001b[1;33m)\u001b[0m\u001b[1;33m\u001b[0m\u001b[1;33m\u001b[0m\u001b[0m\n\u001b[0;32m    658\u001b[0m \u001b[1;33m\u001b[0m\u001b[0m\n",
      "\u001b[1;31mAttributeError\u001b[0m: 'Pipeline' object has no attribute 'tree_'"
     ]
    },
    {
     "data": {
      "image/png": "[encoded data removed]",
      "text/plain": [
       "<Figure size 1000x800 with 1 Axes>"
      ]
     },
     "metadata": {},
     "output_type": "display_data"
    }
   ],
   "source": [
    "dtree = plt.figure(figsize=(10, 8))\n",
    "plot_tree(Dectree, feature_names=X.columns, filled=True, rounded=True, precision=4)\n",
    "dtree.savefig('tree.pdf')\n",
    "plt.show()"
   ]
  },
  {
   "cell_type": "code",
   "execution_count": 59,
   "id": "120999d3",
   "metadata": {},
   "outputs": [
    {
     "ename": "AttributeError",
     "evalue": "'Pipeline' object has no attribute 'tree_'",
     "output_type": "error",
     "traceback": [
      "\u001b[1;31m---------------------------------------------------------------------------\u001b[0m",
      "\u001b[1;31mAttributeError\u001b[0m                            Traceback (most recent call last)",
      "\u001b[1;32m~\\AppData\\Local\\Temp\\ipykernel_319772\\3704571574.py\u001b[0m in \u001b[0;36m<module>\u001b[1;34m\u001b[0m\n\u001b[1;32m----> 1\u001b[1;33m \u001b[0mTree\u001b[0m \u001b[1;33m=\u001b[0m \u001b[0mtree\u001b[0m\u001b[1;33m.\u001b[0m\u001b[0mplot_tree\u001b[0m\u001b[1;33m(\u001b[0m\u001b[0mDectree\u001b[0m\u001b[1;33m)\u001b[0m\u001b[1;33m\u001b[0m\u001b[1;33m\u001b[0m\u001b[0m\n\u001b[0m",
      "\u001b[1;32m~\\anaconda3\\lib\\site-packages\\sklearn\\tree\\_export.py\u001b[0m in \u001b[0;36mplot_tree\u001b[1;34m(decision_tree, max_depth, feature_names, class_names, label, filled, impurity, node_ids, proportion, rounded, precision, ax, fontsize)\u001b[0m\n\u001b[0;32m    193\u001b[0m         \u001b[0mfontsize\u001b[0m\u001b[1;33m=\u001b[0m\u001b[0mfontsize\u001b[0m\u001b[1;33m,\u001b[0m\u001b[1;33m\u001b[0m\u001b[1;33m\u001b[0m\u001b[0m\n\u001b[0;32m    194\u001b[0m     )\n\u001b[1;32m--> 195\u001b[1;33m     \u001b[1;32mreturn\u001b[0m \u001b[0mexporter\u001b[0m\u001b[1;33m.\u001b[0m\u001b[0mexport\u001b[0m\u001b[1;33m(\u001b[0m\u001b[0mdecision_tree\u001b[0m\u001b[1;33m,\u001b[0m \u001b[0max\u001b[0m\u001b[1;33m=\u001b[0m\u001b[0max\u001b[0m\u001b[1;33m)\u001b[0m\u001b[1;33m\u001b[0m\u001b[1;33m\u001b[0m\u001b[0m\n\u001b[0m\u001b[0;32m    196\u001b[0m \u001b[1;33m\u001b[0m\u001b[0m\n\u001b[0;32m    197\u001b[0m \u001b[1;33m\u001b[0m\u001b[0m\n",
      "\u001b[1;32m~\\anaconda3\\lib\\site-packages\\sklearn\\tree\\_export.py\u001b[0m in \u001b[0;36mexport\u001b[1;34m(self, decision_tree, ax)\u001b[0m\n\u001b[0;32m    654\u001b[0m         \u001b[0max\u001b[0m\u001b[1;33m.\u001b[0m\u001b[0mclear\u001b[0m\u001b[1;33m(\u001b[0m\u001b[1;33m)\u001b[0m\u001b[1;33m\u001b[0m\u001b[1;33m\u001b[0m\u001b[0m\n\u001b[0;32m    655\u001b[0m         \u001b[0max\u001b[0m\u001b[1;33m.\u001b[0m\u001b[0mset_axis_off\u001b[0m\u001b[1;33m(\u001b[0m\u001b[1;33m)\u001b[0m\u001b[1;33m\u001b[0m\u001b[1;33m\u001b[0m\u001b[0m\n\u001b[1;32m--> 656\u001b[1;33m         \u001b[0mmy_tree\u001b[0m \u001b[1;33m=\u001b[0m \u001b[0mself\u001b[0m\u001b[1;33m.\u001b[0m\u001b[0m_make_tree\u001b[0m\u001b[1;33m(\u001b[0m\u001b[1;36m0\u001b[0m\u001b[1;33m,\u001b[0m \u001b[0mdecision_tree\u001b[0m\u001b[1;33m.\u001b[0m\u001b[0mtree_\u001b[0m\u001b[1;33m,\u001b[0m \u001b[0mdecision_tree\u001b[0m\u001b[1;33m.\u001b[0m\u001b[0mcriterion\u001b[0m\u001b[1;33m)\u001b[0m\u001b[1;33m\u001b[0m\u001b[1;33m\u001b[0m\u001b[0m\n\u001b[0m\u001b[0;32m    657\u001b[0m         \u001b[0mdraw_tree\u001b[0m \u001b[1;33m=\u001b[0m \u001b[0mbuchheim\u001b[0m\u001b[1;33m(\u001b[0m\u001b[0mmy_tree\u001b[0m\u001b[1;33m)\u001b[0m\u001b[1;33m\u001b[0m\u001b[1;33m\u001b[0m\u001b[0m\n\u001b[0;32m    658\u001b[0m \u001b[1;33m\u001b[0m\u001b[0m\n",
      "\u001b[1;31mAttributeError\u001b[0m: 'Pipeline' object has no attribute 'tree_'"
     ]
    },
    {
     "data": {
      "image/png": "[encoded data removed]",
      "text/plain": [
       "<Figure size 640x480 with 1 Axes>"
      ]
     },
     "metadata": {},
     "output_type": "display_data"
    }
   ],
   "source": [
    "Tree = tree.plot_tree(Dectree)"
   ]
  },
  {
   "cell_type": "code",
   "execution_count": null,
   "id": "b1cd3b6e",
   "metadata": {},
   "outputs": [],
   "source": []
  }
 ],
 "metadata": {
  "kernelspec": {
   "display_name": "Python 3 (ipykernel)",
   "language": "python",
   "name": "python3"
  },
  "language_info": {
   "codemirror_mode": {
    "name": "ipython",
    "version": 3
   },
   "file_extension": ".py",
   "mimetype": "text/x-python",
   "name": "python",
   "nbconvert_exporter": "python",
   "pygments_lexer": "ipython3",
   "version": "3.9.13"
  }
 },
 "nbformat": 4,
 "nbformat_minor": 5
}
